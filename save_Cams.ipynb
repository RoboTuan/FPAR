{
  "nbformat": 4,
  "nbformat_minor": 0,
  "metadata": {
    "colab": {
      "name": "save_Cams.ipynb",
      "provenance": [],
      "include_colab_link": true
    },
    "kernelspec": {
      "name": "python3",
      "display_name": "Python 3"
    },
    "accelerator": "GPU"
  },
  "cells": [
    {
      "cell_type": "markdown",
      "metadata": {
        "id": "view-in-github",
        "colab_type": "text"
      },
      "source": [
        "<a href=\"https://colab.research.google.com/github/RoboTuan/FPAR/blob/master/save_Cams.ipynb\" target=\"_parent\"><img src=\"https://colab.research.google.com/assets/colab-badge.svg\" alt=\"Open In Colab\"/></a>"
      ]
    },
    {
      "cell_type": "code",
      "metadata": {
        "id": "DZe5ThxivkJP"
      },
      "source": [
        "import torch\r\n",
        "import torchvision\r\n",
        "import torchvision.transforms as transforms\r\n",
        "import torch.nn as nn\r\n",
        "import torch.optim as optim\r\n",
        "from torch.utils.data import Subset, DataLoader\r\n",
        "from torch.backends import cudnn\r\n",
        "import tensorflow as tf\r\n",
        "import torchvision\r\n",
        "import numpy as np\r\n",
        "from torchvision import transforms\r\n",
        "import cv2\r\n",
        "\r\n",
        "from PIL import Image\r\n"
      ],
      "execution_count": 1,
      "outputs": []
    },
    {
      "cell_type": "code",
      "metadata": {
        "colab": {
          "base_uri": "https://localhost:8080/"
        },
        "id": "NR59gOn7vzhN",
        "outputId": "1a879b87-5462-4de2-d245-fcd9b52c4a4b"
      },
      "source": [
        "from google.colab import drive\r\n",
        "drive.mount('/content/drive')"
      ],
      "execution_count": 2,
      "outputs": [
        {
          "output_type": "stream",
          "text": [
            "Mounted at /content/drive\n"
          ],
          "name": "stdout"
        }
      ]
    },
    {
      "cell_type": "code",
      "metadata": {
        "id": "stjLDwXjv0R4"
      },
      "source": [
        "!unzip -q \"./drive/My Drive/GTEA61.zip\"\r\n",
        "!rm -rf \"./__MACOSX\""
      ],
      "execution_count": 3,
      "outputs": []
    },
    {
      "cell_type": "code",
      "metadata": {
        "id": "yBvmuXzOv0ZL"
      },
      "source": [
        "!rm -rf \"./ML_DL_Project\""
      ],
      "execution_count": 4,
      "outputs": []
    },
    {
      "cell_type": "code",
      "metadata": {
        "colab": {
          "base_uri": "https://localhost:8080/"
        },
        "id": "eBfDhQaBv27c",
        "outputId": "954c8f18-23fb-4b8e-ed15-4816128b2e72"
      },
      "source": [
        "import os \r\n",
        "if not os.path.isdir('./ML_DL_Project'):\r\n",
        "  !git clone https://github.com/RoboTuan/ML_DL_Project.git"
      ],
      "execution_count": 5,
      "outputs": [
        {
          "output_type": "stream",
          "text": [
            "Cloning into 'ML_DL_Project'...\n",
            "remote: Enumerating objects: 196, done.\u001b[K\n",
            "remote: Counting objects: 100% (196/196), done.\u001b[K\n",
            "remote: Compressing objects: 100% (134/134), done.\u001b[K\n",
            "remote: Total 1357 (delta 136), reused 116 (delta 62), pack-reused 1161\u001b[K\n",
            "Receiving objects: 100% (1357/1357), 85.77 MiB | 41.64 MiB/s, done.\n",
            "Resolving deltas: 100% (947/947), done.\n"
          ],
          "name": "stdout"
        }
      ]
    },
    {
      "cell_type": "code",
      "metadata": {
        "id": "bBteKB23H3OF"
      },
      "source": [
        "from ML_DL_Project.Scripts.objectAttentionModelConvLSTM import *\r\n",
        "\r\n",
        "from ML_DL_Project.Scripts.attentionMapModel import attentionMap\r\n",
        "from ML_DL_Project.Scripts.twoStreamModel import *\r\n",
        "from ML_DL_Project.Scripts.attentionModelLSTA import *"
      ],
      "execution_count": 50,
      "outputs": []
    },
    {
      "cell_type": "code",
      "metadata": {
        "colab": {
          "base_uri": "https://localhost:8080/"
        },
        "id": "eNoQwhA5m8m-",
        "outputId": "191ddc78-27ac-46d6-fd81-d351801242dd"
      },
      "source": [
        "base_dataset = \"./GTEA61\"\n",
        "\n",
        "if not os.path.isdir('./GTEA61_val'):\n",
        "  os.makedirs(\"./GTEA61_val\")\n",
        "  os.makedirs(\"./GTEA61_val/flow_x_processed\")\n",
        "  os.makedirs(\"./GTEA61_val/flow_y_processed\")\n",
        "  os.makedirs(\"./GTEA61_val/processed_frames2\")\n",
        "  pass\n",
        "\n",
        "\n",
        "for directory in sorted(os.listdir(base_dataset)):\n",
        "  if not directory.startswith('.'):\n",
        "    directory_path = os.path.join(base_dataset, directory)\n",
        "    new_directory_path = os.path.join(\"./GTEA61_val\", directory)\n",
        "\n",
        "    for user in sorted(os.listdir(directory_path)):\n",
        "      if not user.startswith('.') and user == \"S2\":\n",
        "        current_folder = os.path.join(directory_path, user)\n",
        "        !cp -r \"{current_folder}\" \"{new_directory_path}\"\n",
        "        !rm -rf \"{current_folder}\"\n",
        "        print(current_folder)\n"
      ],
      "execution_count": 7,
      "outputs": [
        {
          "output_type": "stream",
          "text": [
            "./GTEA61/flow_x_processed/S2\n",
            "./GTEA61/flow_y_processed/S2\n",
            "./GTEA61/processed_frames2/S2\n"
          ],
          "name": "stdout"
        }
      ]
    },
    {
      "cell_type": "code",
      "metadata": {
        "id": "rb9JMljOC0XA"
      },
      "source": [
        "!rm -rf 'CAMs'"
      ],
      "execution_count": 8,
      "outputs": []
    },
    {
      "cell_type": "code",
      "metadata": {
        "id": "Um77xNoVzI8F"
      },
      "source": [
        "  if not os.path.isdir('./CAMs'):\r\n",
        "    os.makedirs('./CAMs')"
      ],
      "execution_count": 9,
      "outputs": []
    },
    {
      "cell_type": "code",
      "metadata": {
        "id": "6g1jyZTU2J7g"
      },
      "source": [
        "\r\n",
        "def takeError(examinedClass,model_path,model_type,selfsup_bool,regression_bool,twoStream,LSTA,Flow):\r\n",
        "  stackSize=1\r\n",
        "  Dataset = []\r\n",
        "  Labels = []\r\n",
        "  NumFrames = []\r\n",
        "  directory = examinedClass\r\n",
        "  # print for debugging\r\n",
        "  print(f\"directory: {directory}\")\r\n",
        "  action = directory.split('/')[-1]\r\n",
        "  if not os.path.isdir(f'./CAMs/{model_type}'):\r\n",
        "    os.makedirs(f'./CAMs/{model_type}')\r\n",
        "    os.makedirs(f'./CAMs/{model_type}/' + action)\r\n",
        "  elif not os.path.isdir(f'./CAMs/{model_type}/'+ action):\r\n",
        "    os.makedirs(f'./CAMs/{model_type}/' + action)\r\n",
        "\r\n",
        "  \r\n",
        "  for target in sorted(os.listdir(directory)):\r\n",
        "    #print(f\"target: {target}\")\r\n",
        "    if not target.startswith('.'):\r\n",
        "      #print(target)\r\n",
        "      directory1 = os.path.join(directory, target)\r\n",
        "      # print for debugging\r\n",
        "      #print(f\"directory1: {directory1}\")\r\n",
        "      insts = sorted(os.listdir(directory1))\r\n",
        "      # print for debugging\r\n",
        "      #print(f\"insts: {insts}\")\r\n",
        "      #insts = insts + \"/rgb\"\r\n",
        "      inst_dir= os.path.join(directory1,insts[1])\r\n",
        "      #print(f\"inst_dir {inst_dir}\")\r\n",
        "\r\n",
        "\r\n",
        "      for image in sorted(os.listdir(inst_dir)):\r\n",
        "        image_path= os.path.join(inst_dir, image)\r\n",
        "        #print(f\"image_path :{image_path}\")\r\n",
        "\r\n",
        "        ###################################################################\r\n",
        "        num_classes = 61 # Classes in the pre-trained model\r\n",
        "        mem_size = 512\r\n",
        "        model_state_dict = model_path # Weights of the pre-trained model\r\n",
        "\r\n",
        "        if (selfsup_bool == True):\r\n",
        "          model = SelfSupAttentionModel(num_classes=num_classes, mem_size=mem_size, REGRESSOR=regression_bool,Flow=Flow)\r\n",
        "          model.load_state_dict(torch.load(model_state_dict))\r\n",
        "          model_backbone = model.resNet      \r\n",
        "        else:\r\n",
        "          if (twoStream==True):\r\n",
        "            model= twoStreamAttentionModel(LSTA=LSTA, c_cam_classes=100)\r\n",
        "            model.load_state_dict(torch.load(model_state_dict))\r\n",
        "            model_backbone = model.frameModel.resNet\r\n",
        "            \r\n",
        "          else:\r\n",
        "            if (LSTA==True):\r\n",
        "              model=attentionModelLSTA(num_classes=61,c_cam_classes=100)\r\n",
        "            else:\r\n",
        "              model = attentionModel(num_classes=num_classes, mem_size=mem_size)\r\n",
        "            model.load_state_dict(torch.load(model_state_dict))\r\n",
        "            model_backbone = model.resNet\r\n",
        "       \r\n",
        "        \r\n",
        "        attentionMapModel = attentionMap(model_backbone).cuda()\r\n",
        "        attentionMapModel.train(False)\r\n",
        "        for params in attentionMapModel.parameters():\r\n",
        "            params.requires_grad = False\r\n",
        "        ###################################################################\r\n",
        "\r\n",
        "        normalize = transforms.Normalize(\r\n",
        "          mean=[0.485, 0.456, 0.406],\r\n",
        "          std=[0.229, 0.224, 0.225]\r\n",
        "        )\r\n",
        "        preprocess1 = transforms.Compose([\r\n",
        "          transforms.Scale(256),\r\n",
        "          transforms.CenterCrop(224),\r\n",
        "        ])\r\n",
        "\r\n",
        "        preprocess2 = transforms.Compose([\r\n",
        "            transforms.ToTensor(),\r\n",
        "            normalize])\r\n",
        "\r\n",
        "\r\n",
        "        fl_name_in = image_path\r\n",
        "        #print(f\"fl_name_in :{fl_name_in}\")\r\n",
        "        fl_name_out = \"./CAMs/{}/{}/{}_{}.jpg\".format(model_type,action, str(target),fl_name_in.split('/')[-1].split('.')[0])\r\n",
        "        #print(f\"fl_name_out :{fl_name_out}\")\r\n",
        "        img_pil = Image.open(fl_name_in)\r\n",
        "        img_pil1 = preprocess1(img_pil)\r\n",
        "        img_size = img_pil1.size\r\n",
        "        size_upsample = (img_size[0], img_size[1])\r\n",
        "        img_tensor = preprocess2(img_pil1)\r\n",
        "        img_variable = Variable(img_tensor.unsqueeze(0).cuda())\r\n",
        "        img = np.asarray(img_pil1)\r\n",
        "        attentionMap_image = attentionMapModel(img_variable, img, size_upsample)\r\n",
        "        cv2.imwrite(fl_name_out, attentionMap_image)\r\n",
        "\r\n"
      ],
      "execution_count": 61,
      "outputs": []
    },
    {
      "cell_type": "markdown",
      "metadata": {
        "id": "aaHXoYv5x8iP"
      },
      "source": [
        "## RGB MODEL"
      ]
    },
    {
      "cell_type": "code",
      "metadata": {
        "colab": {
          "base_uri": "https://localhost:8080/"
        },
        "id": "q4Mw9yqRxd_R",
        "outputId": "92499e24-e9b5-43ff-9142-81e55c248681"
      },
      "source": [
        "\r\n",
        "!unzip -q \"./drive/MyDrive/Runs/Parte 1/7FramesRGB_Attention.zip\"\r\n",
        "!rm -rf \"./__MACOSX\""
      ],
      "execution_count": 55,
      "outputs": [
        {
          "output_type": "stream",
          "text": [
            "replace 7FramesRGB_Attention/close_honey_rgb_attention1.jpg? [y]es, [n]o, [A]ll, [N]one, [r]ename: "
          ],
          "name": "stdout"
        }
      ]
    },
    {
      "cell_type": "code",
      "metadata": {
        "id": "miG7pq3dytkX"
      },
      "source": [
        "!rm -rf \"./CAMs/RGB_7\""
      ],
      "execution_count": 12,
      "outputs": []
    },
    {
      "cell_type": "code",
      "metadata": {
        "colab": {
          "base_uri": "https://localhost:8080/"
        },
        "id": "geyQlr34DgD6",
        "outputId": "3274b09e-a24b-4be6-892d-74a9eff73341"
      },
      "source": [
        "takeError(\"./GTEA61_val/processed_frames2/S2/pour_chocolate,bread\",model_path='./7FramesRGB_Attention/model_rgb_state_dict(1).pth',model_type='RGB_7',\r\n",
        "          selfsup_bool=False,regression_bool=False,twoStream=False,LSTA=False) #save cams of one of the never predicted class\r\n",
        "takeError(\"./GTEA61_val/processed_frames2/S2/open_chocolate\",model_path='./7FramesRGB_Attention/model_rgb_state_dict(1).pth',model_type='RGB_7',\r\n",
        "          selfsup_bool=False,regression_bool=False,twoStream=False,LSTA=False) #save cams of the class that is always selected instead of the previous one"
      ],
      "execution_count": 57,
      "outputs": [
        {
          "output_type": "stream",
          "text": [
            "directory: ./GTEA61_val/processed_frames2/S2/pour_chocolate,bread\n"
          ],
          "name": "stdout"
        },
        {
          "output_type": "stream",
          "text": [
            "/usr/local/lib/python3.6/dist-packages/torchvision/transforms/transforms.py:280: UserWarning: The use of the transforms.Scale transform is deprecated, please use transforms.Resize instead.\n",
            "  \"please use transforms.Resize instead.\")\n"
          ],
          "name": "stderr"
        },
        {
          "output_type": "stream",
          "text": [
            "directory: ./GTEA61_val/processed_frames2/S2/open_chocolate\n"
          ],
          "name": "stdout"
        }
      ]
    },
    {
      "cell_type": "markdown",
      "metadata": {
        "id": "PDuE-ghgyGhO"
      },
      "source": [
        "##RGB MODEL 16 FRAMES"
      ]
    },
    {
      "cell_type": "code",
      "metadata": {
        "id": "QblrbcFgyLVz"
      },
      "source": [
        "!unzip -q \"./drive/MyDrive/Runs/Parte 1/16FramesRGB_Attention.zip\" \r\n",
        "!rm -rf \"./__MACOSX\""
      ],
      "execution_count": 58,
      "outputs": []
    },
    {
      "cell_type": "code",
      "metadata": {
        "colab": {
          "base_uri": "https://localhost:8080/"
        },
        "id": "41R7Xytc2GeX",
        "outputId": "af554a92-3d7c-4326-ab29-790555e35c6f"
      },
      "source": [
        "takeError(\"./GTEA61_val/processed_frames2/S2/pour_chocolate,bread\",model_path='./16FramesRGB_Attention/model_rgb_state_dict (1).pth',model_type='RGB_16',\r\n",
        "          selfsup_bool=False,regression_bool=False,twoStream=False,LSTA=False) #save cams of one of the never predicted class\r\n",
        "takeError(\"./GTEA61_val/processed_frames2/S2/open_chocolate\",model_path='./16FramesRGB_Attention/model_rgb_state_dict (1).pth',model_type='RGB_16',\r\n",
        "          selfsup_bool=False,regression_bool=False,twoStream=False, LSTA=False) #save cams of the class that is always selected instead of the previous one-"
      ],
      "execution_count": 59,
      "outputs": [
        {
          "output_type": "stream",
          "text": [
            "directory: ./GTEA61_val/processed_frames2/S2/pour_chocolate,bread\n"
          ],
          "name": "stdout"
        },
        {
          "output_type": "stream",
          "text": [
            "/usr/local/lib/python3.6/dist-packages/torchvision/transforms/transforms.py:280: UserWarning: The use of the transforms.Scale transform is deprecated, please use transforms.Resize instead.\n",
            "  \"please use transforms.Resize instead.\")\n"
          ],
          "name": "stderr"
        },
        {
          "output_type": "stream",
          "text": [
            "directory: ./GTEA61_val/processed_frames2/S2/open_chocolate\n"
          ],
          "name": "stdout"
        }
      ]
    },
    {
      "cell_type": "markdown",
      "metadata": {
        "id": "sqR30c34WnEI"
      },
      "source": [
        "##TWO STREAM 7 FRAMES"
      ]
    },
    {
      "cell_type": "code",
      "metadata": {
        "id": "g098f7ZEWsIv"
      },
      "source": [
        "!unzip -q \"./drive/MyDrive/Runs/Parte 1/TwoStream7Frames.zip\" \n",
        "!rm -rf \"./__MACOSX\""
      ],
      "execution_count": 27,
      "outputs": []
    },
    {
      "cell_type": "code",
      "metadata": {
        "colab": {
          "base_uri": "https://localhost:8080/"
        },
        "id": "koDT15t-W0pM",
        "outputId": "3b710856-fbc6-431a-b11c-d6de66360c51"
      },
      "source": [
        "takeError(\"./GTEA61_val/processed_frames2/S2/pour_chocolate,bread\",model_path='./TwoStream7Frames/model_twoStream_state_dict.pth',model_type='TwoStream_7',\n",
        "          selfsup_bool=False,regression_bool=False,twoStream=True, LSTA=False) #save cams of one of the never predicted class\n",
        "takeError(\"./GTEA61_val/processed_frames2/S2/open_chocolate\",model_path='./TwoStream7Frames/model_twoStream_state_dict.pth',model_type='TwoStream_7',\n",
        "          selfsup_bool=False,regression_bool=False, twoStream=True,LSTA=False) #save cams of the class that is always selected instead of the previous one-"
      ],
      "execution_count": 40,
      "outputs": [
        {
          "output_type": "stream",
          "text": [
            "directory: ./GTEA61_val/processed_frames2/S2/pour_chocolate,bread\n"
          ],
          "name": "stdout"
        },
        {
          "output_type": "stream",
          "text": [
            "/usr/local/lib/python3.6/dist-packages/torchvision/transforms/transforms.py:280: UserWarning: The use of the transforms.Scale transform is deprecated, please use transforms.Resize instead.\n",
            "  \"please use transforms.Resize instead.\")\n"
          ],
          "name": "stderr"
        },
        {
          "output_type": "stream",
          "text": [
            "directory: ./GTEA61_val/processed_frames2/S2/open_chocolate\n"
          ],
          "name": "stdout"
        }
      ]
    },
    {
      "cell_type": "markdown",
      "metadata": {
        "id": "Xono4vd7cFVi"
      },
      "source": [
        "##TWO STREAM 16 FRAMES"
      ]
    },
    {
      "cell_type": "code",
      "metadata": {
        "id": "Mke1C0F2cH2Z"
      },
      "source": [
        "!unzip -q \"./drive/MyDrive/Runs/Parte 1/TwoStream16Frames.zip\" \n",
        "!rm -rf \"./__MACOSX\""
      ],
      "execution_count": 41,
      "outputs": []
    },
    {
      "cell_type": "code",
      "metadata": {
        "colab": {
          "base_uri": "https://localhost:8080/"
        },
        "id": "1sVefyencIB7",
        "outputId": "36ab7fd2-b99c-441f-e60d-24a52cf6168e"
      },
      "source": [
        "takeError(\"./GTEA61_val/processed_frames2/S2/pour_chocolate,bread\",model_path='./TwoStream16Frames/model_twoStream_state_dict.pth',model_type='TwoStream_16',\n",
        "          selfsup_bool=False,regression_bool=False,twoStream=True, LSTA=False) #save cams of one of the never predicted class\n",
        "takeError(\"./GTEA61_val/processed_frames2/S2/open_chocolate\",model_path='./TwoStream16Frames/model_twoStream_state_dict.pth',model_type='TwoStream_16',\n",
        "          selfsup_bool=False,regression_bool=False, twoStream=True,LSTA=False) #save cams of the class that is always selected instead of the previous one-"
      ],
      "execution_count": 42,
      "outputs": [
        {
          "output_type": "stream",
          "text": [
            "directory: ./GTEA61_val/processed_frames2/S2/pour_chocolate,bread\n"
          ],
          "name": "stdout"
        },
        {
          "output_type": "stream",
          "text": [
            "/usr/local/lib/python3.6/dist-packages/torchvision/transforms/transforms.py:280: UserWarning: The use of the transforms.Scale transform is deprecated, please use transforms.Resize instead.\n",
            "  \"please use transforms.Resize instead.\")\n"
          ],
          "name": "stderr"
        },
        {
          "output_type": "stream",
          "text": [
            "directory: ./GTEA61_val/processed_frames2/S2/open_chocolate\n"
          ],
          "name": "stdout"
        }
      ]
    },
    {
      "cell_type": "markdown",
      "metadata": {
        "id": "SZMuq2iDcnBn"
      },
      "source": [
        "##TWO STREAM LSTA 7 FRAMES"
      ]
    },
    {
      "cell_type": "code",
      "metadata": {
        "id": "HpcS1Qwecq2C"
      },
      "source": [
        "!unzip -q \"./drive/MyDrive/Runs/Variations/LSTA/cartella_LSTA7frames.zip\" \n",
        "!rm -rf \"./__MACOSX\""
      ],
      "execution_count": 43,
      "outputs": []
    },
    {
      "cell_type": "code",
      "metadata": {
        "colab": {
          "base_uri": "https://localhost:8080/"
        },
        "id": "AhwSc1fBc5My",
        "outputId": "5b0da465-b4d7-419d-d898-0ae7360b3189"
      },
      "source": [
        "takeError(\"./GTEA61_val/processed_frames2/S2/pour_chocolate,bread\",model_path='./cartella_LSTA7frames/outDir/gtea61/twoStream_LSTA/model_twoStream_state_dict.pth',model_type='TwoStreamLSTA_7',\n",
        "          selfsup_bool=False,regression_bool=False,twoStream=True, LSTA=True) #save cams of one of the never predicted class\n",
        "takeError(\"./GTEA61_val/processed_frames2/S2/open_chocolate\",model_path='./cartella_LSTA7frames/outDir/gtea61/twoStream_LSTA/model_twoStream_state_dict.pth',model_type='TwoStreamLSTA_7',\n",
        "          selfsup_bool=False,regression_bool=False, twoStream=True,LSTA=True) #save cams of the class that is always selected instead of the previous one-"
      ],
      "execution_count": 46,
      "outputs": [
        {
          "output_type": "stream",
          "text": [
            "directory: ./GTEA61_val/processed_frames2/S2/pour_chocolate,bread\n"
          ],
          "name": "stdout"
        },
        {
          "output_type": "stream",
          "text": [
            "/usr/local/lib/python3.6/dist-packages/torchvision/transforms/transforms.py:280: UserWarning: The use of the transforms.Scale transform is deprecated, please use transforms.Resize instead.\n",
            "  \"please use transforms.Resize instead.\")\n"
          ],
          "name": "stderr"
        },
        {
          "output_type": "stream",
          "text": [
            "directory: ./GTEA61_val/processed_frames2/S2/open_chocolate\n"
          ],
          "name": "stdout"
        }
      ]
    },
    {
      "cell_type": "markdown",
      "metadata": {
        "id": "kC-nFzNhdtJS"
      },
      "source": [
        "## TWO STREAM LSTA 16 FRAMES"
      ]
    },
    {
      "cell_type": "code",
      "metadata": {
        "id": "EY56lpsQd0U_"
      },
      "source": [
        "!unzip -q \"./drive/MyDrive/Runs/Variations/LSTA/twoStream_LSTA_16.zip\" \n",
        "!rm -rf \"./__MACOSX\""
      ],
      "execution_count": 47,
      "outputs": []
    },
    {
      "cell_type": "code",
      "metadata": {
        "colab": {
          "base_uri": "https://localhost:8080/"
        },
        "id": "UcsuYuXrd07j",
        "outputId": "1882e621-6fdc-46b2-dafa-6c18b106f28d"
      },
      "source": [
        "takeError(\"./GTEA61_val/processed_frames2/S2/pour_chocolate,bread\",model_path='./twoStream_LSTA_16/model_twoStream_state_dict.pth',model_type='TwoStreamLSTA_16',\n",
        "          selfsup_bool=False,regression_bool=False,twoStream=True, LSTA=True) #save cams of one of the never predicted class\n",
        "takeError(\"./GTEA61_val/processed_frames2/S2/open_chocolate\",model_path='./twoStream_LSTA_16/model_twoStream_state_dict.pth',model_type='TwoStreamLSTA_16',\n",
        "          selfsup_bool=False,regression_bool=False, twoStream=True,LSTA=True) #save cams of the class that is always selected instead of the previous one-"
      ],
      "execution_count": 48,
      "outputs": [
        {
          "output_type": "stream",
          "text": [
            "directory: ./GTEA61_val/processed_frames2/S2/pour_chocolate,bread\n"
          ],
          "name": "stdout"
        },
        {
          "output_type": "stream",
          "text": [
            "/usr/local/lib/python3.6/dist-packages/torchvision/transforms/transforms.py:280: UserWarning: The use of the transforms.Scale transform is deprecated, please use transforms.Resize instead.\n",
            "  \"please use transforms.Resize instead.\")\n"
          ],
          "name": "stderr"
        },
        {
          "output_type": "stream",
          "text": [
            "directory: ./GTEA61_val/processed_frames2/S2/open_chocolate\n"
          ],
          "name": "stdout"
        }
      ]
    },
    {
      "cell_type": "markdown",
      "metadata": {
        "id": "hLkRa9gyeZJR"
      },
      "source": [
        "##RGB LSTA 7 FRAMES"
      ]
    },
    {
      "cell_type": "code",
      "metadata": {
        "id": "XLmSd9VZeb9D"
      },
      "source": [
        "!unzip -q \"./drive/MyDrive/Runs/Variations/LSTA/rgb_lsta_7.zip\" \n",
        "!rm -rf \"./__MACOSX\""
      ],
      "execution_count": 49,
      "outputs": []
    },
    {
      "cell_type": "code",
      "metadata": {
        "colab": {
          "base_uri": "https://localhost:8080/"
        },
        "id": "9Uwds0HbecLT",
        "outputId": "e0c7b1ca-8a4f-4b73-be26-241f8234e1c1"
      },
      "source": [
        "takeError(\"./GTEA61_val/processed_frames2/S2/pour_chocolate,bread\",model_path='./rgb_lsta_7/stage2/model_rgb_lsta_state_dict.pth',model_type='RGB_LSTA_7',\n",
        "          selfsup_bool=False,regression_bool=False,twoStream=False, LSTA=True) #save cams of one of the never predicted class\n",
        "takeError(\"./GTEA61_val/processed_frames2/S2/open_chocolate\",model_path='./rgb_lsta_7/stage2/model_rgb_lsta_state_dict.pth',model_type='RGB_LSTA_7',\n",
        "          selfsup_bool=False,regression_bool=False, twoStream=False,LSTA=True) #save cams of the class that is always selected instead of the previous one-"
      ],
      "execution_count": 52,
      "outputs": [
        {
          "output_type": "stream",
          "text": [
            "directory: ./GTEA61_val/processed_frames2/S2/pour_chocolate,bread\n"
          ],
          "name": "stdout"
        },
        {
          "output_type": "stream",
          "text": [
            "/usr/local/lib/python3.6/dist-packages/torchvision/transforms/transforms.py:280: UserWarning: The use of the transforms.Scale transform is deprecated, please use transforms.Resize instead.\n",
            "  \"please use transforms.Resize instead.\")\n"
          ],
          "name": "stderr"
        },
        {
          "output_type": "stream",
          "text": [
            "directory: ./GTEA61_val/processed_frames2/S2/open_chocolate\n"
          ],
          "name": "stdout"
        }
      ]
    },
    {
      "cell_type": "markdown",
      "metadata": {
        "id": "H1YHmg8afkjm"
      },
      "source": [
        "##RGB LSTA 16 FRAMES"
      ]
    },
    {
      "cell_type": "code",
      "metadata": {
        "id": "ZOrKrlOYfm1f"
      },
      "source": [
        "!unzip -q \"./drive/MyDrive/Runs/Variations/LSTA/rgb_lsta_16.zip\" \n",
        "!rm -rf \"./__MACOSX\""
      ],
      "execution_count": 53,
      "outputs": []
    },
    {
      "cell_type": "code",
      "metadata": {
        "colab": {
          "base_uri": "https://localhost:8080/"
        },
        "id": "IiJzFbkyfm6T",
        "outputId": "4f0b48a0-6207-4f9f-fdd0-990e7fdbe950"
      },
      "source": [
        "takeError(\"./GTEA61_val/processed_frames2/S2/pour_chocolate,bread\",model_path='./rgb_lsta_16/stage2/model_rgb_lsta_state_dict.pth',model_type='RGB_LSTA_16',\n",
        "          selfsup_bool=False,regression_bool=False,twoStream=False, LSTA=True) #save cams of one of the never predicted class\n",
        "takeError(\"./GTEA61_val/processed_frames2/S2/open_chocolate\",model_path='./rgb_lsta_16/stage2/model_rgb_lsta_state_dict.pth',model_type='RGB_LSTA_16',\n",
        "          selfsup_bool=False,regression_bool=False, twoStream=False,LSTA=True) #save cams of the class that is always selected instead of the previous one-"
      ],
      "execution_count": 54,
      "outputs": [
        {
          "output_type": "stream",
          "text": [
            "directory: ./GTEA61_val/processed_frames2/S2/pour_chocolate,bread\n"
          ],
          "name": "stdout"
        },
        {
          "output_type": "stream",
          "text": [
            "/usr/local/lib/python3.6/dist-packages/torchvision/transforms/transforms.py:280: UserWarning: The use of the transforms.Scale transform is deprecated, please use transforms.Resize instead.\n",
            "  \"please use transforms.Resize instead.\")\n"
          ],
          "name": "stderr"
        },
        {
          "output_type": "stream",
          "text": [
            "directory: ./GTEA61_val/processed_frames2/S2/open_chocolate\n"
          ],
          "name": "stdout"
        }
      ]
    },
    {
      "cell_type": "markdown",
      "metadata": {
        "id": "-ELNhj-jyDOi"
      },
      "source": [
        "## SELF SUP MODEL"
      ]
    },
    {
      "cell_type": "code",
      "metadata": {
        "id": "0AeY39rH72ZV"
      },
      "source": [
        "from ML_DL_Project.Scripts.SelfSupObjectAttentionModelConvLSTM import *"
      ],
      "execution_count": 19,
      "outputs": []
    },
    {
      "cell_type": "code",
      "metadata": {
        "id": "oidDFZ_8Vude"
      },
      "source": [
        "!rm -rf \"./outDir\"\n",
        "!rm -rf \"./CAMs\""
      ],
      "execution_count": 21,
      "outputs": []
    },
    {
      "cell_type": "code",
      "metadata": {
        "id": "mLbA9IWBxdpj"
      },
      "source": [
        "!unzip -q \"./drive/MyDrive/Runs/Parte 2/No Regression/Decay rate optimization/cartella_selfSupDecayRate0,5_prova2.zip\"\r\n",
        "!rm -rf \"./__MACOSX\""
      ],
      "execution_count": 22,
      "outputs": []
    },
    {
      "cell_type": "code",
      "metadata": {
        "colab": {
          "base_uri": "https://localhost:8080/"
        },
        "id": "y-u4zMJx24YX",
        "outputId": "f58efd09-75ff-4bf6-89bf-f2eb59de3a68"
      },
      "source": [
        "takeError(\"./GTEA61_val/processed_frames2/S2/pour_chocolate,bread\",model_path='./outDir/gtea61/selfSup/stage2/model_selfSup_state_dict.pth',model_type='self_sup',\r\n",
        "          selfsup_bool=True,regression_bool=False) #save cams of one of the never predicted class\r\n",
        "takeError(\"./GTEA61_val/processed_frames2/S2/open_chocolate\",model_path='./outDir/gtea61/selfSup/stage2/model_selfSup_state_dict.pth',model_type='self_sup',\r\n",
        "          selfsup_bool=True,regression_bool=False) #save cams of the class that is always selected instead of the previous one-"
      ],
      "execution_count": 23,
      "outputs": [
        {
          "output_type": "stream",
          "text": [
            "directory: ./GTEA61_val/processed_frames2/S2/pour_chocolate,bread\n",
            "Regression:  False\n",
            "FLow:  False\n"
          ],
          "name": "stdout"
        },
        {
          "output_type": "stream",
          "text": [
            "/usr/local/lib/python3.6/dist-packages/torchvision/transforms/transforms.py:280: UserWarning: The use of the transforms.Scale transform is deprecated, please use transforms.Resize instead.\n",
            "  \"please use transforms.Resize instead.\")\n"
          ],
          "name": "stderr"
        },
        {
          "output_type": "stream",
          "text": [
            "Regression:  False\n",
            "FLow:  False\n",
            "Regression:  False\n",
            "FLow:  False\n",
            "Regression:  False\n",
            "FLow:  False\n",
            "Regression:  False\n",
            "FLow:  False\n",
            "Regression:  False\n",
            "FLow:  False\n",
            "Regression:  False\n",
            "FLow:  False\n",
            "Regression:  False\n",
            "FLow:  False\n",
            "Regression:  False\n",
            "FLow:  False\n",
            "Regression:  False\n",
            "FLow:  False\n",
            "Regression:  False\n",
            "FLow:  False\n",
            "Regression:  False\n",
            "FLow:  False\n",
            "Regression:  False\n",
            "FLow:  False\n",
            "Regression:  False\n",
            "FLow:  False\n",
            "Regression:  False\n",
            "FLow:  False\n",
            "Regression:  False\n",
            "FLow:  False\n",
            "Regression:  False\n",
            "FLow:  False\n",
            "Regression:  False\n",
            "FLow:  False\n",
            "Regression:  False\n",
            "FLow:  False\n",
            "Regression:  False\n",
            "FLow:  False\n",
            "Regression:  False\n",
            "FLow:  False\n",
            "Regression:  False\n",
            "FLow:  False\n",
            "Regression:  False\n",
            "FLow:  False\n",
            "Regression:  False\n",
            "FLow:  False\n",
            "Regression:  False\n",
            "FLow:  False\n",
            "Regression:  False\n",
            "FLow:  False\n",
            "Regression:  False\n",
            "FLow:  False\n",
            "Regression:  False\n",
            "FLow:  False\n",
            "Regression:  False\n",
            "FLow:  False\n",
            "Regression:  False\n",
            "FLow:  False\n",
            "Regression:  False\n",
            "FLow:  False\n",
            "Regression:  False\n",
            "FLow:  False\n",
            "Regression:  False\n",
            "FLow:  False\n",
            "Regression:  False\n",
            "FLow:  False\n",
            "Regression:  False\n",
            "FLow:  False\n",
            "Regression:  False\n",
            "FLow:  False\n",
            "Regression:  False\n",
            "FLow:  False\n",
            "Regression:  False\n",
            "FLow:  False\n",
            "Regression:  False\n",
            "FLow:  False\n",
            "Regression:  False\n",
            "FLow:  False\n",
            "Regression:  False\n",
            "FLow:  False\n",
            "Regression:  False\n",
            "FLow:  False\n",
            "Regression:  False\n",
            "FLow:  False\n",
            "Regression:  False\n",
            "FLow:  False\n",
            "Regression:  False\n",
            "FLow:  False\n",
            "Regression:  False\n",
            "FLow:  False\n",
            "Regression:  False\n",
            "FLow:  False\n",
            "Regression:  False\n",
            "FLow:  False\n",
            "directory: ./GTEA61_val/processed_frames2/S2/open_chocolate\n",
            "Regression:  False\n",
            "FLow:  False\n",
            "Regression:  False\n",
            "FLow:  False\n",
            "Regression:  False\n",
            "FLow:  False\n",
            "Regression:  False\n",
            "FLow:  False\n",
            "Regression:  False\n",
            "FLow:  False\n",
            "Regression:  False\n",
            "FLow:  False\n",
            "Regression:  False\n",
            "FLow:  False\n",
            "Regression:  False\n",
            "FLow:  False\n",
            "Regression:  False\n",
            "FLow:  False\n",
            "Regression:  False\n",
            "FLow:  False\n",
            "Regression:  False\n",
            "FLow:  False\n",
            "Regression:  False\n",
            "FLow:  False\n",
            "Regression:  False\n",
            "FLow:  False\n",
            "Regression:  False\n",
            "FLow:  False\n",
            "Regression:  False\n",
            "FLow:  False\n",
            "Regression:  False\n",
            "FLow:  False\n",
            "Regression:  False\n",
            "FLow:  False\n",
            "Regression:  False\n",
            "FLow:  False\n",
            "Regression:  False\n",
            "FLow:  False\n",
            "Regression:  False\n",
            "FLow:  False\n",
            "Regression:  False\n",
            "FLow:  False\n",
            "Regression:  False\n",
            "FLow:  False\n",
            "Regression:  False\n",
            "FLow:  False\n",
            "Regression:  False\n",
            "FLow:  False\n",
            "Regression:  False\n",
            "FLow:  False\n"
          ],
          "name": "stdout"
        }
      ]
    },
    {
      "cell_type": "markdown",
      "metadata": {
        "id": "X7xA7kD30E3g"
      },
      "source": [
        "## SELF SUP REGRESSION MODEL"
      ]
    },
    {
      "cell_type": "code",
      "metadata": {
        "id": "QLGmbNM973pd"
      },
      "source": [
        "from ML_DL_Project.Scripts.SelfSupObjectAttentionModelConvLSTM import *"
      ],
      "execution_count": 24,
      "outputs": []
    },
    {
      "cell_type": "code",
      "metadata": {
        "id": "JS1efWUt0JZW"
      },
      "source": [
        "!unzip -q \"./drive/MyDrive/Runs/Parte 2/Regression/Decay rate optimization/cartella_RegselfSupGirodecayRate0.3_prova1.zip\" \r\n",
        "!rm -rf \"./__MACOSX\""
      ],
      "execution_count": 17,
      "outputs": []
    },
    {
      "cell_type": "code",
      "metadata": {
        "colab": {
          "base_uri": "https://localhost:8080/"
        },
        "id": "3fb4lYyE5P3f",
        "outputId": "2438e6d4-6cee-4ad6-d355-45c1ea4ad65b"
      },
      "source": [
        "takeError(\"./GTEA61_val/processed_frames2/S2/pour_chocolate,bread\",model_path='./cartella_RegselfSupGirodecayRate0.3_prova1/outDir/gtea61/regSelfSup/stage2/model_selfSup_state_dict.pth',model_type='self_sup_regr',\r\n",
        "          selfsup_bool=True,regression_bool=True) #save cams of one of the never predicted class\r\n",
        "takeError(\"./GTEA61_val/processed_frames2/S2/open_chocolate\",model_path='./cartella_RegselfSupGirodecayRate0.3_prova1/outDir/gtea61/regSelfSup/stage2/model_selfSup_state_dict.pth',model_type='self_sup_regr',\r\n",
        "          selfsup_bool=True,regression_bool=True) #save cams of the class that is always selected instead of the previous one-"
      ],
      "execution_count": 26,
      "outputs": [
        {
          "output_type": "stream",
          "text": [
            "directory: ./GTEA61_val/processed_frames2/S2/pour_chocolate,bread\n",
            "Regression:  True\n",
            "FLow:  False\n"
          ],
          "name": "stdout"
        },
        {
          "output_type": "stream",
          "text": [
            "/usr/local/lib/python3.6/dist-packages/torchvision/transforms/transforms.py:280: UserWarning: The use of the transforms.Scale transform is deprecated, please use transforms.Resize instead.\n",
            "  \"please use transforms.Resize instead.\")\n"
          ],
          "name": "stderr"
        },
        {
          "output_type": "stream",
          "text": [
            "Regression:  True\n",
            "FLow:  False\n",
            "Regression:  True\n",
            "FLow:  False\n",
            "Regression:  True\n",
            "FLow:  False\n",
            "Regression:  True\n",
            "FLow:  False\n",
            "Regression:  True\n",
            "FLow:  False\n",
            "Regression:  True\n",
            "FLow:  False\n",
            "Regression:  True\n",
            "FLow:  False\n",
            "Regression:  True\n",
            "FLow:  False\n",
            "Regression:  True\n",
            "FLow:  False\n",
            "Regression:  True\n",
            "FLow:  False\n",
            "Regression:  True\n",
            "FLow:  False\n",
            "Regression:  True\n",
            "FLow:  False\n",
            "Regression:  True\n",
            "FLow:  False\n",
            "Regression:  True\n",
            "FLow:  False\n",
            "Regression:  True\n",
            "FLow:  False\n",
            "Regression:  True\n",
            "FLow:  False\n",
            "Regression:  True\n",
            "FLow:  False\n",
            "Regression:  True\n",
            "FLow:  False\n",
            "Regression:  True\n",
            "FLow:  False\n",
            "Regression:  True\n",
            "FLow:  False\n",
            "Regression:  True\n",
            "FLow:  False\n",
            "Regression:  True\n",
            "FLow:  False\n",
            "Regression:  True\n",
            "FLow:  False\n",
            "Regression:  True\n",
            "FLow:  False\n",
            "Regression:  True\n",
            "FLow:  False\n",
            "Regression:  True\n",
            "FLow:  False\n",
            "Regression:  True\n",
            "FLow:  False\n",
            "Regression:  True\n",
            "FLow:  False\n",
            "Regression:  True\n",
            "FLow:  False\n",
            "Regression:  True\n",
            "FLow:  False\n",
            "Regression:  True\n",
            "FLow:  False\n",
            "Regression:  True\n",
            "FLow:  False\n",
            "Regression:  True\n",
            "FLow:  False\n",
            "Regression:  True\n",
            "FLow:  False\n",
            "Regression:  True\n",
            "FLow:  False\n",
            "Regression:  True\n",
            "FLow:  False\n",
            "Regression:  True\n",
            "FLow:  False\n",
            "Regression:  True\n",
            "FLow:  False\n",
            "Regression:  True\n",
            "FLow:  False\n",
            "Regression:  True\n",
            "FLow:  False\n",
            "Regression:  True\n",
            "FLow:  False\n",
            "Regression:  True\n",
            "FLow:  False\n",
            "Regression:  True\n",
            "FLow:  False\n",
            "Regression:  True\n",
            "FLow:  False\n",
            "Regression:  True\n",
            "FLow:  False\n",
            "Regression:  True\n",
            "FLow:  False\n",
            "Regression:  True\n",
            "FLow:  False\n",
            "directory: ./GTEA61_val/processed_frames2/S2/open_chocolate\n",
            "Regression:  True\n",
            "FLow:  False\n",
            "Regression:  True\n",
            "FLow:  False\n",
            "Regression:  True\n",
            "FLow:  False\n",
            "Regression:  True\n",
            "FLow:  False\n",
            "Regression:  True\n",
            "FLow:  False\n",
            "Regression:  True\n",
            "FLow:  False\n",
            "Regression:  True\n",
            "FLow:  False\n",
            "Regression:  True\n",
            "FLow:  False\n",
            "Regression:  True\n",
            "FLow:  False\n",
            "Regression:  True\n",
            "FLow:  False\n",
            "Regression:  True\n",
            "FLow:  False\n",
            "Regression:  True\n",
            "FLow:  False\n",
            "Regression:  True\n",
            "FLow:  False\n",
            "Regression:  True\n",
            "FLow:  False\n",
            "Regression:  True\n",
            "FLow:  False\n",
            "Regression:  True\n",
            "FLow:  False\n",
            "Regression:  True\n",
            "FLow:  False\n",
            "Regression:  True\n",
            "FLow:  False\n",
            "Regression:  True\n",
            "FLow:  False\n",
            "Regression:  True\n",
            "FLow:  False\n",
            "Regression:  True\n",
            "FLow:  False\n",
            "Regression:  True\n",
            "FLow:  False\n",
            "Regression:  True\n",
            "FLow:  False\n",
            "Regression:  True\n",
            "FLow:  False\n",
            "Regression:  True\n",
            "FLow:  False\n"
          ],
          "name": "stdout"
        }
      ]
    },
    {
      "cell_type": "markdown",
      "metadata": {
        "id": "BjkYGiuUg9jr"
      },
      "source": [
        "##SELF SUP FLOW "
      ]
    },
    {
      "cell_type": "code",
      "metadata": {
        "id": "A1bAE2XyhBth"
      },
      "source": [
        "!unzip -q \"./drive/MyDrive/Runs/Variations/Self sup Warp Flow/Regression/Decay rate/cartella_DecayRate0.3prova_2.zip\" \n",
        "!rm -rf \"./__MACOSX\""
      ],
      "execution_count": 60,
      "outputs": []
    },
    {
      "cell_type": "code",
      "metadata": {
        "colab": {
          "base_uri": "https://localhost:8080/"
        },
        "id": "3qB8a4XThGCE",
        "outputId": "ba49e422-6bbe-4b8f-ecf6-c133ff44dc47"
      },
      "source": [
        "takeError(\"./GTEA61_val/processed_frames2/S2/pour_chocolate,bread\",model_path='./cartella_DecayRate0.3prova_2/outDir/gtea61/regSelfSup_flow/stage2/model_selfSup_state_dict.pth',model_type='self_sup_flow',\n",
        "          selfsup_bool=True,regression_bool=True,twoStream=False,LSTA=False,Flow=True) #save cams of one of the never predicted class\n",
        "takeError(\"./GTEA61_val/processed_frames2/S2/open_chocolate\",model_path='./cartella_DecayRate0.3prova_2/outDir/gtea61/regSelfSup_flow/stage2/model_selfSup_state_dict.pth',model_type='self_sup_flow',\n",
        "          selfsup_bool=True,regression_bool=True,twoStream=False,LSTA=False,Flow=True) #save cams of the class that is always selected instead of the previous one-"
      ],
      "execution_count": 62,
      "outputs": [
        {
          "output_type": "stream",
          "text": [
            "directory: ./GTEA61_val/processed_frames2/S2/pour_chocolate,bread\n",
            "Regression:  True\n",
            "FLow:  True\n"
          ],
          "name": "stdout"
        },
        {
          "output_type": "stream",
          "text": [
            "/usr/local/lib/python3.6/dist-packages/torchvision/transforms/transforms.py:280: UserWarning: The use of the transforms.Scale transform is deprecated, please use transforms.Resize instead.\n",
            "  \"please use transforms.Resize instead.\")\n"
          ],
          "name": "stderr"
        },
        {
          "output_type": "stream",
          "text": [
            "Regression:  True\n",
            "FLow:  True\n",
            "Regression:  True\n",
            "FLow:  True\n",
            "Regression:  True\n",
            "FLow:  True\n",
            "Regression:  True\n",
            "FLow:  True\n",
            "Regression:  True\n",
            "FLow:  True\n",
            "Regression:  True\n",
            "FLow:  True\n",
            "Regression:  True\n",
            "FLow:  True\n",
            "Regression:  True\n",
            "FLow:  True\n",
            "Regression:  True\n",
            "FLow:  True\n",
            "Regression:  True\n",
            "FLow:  True\n",
            "Regression:  True\n",
            "FLow:  True\n",
            "Regression:  True\n",
            "FLow:  True\n",
            "Regression:  True\n",
            "FLow:  True\n",
            "Regression:  True\n",
            "FLow:  True\n",
            "Regression:  True\n",
            "FLow:  True\n",
            "Regression:  True\n",
            "FLow:  True\n",
            "Regression:  True\n",
            "FLow:  True\n",
            "Regression:  True\n",
            "FLow:  True\n",
            "Regression:  True\n",
            "FLow:  True\n",
            "Regression:  True\n",
            "FLow:  True\n",
            "Regression:  True\n",
            "FLow:  True\n",
            "Regression:  True\n",
            "FLow:  True\n",
            "Regression:  True\n",
            "FLow:  True\n",
            "Regression:  True\n",
            "FLow:  True\n",
            "Regression:  True\n",
            "FLow:  True\n",
            "Regression:  True\n",
            "FLow:  True\n",
            "Regression:  True\n",
            "FLow:  True\n",
            "Regression:  True\n",
            "FLow:  True\n",
            "Regression:  True\n",
            "FLow:  True\n",
            "Regression:  True\n",
            "FLow:  True\n",
            "Regression:  True\n",
            "FLow:  True\n",
            "Regression:  True\n",
            "FLow:  True\n",
            "Regression:  True\n",
            "FLow:  True\n",
            "Regression:  True\n",
            "FLow:  True\n",
            "Regression:  True\n",
            "FLow:  True\n",
            "Regression:  True\n",
            "FLow:  True\n",
            "Regression:  True\n",
            "FLow:  True\n",
            "Regression:  True\n",
            "FLow:  True\n",
            "Regression:  True\n",
            "FLow:  True\n",
            "Regression:  True\n",
            "FLow:  True\n",
            "Regression:  True\n",
            "FLow:  True\n",
            "Regression:  True\n",
            "FLow:  True\n",
            "Regression:  True\n",
            "FLow:  True\n",
            "Regression:  True\n",
            "FLow:  True\n",
            "Regression:  True\n",
            "FLow:  True\n",
            "Regression:  True\n",
            "FLow:  True\n",
            "Regression:  True\n",
            "FLow:  True\n",
            "directory: ./GTEA61_val/processed_frames2/S2/open_chocolate\n",
            "Regression:  True\n",
            "FLow:  True\n",
            "Regression:  True\n",
            "FLow:  True\n",
            "Regression:  True\n",
            "FLow:  True\n",
            "Regression:  True\n",
            "FLow:  True\n",
            "Regression:  True\n",
            "FLow:  True\n",
            "Regression:  True\n",
            "FLow:  True\n",
            "Regression:  True\n",
            "FLow:  True\n",
            "Regression:  True\n",
            "FLow:  True\n",
            "Regression:  True\n",
            "FLow:  True\n",
            "Regression:  True\n",
            "FLow:  True\n",
            "Regression:  True\n",
            "FLow:  True\n",
            "Regression:  True\n",
            "FLow:  True\n",
            "Regression:  True\n",
            "FLow:  True\n",
            "Regression:  True\n",
            "FLow:  True\n",
            "Regression:  True\n",
            "FLow:  True\n",
            "Regression:  True\n",
            "FLow:  True\n",
            "Regression:  True\n",
            "FLow:  True\n",
            "Regression:  True\n",
            "FLow:  True\n",
            "Regression:  True\n",
            "FLow:  True\n",
            "Regression:  True\n",
            "FLow:  True\n",
            "Regression:  True\n",
            "FLow:  True\n",
            "Regression:  True\n",
            "FLow:  True\n",
            "Regression:  True\n",
            "FLow:  True\n",
            "Regression:  True\n",
            "FLow:  True\n",
            "Regression:  True\n",
            "FLow:  True\n"
          ],
          "name": "stdout"
        }
      ]
    },
    {
      "cell_type": "code",
      "metadata": {
        "colab": {
          "base_uri": "https://localhost:8080/"
        },
        "id": "Ars1Z29HWCIf",
        "outputId": "56764042-5c85-4562-a708-3475ebc8c7d8"
      },
      "source": [
        "!zip -r \"CAMs\" \"./CAMs\""
      ],
      "execution_count": 63,
      "outputs": [
        {
          "output_type": "stream",
          "text": [
            "  adding: CAMs/ (stored 0%)\n",
            "  adding: CAMs/RGB_7/ (stored 0%)\n",
            "  adding: CAMs/RGB_7/open_chocolate/ (stored 0%)\n",
            "  adding: CAMs/RGB_7/open_chocolate/1_rgb0023.jpg (deflated 1%)\n",
            "  adding: CAMs/RGB_7/open_chocolate/1_rgb0024.jpg (deflated 1%)\n",
            "  adding: CAMs/RGB_7/open_chocolate/1_rgb0013.jpg (deflated 1%)\n",
            "  adding: CAMs/RGB_7/open_chocolate/1_rgb0022.jpg (deflated 1%)\n",
            "  adding: CAMs/RGB_7/open_chocolate/1_rgb0012.jpg (deflated 1%)\n",
            "  adding: CAMs/RGB_7/open_chocolate/1_rgb0011.jpg (deflated 1%)\n",
            "  adding: CAMs/RGB_7/open_chocolate/1_rgb0021.jpg (deflated 1%)\n",
            "  adding: CAMs/RGB_7/open_chocolate/1_rgb0006.jpg (deflated 1%)\n",
            "  adding: CAMs/RGB_7/open_chocolate/1_rgb0016.jpg (deflated 1%)\n",
            "  adding: CAMs/RGB_7/open_chocolate/1_rgb0008.jpg (deflated 1%)\n",
            "  adding: CAMs/RGB_7/open_chocolate/1_rgb0004.jpg (deflated 1%)\n",
            "  adding: CAMs/RGB_7/open_chocolate/1_rgb0002.jpg (deflated 1%)\n",
            "  adding: CAMs/RGB_7/open_chocolate/1_rgb0025.jpg (deflated 1%)\n",
            "  adding: CAMs/RGB_7/open_chocolate/1_rgb0014.jpg (deflated 1%)\n",
            "  adding: CAMs/RGB_7/open_chocolate/1_rgb0020.jpg (deflated 1%)\n",
            "  adding: CAMs/RGB_7/open_chocolate/1_rgb0017.jpg (deflated 1%)\n",
            "  adding: CAMs/RGB_7/open_chocolate/1_rgb0010.jpg (deflated 1%)\n",
            "  adding: CAMs/RGB_7/open_chocolate/1_rgb0018.jpg (deflated 1%)\n",
            "  adding: CAMs/RGB_7/open_chocolate/1_rgb0015.jpg (deflated 1%)\n",
            "  adding: CAMs/RGB_7/open_chocolate/1_rgb0019.jpg (deflated 1%)\n",
            "  adding: CAMs/RGB_7/open_chocolate/1_rgb0007.jpg (deflated 1%)\n",
            "  adding: CAMs/RGB_7/open_chocolate/1_rgb0003.jpg (deflated 1%)\n",
            "  adding: CAMs/RGB_7/open_chocolate/1_rgb0005.jpg (deflated 1%)\n",
            "  adding: CAMs/RGB_7/open_chocolate/1_rgb0001.jpg (deflated 1%)\n",
            "  adding: CAMs/RGB_7/open_chocolate/1_rgb0009.jpg (deflated 1%)\n",
            "  adding: CAMs/RGB_7/pour_chocolate,bread/ (stored 0%)\n",
            "  adding: CAMs/RGB_7/pour_chocolate,bread/1_rgb0042.jpg (deflated 1%)\n",
            "  adding: CAMs/RGB_7/pour_chocolate,bread/1_rgb0028.jpg (deflated 1%)\n",
            "  adding: CAMs/RGB_7/pour_chocolate,bread/1_rgb0046.jpg (deflated 1%)\n",
            "  adding: CAMs/RGB_7/pour_chocolate,bread/1_rgb0023.jpg (deflated 1%)\n",
            "  adding: CAMs/RGB_7/pour_chocolate,bread/1_rgb0024.jpg (deflated 1%)\n",
            "  adding: CAMs/RGB_7/pour_chocolate,bread/1_rgb0013.jpg (deflated 1%)\n",
            "  adding: CAMs/RGB_7/pour_chocolate,bread/1_rgb0022.jpg (deflated 1%)\n",
            "  adding: CAMs/RGB_7/pour_chocolate,bread/1_rgb0012.jpg (deflated 1%)\n",
            "  adding: CAMs/RGB_7/pour_chocolate,bread/1_rgb0011.jpg (deflated 1%)\n",
            "  adding: CAMs/RGB_7/pour_chocolate,bread/1_rgb0021.jpg (deflated 1%)\n",
            "  adding: CAMs/RGB_7/pour_chocolate,bread/1_rgb0043.jpg (deflated 1%)\n",
            "  adding: CAMs/RGB_7/pour_chocolate,bread/1_rgb0006.jpg (deflated 1%)\n",
            "  adding: CAMs/RGB_7/pour_chocolate,bread/1_rgb0016.jpg (deflated 1%)\n",
            "  adding: CAMs/RGB_7/pour_chocolate,bread/1_rgb0044.jpg (deflated 1%)\n",
            "  adding: CAMs/RGB_7/pour_chocolate,bread/1_rgb0033.jpg (deflated 1%)\n",
            "  adding: CAMs/RGB_7/pour_chocolate,bread/1_rgb0008.jpg (deflated 1%)\n",
            "  adding: CAMs/RGB_7/pour_chocolate,bread/1_rgb0047.jpg (deflated 1%)\n",
            "  adding: CAMs/RGB_7/pour_chocolate,bread/1_rgb0004.jpg (deflated 1%)\n",
            "  adding: CAMs/RGB_7/pour_chocolate,bread/1_rgb0002.jpg (deflated 1%)\n",
            "  adding: CAMs/RGB_7/pour_chocolate,bread/1_rgb0031.jpg (deflated 1%)\n",
            "  adding: CAMs/RGB_7/pour_chocolate,bread/1_rgb0025.jpg (deflated 1%)\n",
            "  adding: CAMs/RGB_7/pour_chocolate,bread/1_rgb0045.jpg (deflated 1%)\n",
            "  adding: CAMs/RGB_7/pour_chocolate,bread/1_rgb0014.jpg (deflated 1%)\n",
            "  adding: CAMs/RGB_7/pour_chocolate,bread/1_rgb0020.jpg (deflated 1%)\n",
            "  adding: CAMs/RGB_7/pour_chocolate,bread/1_rgb0027.jpg (deflated 1%)\n",
            "  adding: CAMs/RGB_7/pour_chocolate,bread/1_rgb0017.jpg (deflated 1%)\n",
            "  adding: CAMs/RGB_7/pour_chocolate,bread/1_rgb0035.jpg (deflated 1%)\n",
            "  adding: CAMs/RGB_7/pour_chocolate,bread/1_rgb0026.jpg (deflated 1%)\n",
            "  adding: CAMs/RGB_7/pour_chocolate,bread/1_rgb0034.jpg (deflated 1%)\n",
            "  adding: CAMs/RGB_7/pour_chocolate,bread/1_rgb0010.jpg (deflated 1%)\n",
            "  adding: CAMs/RGB_7/pour_chocolate,bread/1_rgb0039.jpg (deflated 1%)\n",
            "  adding: CAMs/RGB_7/pour_chocolate,bread/1_rgb0018.jpg (deflated 1%)\n",
            "  adding: CAMs/RGB_7/pour_chocolate,bread/1_rgb0015.jpg (deflated 1%)\n",
            "  adding: CAMs/RGB_7/pour_chocolate,bread/1_rgb0029.jpg (deflated 1%)\n",
            "  adding: CAMs/RGB_7/pour_chocolate,bread/1_rgb0036.jpg (deflated 1%)\n",
            "  adding: CAMs/RGB_7/pour_chocolate,bread/1_rgb0019.jpg (deflated 1%)\n",
            "  adding: CAMs/RGB_7/pour_chocolate,bread/1_rgb0048.jpg (deflated 1%)\n",
            "  adding: CAMs/RGB_7/pour_chocolate,bread/1_rgb0041.jpg (deflated 1%)\n",
            "  adding: CAMs/RGB_7/pour_chocolate,bread/1_rgb0007.jpg (deflated 1%)\n",
            "  adding: CAMs/RGB_7/pour_chocolate,bread/1_rgb0038.jpg (deflated 1%)\n",
            "  adding: CAMs/RGB_7/pour_chocolate,bread/1_rgb0030.jpg (deflated 1%)\n",
            "  adding: CAMs/RGB_7/pour_chocolate,bread/1_rgb0037.jpg (deflated 1%)\n",
            "  adding: CAMs/RGB_7/pour_chocolate,bread/1_rgb0003.jpg (deflated 1%)\n",
            "  adding: CAMs/RGB_7/pour_chocolate,bread/1_rgb0005.jpg (deflated 1%)\n",
            "  adding: CAMs/RGB_7/pour_chocolate,bread/1_rgb0001.jpg (deflated 1%)\n",
            "  adding: CAMs/RGB_7/pour_chocolate,bread/1_rgb0032.jpg (deflated 1%)\n",
            "  adding: CAMs/RGB_7/pour_chocolate,bread/1_rgb0040.jpg (deflated 1%)\n",
            "  adding: CAMs/RGB_7/pour_chocolate,bread/1_rgb0009.jpg (deflated 1%)\n",
            "  adding: CAMs/RGB_16/ (stored 0%)\n",
            "  adding: CAMs/RGB_16/open_chocolate/ (stored 0%)\n",
            "  adding: CAMs/RGB_16/open_chocolate/1_rgb0023.jpg (deflated 1%)\n",
            "  adding: CAMs/RGB_16/open_chocolate/1_rgb0024.jpg (deflated 1%)\n",
            "  adding: CAMs/RGB_16/open_chocolate/1_rgb0013.jpg (deflated 1%)\n",
            "  adding: CAMs/RGB_16/open_chocolate/1_rgb0022.jpg (deflated 1%)\n",
            "  adding: CAMs/RGB_16/open_chocolate/1_rgb0012.jpg (deflated 1%)\n",
            "  adding: CAMs/RGB_16/open_chocolate/1_rgb0011.jpg (deflated 1%)\n",
            "  adding: CAMs/RGB_16/open_chocolate/1_rgb0021.jpg (deflated 1%)\n",
            "  adding: CAMs/RGB_16/open_chocolate/1_rgb0006.jpg (deflated 1%)\n",
            "  adding: CAMs/RGB_16/open_chocolate/1_rgb0016.jpg (deflated 1%)\n",
            "  adding: CAMs/RGB_16/open_chocolate/1_rgb0008.jpg (deflated 1%)\n",
            "  adding: CAMs/RGB_16/open_chocolate/1_rgb0004.jpg (deflated 1%)\n",
            "  adding: CAMs/RGB_16/open_chocolate/1_rgb0002.jpg (deflated 1%)\n",
            "  adding: CAMs/RGB_16/open_chocolate/1_rgb0025.jpg (deflated 1%)\n",
            "  adding: CAMs/RGB_16/open_chocolate/1_rgb0014.jpg (deflated 1%)\n",
            "  adding: CAMs/RGB_16/open_chocolate/1_rgb0020.jpg (deflated 1%)\n",
            "  adding: CAMs/RGB_16/open_chocolate/1_rgb0017.jpg (deflated 1%)\n",
            "  adding: CAMs/RGB_16/open_chocolate/1_rgb0010.jpg (deflated 1%)\n",
            "  adding: CAMs/RGB_16/open_chocolate/1_rgb0018.jpg (deflated 1%)\n",
            "  adding: CAMs/RGB_16/open_chocolate/1_rgb0015.jpg (deflated 1%)\n",
            "  adding: CAMs/RGB_16/open_chocolate/1_rgb0019.jpg (deflated 1%)\n",
            "  adding: CAMs/RGB_16/open_chocolate/1_rgb0007.jpg (deflated 1%)\n",
            "  adding: CAMs/RGB_16/open_chocolate/1_rgb0003.jpg (deflated 1%)\n",
            "  adding: CAMs/RGB_16/open_chocolate/1_rgb0005.jpg (deflated 1%)\n",
            "  adding: CAMs/RGB_16/open_chocolate/1_rgb0001.jpg (deflated 1%)\n",
            "  adding: CAMs/RGB_16/open_chocolate/1_rgb0009.jpg (deflated 1%)\n",
            "  adding: CAMs/RGB_16/pour_chocolate,bread/ (stored 0%)\n",
            "  adding: CAMs/RGB_16/pour_chocolate,bread/1_rgb0042.jpg (deflated 1%)\n",
            "  adding: CAMs/RGB_16/pour_chocolate,bread/1_rgb0028.jpg (deflated 1%)\n",
            "  adding: CAMs/RGB_16/pour_chocolate,bread/1_rgb0046.jpg (deflated 1%)\n",
            "  adding: CAMs/RGB_16/pour_chocolate,bread/1_rgb0023.jpg (deflated 1%)\n",
            "  adding: CAMs/RGB_16/pour_chocolate,bread/1_rgb0024.jpg (deflated 1%)\n",
            "  adding: CAMs/RGB_16/pour_chocolate,bread/1_rgb0013.jpg (deflated 1%)\n",
            "  adding: CAMs/RGB_16/pour_chocolate,bread/1_rgb0022.jpg (deflated 1%)\n",
            "  adding: CAMs/RGB_16/pour_chocolate,bread/1_rgb0012.jpg (deflated 1%)\n",
            "  adding: CAMs/RGB_16/pour_chocolate,bread/1_rgb0011.jpg (deflated 1%)\n",
            "  adding: CAMs/RGB_16/pour_chocolate,bread/1_rgb0021.jpg (deflated 1%)\n",
            "  adding: CAMs/RGB_16/pour_chocolate,bread/1_rgb0043.jpg (deflated 1%)\n",
            "  adding: CAMs/RGB_16/pour_chocolate,bread/1_rgb0006.jpg (deflated 1%)\n",
            "  adding: CAMs/RGB_16/pour_chocolate,bread/1_rgb0016.jpg (deflated 1%)\n",
            "  adding: CAMs/RGB_16/pour_chocolate,bread/1_rgb0044.jpg (deflated 1%)\n",
            "  adding: CAMs/RGB_16/pour_chocolate,bread/1_rgb0033.jpg (deflated 1%)\n",
            "  adding: CAMs/RGB_16/pour_chocolate,bread/1_rgb0008.jpg (deflated 1%)\n",
            "  adding: CAMs/RGB_16/pour_chocolate,bread/1_rgb0047.jpg (deflated 1%)\n",
            "  adding: CAMs/RGB_16/pour_chocolate,bread/1_rgb0004.jpg (deflated 1%)\n",
            "  adding: CAMs/RGB_16/pour_chocolate,bread/1_rgb0002.jpg (deflated 1%)\n",
            "  adding: CAMs/RGB_16/pour_chocolate,bread/1_rgb0031.jpg (deflated 1%)\n",
            "  adding: CAMs/RGB_16/pour_chocolate,bread/1_rgb0025.jpg (deflated 1%)\n",
            "  adding: CAMs/RGB_16/pour_chocolate,bread/1_rgb0045.jpg (deflated 1%)\n",
            "  adding: CAMs/RGB_16/pour_chocolate,bread/1_rgb0014.jpg (deflated 1%)\n",
            "  adding: CAMs/RGB_16/pour_chocolate,bread/1_rgb0020.jpg (deflated 1%)\n",
            "  adding: CAMs/RGB_16/pour_chocolate,bread/1_rgb0027.jpg (deflated 1%)\n",
            "  adding: CAMs/RGB_16/pour_chocolate,bread/1_rgb0017.jpg (deflated 1%)\n",
            "  adding: CAMs/RGB_16/pour_chocolate,bread/1_rgb0035.jpg (deflated 1%)\n",
            "  adding: CAMs/RGB_16/pour_chocolate,bread/1_rgb0026.jpg (deflated 1%)\n",
            "  adding: CAMs/RGB_16/pour_chocolate,bread/1_rgb0034.jpg (deflated 1%)\n",
            "  adding: CAMs/RGB_16/pour_chocolate,bread/1_rgb0010.jpg (deflated 1%)\n",
            "  adding: CAMs/RGB_16/pour_chocolate,bread/1_rgb0039.jpg (deflated 1%)\n",
            "  adding: CAMs/RGB_16/pour_chocolate,bread/1_rgb0018.jpg (deflated 1%)\n",
            "  adding: CAMs/RGB_16/pour_chocolate,bread/1_rgb0015.jpg (deflated 1%)\n",
            "  adding: CAMs/RGB_16/pour_chocolate,bread/1_rgb0029.jpg (deflated 1%)\n",
            "  adding: CAMs/RGB_16/pour_chocolate,bread/1_rgb0036.jpg (deflated 1%)\n",
            "  adding: CAMs/RGB_16/pour_chocolate,bread/1_rgb0019.jpg (deflated 1%)\n",
            "  adding: CAMs/RGB_16/pour_chocolate,bread/1_rgb0048.jpg (deflated 1%)\n",
            "  adding: CAMs/RGB_16/pour_chocolate,bread/1_rgb0041.jpg (deflated 1%)\n",
            "  adding: CAMs/RGB_16/pour_chocolate,bread/1_rgb0007.jpg (deflated 1%)\n",
            "  adding: CAMs/RGB_16/pour_chocolate,bread/1_rgb0038.jpg (deflated 1%)\n",
            "  adding: CAMs/RGB_16/pour_chocolate,bread/1_rgb0030.jpg (deflated 1%)\n",
            "  adding: CAMs/RGB_16/pour_chocolate,bread/1_rgb0037.jpg (deflated 1%)\n",
            "  adding: CAMs/RGB_16/pour_chocolate,bread/1_rgb0003.jpg (deflated 1%)\n",
            "  adding: CAMs/RGB_16/pour_chocolate,bread/1_rgb0005.jpg (deflated 1%)\n",
            "  adding: CAMs/RGB_16/pour_chocolate,bread/1_rgb0001.jpg (deflated 1%)\n",
            "  adding: CAMs/RGB_16/pour_chocolate,bread/1_rgb0032.jpg (deflated 1%)\n",
            "  adding: CAMs/RGB_16/pour_chocolate,bread/1_rgb0040.jpg (deflated 1%)\n",
            "  adding: CAMs/RGB_16/pour_chocolate,bread/1_rgb0009.jpg (deflated 1%)\n",
            "  adding: CAMs/TwoStream_7/ (stored 0%)\n",
            "  adding: CAMs/TwoStream_7/open_chocolate/ (stored 0%)\n",
            "  adding: CAMs/TwoStream_7/open_chocolate/1_rgb0023.jpg (deflated 1%)\n",
            "  adding: CAMs/TwoStream_7/open_chocolate/1_rgb0024.jpg (deflated 1%)\n",
            "  adding: CAMs/TwoStream_7/open_chocolate/1_rgb0013.jpg (deflated 1%)\n",
            "  adding: CAMs/TwoStream_7/open_chocolate/1_rgb0022.jpg (deflated 1%)\n",
            "  adding: CAMs/TwoStream_7/open_chocolate/1_rgb0012.jpg (deflated 1%)\n",
            "  adding: CAMs/TwoStream_7/open_chocolate/1_rgb0011.jpg (deflated 1%)\n",
            "  adding: CAMs/TwoStream_7/open_chocolate/1_rgb0021.jpg (deflated 1%)\n",
            "  adding: CAMs/TwoStream_7/open_chocolate/1_rgb0006.jpg (deflated 1%)\n",
            "  adding: CAMs/TwoStream_7/open_chocolate/1_rgb0016.jpg (deflated 1%)\n",
            "  adding: CAMs/TwoStream_7/open_chocolate/1_rgb0008.jpg (deflated 1%)\n",
            "  adding: CAMs/TwoStream_7/open_chocolate/1_rgb0004.jpg (deflated 1%)\n",
            "  adding: CAMs/TwoStream_7/open_chocolate/1_rgb0002.jpg (deflated 1%)\n",
            "  adding: CAMs/TwoStream_7/open_chocolate/1_rgb0025.jpg (deflated 1%)\n",
            "  adding: CAMs/TwoStream_7/open_chocolate/1_rgb0014.jpg (deflated 1%)\n",
            "  adding: CAMs/TwoStream_7/open_chocolate/1_rgb0020.jpg (deflated 1%)\n",
            "  adding: CAMs/TwoStream_7/open_chocolate/1_rgb0017.jpg (deflated 1%)\n",
            "  adding: CAMs/TwoStream_7/open_chocolate/1_rgb0010.jpg (deflated 1%)\n",
            "  adding: CAMs/TwoStream_7/open_chocolate/1_rgb0018.jpg (deflated 1%)\n",
            "  adding: CAMs/TwoStream_7/open_chocolate/1_rgb0015.jpg (deflated 1%)\n",
            "  adding: CAMs/TwoStream_7/open_chocolate/1_rgb0019.jpg (deflated 1%)\n",
            "  adding: CAMs/TwoStream_7/open_chocolate/1_rgb0007.jpg (deflated 1%)\n",
            "  adding: CAMs/TwoStream_7/open_chocolate/1_rgb0003.jpg (deflated 1%)\n",
            "  adding: CAMs/TwoStream_7/open_chocolate/1_rgb0005.jpg (deflated 1%)\n",
            "  adding: CAMs/TwoStream_7/open_chocolate/1_rgb0001.jpg (deflated 1%)\n",
            "  adding: CAMs/TwoStream_7/open_chocolate/1_rgb0009.jpg (deflated 1%)\n",
            "  adding: CAMs/TwoStream_7/pour_chocolate,bread/ (stored 0%)\n",
            "  adding: CAMs/TwoStream_7/pour_chocolate,bread/1_rgb0042.jpg (deflated 1%)\n",
            "  adding: CAMs/TwoStream_7/pour_chocolate,bread/1_rgb0028.jpg (deflated 1%)\n",
            "  adding: CAMs/TwoStream_7/pour_chocolate,bread/1_rgb0046.jpg (deflated 1%)\n",
            "  adding: CAMs/TwoStream_7/pour_chocolate,bread/1_rgb0023.jpg (deflated 1%)\n",
            "  adding: CAMs/TwoStream_7/pour_chocolate,bread/1_rgb0024.jpg (deflated 1%)\n",
            "  adding: CAMs/TwoStream_7/pour_chocolate,bread/1_rgb0013.jpg (deflated 1%)\n",
            "  adding: CAMs/TwoStream_7/pour_chocolate,bread/1_rgb0022.jpg (deflated 1%)\n",
            "  adding: CAMs/TwoStream_7/pour_chocolate,bread/1_rgb0012.jpg (deflated 1%)\n",
            "  adding: CAMs/TwoStream_7/pour_chocolate,bread/1_rgb0011.jpg (deflated 1%)\n",
            "  adding: CAMs/TwoStream_7/pour_chocolate,bread/1_rgb0021.jpg (deflated 1%)\n",
            "  adding: CAMs/TwoStream_7/pour_chocolate,bread/1_rgb0043.jpg (deflated 1%)\n",
            "  adding: CAMs/TwoStream_7/pour_chocolate,bread/1_rgb0006.jpg (deflated 1%)\n",
            "  adding: CAMs/TwoStream_7/pour_chocolate,bread/1_rgb0016.jpg (deflated 1%)\n",
            "  adding: CAMs/TwoStream_7/pour_chocolate,bread/1_rgb0044.jpg (deflated 1%)\n",
            "  adding: CAMs/TwoStream_7/pour_chocolate,bread/1_rgb0033.jpg (deflated 1%)\n",
            "  adding: CAMs/TwoStream_7/pour_chocolate,bread/1_rgb0008.jpg (deflated 1%)\n",
            "  adding: CAMs/TwoStream_7/pour_chocolate,bread/1_rgb0047.jpg (deflated 1%)\n",
            "  adding: CAMs/TwoStream_7/pour_chocolate,bread/1_rgb0004.jpg (deflated 1%)\n",
            "  adding: CAMs/TwoStream_7/pour_chocolate,bread/1_rgb0002.jpg (deflated 1%)\n",
            "  adding: CAMs/TwoStream_7/pour_chocolate,bread/1_rgb0031.jpg (deflated 1%)\n",
            "  adding: CAMs/TwoStream_7/pour_chocolate,bread/1_rgb0025.jpg (deflated 1%)\n",
            "  adding: CAMs/TwoStream_7/pour_chocolate,bread/1_rgb0045.jpg (deflated 1%)\n",
            "  adding: CAMs/TwoStream_7/pour_chocolate,bread/1_rgb0014.jpg (deflated 1%)\n",
            "  adding: CAMs/TwoStream_7/pour_chocolate,bread/1_rgb0020.jpg (deflated 1%)\n",
            "  adding: CAMs/TwoStream_7/pour_chocolate,bread/1_rgb0027.jpg (deflated 1%)\n",
            "  adding: CAMs/TwoStream_7/pour_chocolate,bread/1_rgb0017.jpg (deflated 1%)\n",
            "  adding: CAMs/TwoStream_7/pour_chocolate,bread/1_rgb0035.jpg (deflated 1%)\n",
            "  adding: CAMs/TwoStream_7/pour_chocolate,bread/1_rgb0026.jpg (deflated 1%)\n",
            "  adding: CAMs/TwoStream_7/pour_chocolate,bread/1_rgb0034.jpg (deflated 1%)\n",
            "  adding: CAMs/TwoStream_7/pour_chocolate,bread/1_rgb0010.jpg (deflated 1%)\n",
            "  adding: CAMs/TwoStream_7/pour_chocolate,bread/1_rgb0039.jpg (deflated 1%)\n",
            "  adding: CAMs/TwoStream_7/pour_chocolate,bread/1_rgb0018.jpg (deflated 1%)\n",
            "  adding: CAMs/TwoStream_7/pour_chocolate,bread/1_rgb0015.jpg (deflated 1%)\n",
            "  adding: CAMs/TwoStream_7/pour_chocolate,bread/1_rgb0029.jpg (deflated 1%)\n",
            "  adding: CAMs/TwoStream_7/pour_chocolate,bread/1_rgb0036.jpg (deflated 1%)\n",
            "  adding: CAMs/TwoStream_7/pour_chocolate,bread/1_rgb0019.jpg (deflated 1%)\n",
            "  adding: CAMs/TwoStream_7/pour_chocolate,bread/1_rgb0048.jpg (deflated 1%)\n",
            "  adding: CAMs/TwoStream_7/pour_chocolate,bread/1_rgb0041.jpg (deflated 1%)\n",
            "  adding: CAMs/TwoStream_7/pour_chocolate,bread/1_rgb0007.jpg (deflated 1%)\n",
            "  adding: CAMs/TwoStream_7/pour_chocolate,bread/1_rgb0038.jpg (deflated 1%)\n",
            "  adding: CAMs/TwoStream_7/pour_chocolate,bread/1_rgb0030.jpg (deflated 1%)\n",
            "  adding: CAMs/TwoStream_7/pour_chocolate,bread/1_rgb0037.jpg (deflated 1%)\n",
            "  adding: CAMs/TwoStream_7/pour_chocolate,bread/1_rgb0003.jpg (deflated 1%)\n",
            "  adding: CAMs/TwoStream_7/pour_chocolate,bread/1_rgb0005.jpg (deflated 1%)\n",
            "  adding: CAMs/TwoStream_7/pour_chocolate,bread/1_rgb0001.jpg (deflated 1%)\n",
            "  adding: CAMs/TwoStream_7/pour_chocolate,bread/1_rgb0032.jpg (deflated 1%)\n",
            "  adding: CAMs/TwoStream_7/pour_chocolate,bread/1_rgb0040.jpg (deflated 1%)\n",
            "  adding: CAMs/TwoStream_7/pour_chocolate,bread/1_rgb0009.jpg (deflated 1%)\n",
            "  adding: CAMs/self_sup_regr/ (stored 0%)\n",
            "  adding: CAMs/self_sup_regr/open_chocolate/ (stored 0%)\n",
            "  adding: CAMs/self_sup_regr/open_chocolate/1_rgb0023.jpg (deflated 1%)\n",
            "  adding: CAMs/self_sup_regr/open_chocolate/1_rgb0024.jpg (deflated 1%)\n",
            "  adding: CAMs/self_sup_regr/open_chocolate/1_rgb0013.jpg (deflated 1%)\n",
            "  adding: CAMs/self_sup_regr/open_chocolate/1_rgb0022.jpg (deflated 1%)\n",
            "  adding: CAMs/self_sup_regr/open_chocolate/1_rgb0012.jpg (deflated 1%)\n",
            "  adding: CAMs/self_sup_regr/open_chocolate/1_rgb0011.jpg (deflated 1%)\n",
            "  adding: CAMs/self_sup_regr/open_chocolate/1_rgb0021.jpg (deflated 1%)\n",
            "  adding: CAMs/self_sup_regr/open_chocolate/1_rgb0006.jpg (deflated 1%)\n",
            "  adding: CAMs/self_sup_regr/open_chocolate/1_rgb0016.jpg (deflated 1%)\n",
            "  adding: CAMs/self_sup_regr/open_chocolate/1_rgb0008.jpg (deflated 1%)\n",
            "  adding: CAMs/self_sup_regr/open_chocolate/1_rgb0004.jpg (deflated 1%)\n",
            "  adding: CAMs/self_sup_regr/open_chocolate/1_rgb0002.jpg (deflated 1%)\n",
            "  adding: CAMs/self_sup_regr/open_chocolate/1_rgb0025.jpg (deflated 1%)\n",
            "  adding: CAMs/self_sup_regr/open_chocolate/1_rgb0014.jpg (deflated 1%)\n",
            "  adding: CAMs/self_sup_regr/open_chocolate/1_rgb0020.jpg (deflated 1%)\n",
            "  adding: CAMs/self_sup_regr/open_chocolate/1_rgb0017.jpg (deflated 1%)\n",
            "  adding: CAMs/self_sup_regr/open_chocolate/1_rgb0010.jpg (deflated 1%)\n",
            "  adding: CAMs/self_sup_regr/open_chocolate/1_rgb0018.jpg (deflated 1%)\n",
            "  adding: CAMs/self_sup_regr/open_chocolate/1_rgb0015.jpg (deflated 1%)\n",
            "  adding: CAMs/self_sup_regr/open_chocolate/1_rgb0019.jpg (deflated 1%)\n",
            "  adding: CAMs/self_sup_regr/open_chocolate/1_rgb0007.jpg (deflated 1%)\n",
            "  adding: CAMs/self_sup_regr/open_chocolate/1_rgb0003.jpg (deflated 1%)\n",
            "  adding: CAMs/self_sup_regr/open_chocolate/1_rgb0005.jpg (deflated 1%)\n",
            "  adding: CAMs/self_sup_regr/open_chocolate/1_rgb0001.jpg (deflated 1%)\n",
            "  adding: CAMs/self_sup_regr/open_chocolate/1_rgb0009.jpg (deflated 1%)\n",
            "  adding: CAMs/self_sup_regr/pour_chocolate,bread/ (stored 0%)\n",
            "  adding: CAMs/self_sup_regr/pour_chocolate,bread/1_rgb0042.jpg (deflated 1%)\n",
            "  adding: CAMs/self_sup_regr/pour_chocolate,bread/1_rgb0028.jpg (deflated 1%)\n",
            "  adding: CAMs/self_sup_regr/pour_chocolate,bread/1_rgb0046.jpg (deflated 1%)\n",
            "  adding: CAMs/self_sup_regr/pour_chocolate,bread/1_rgb0023.jpg (deflated 1%)\n",
            "  adding: CAMs/self_sup_regr/pour_chocolate,bread/1_rgb0024.jpg (deflated 1%)\n",
            "  adding: CAMs/self_sup_regr/pour_chocolate,bread/1_rgb0013.jpg (deflated 1%)\n",
            "  adding: CAMs/self_sup_regr/pour_chocolate,bread/1_rgb0022.jpg (deflated 1%)\n",
            "  adding: CAMs/self_sup_regr/pour_chocolate,bread/1_rgb0012.jpg (deflated 1%)\n",
            "  adding: CAMs/self_sup_regr/pour_chocolate,bread/1_rgb0011.jpg (deflated 1%)\n",
            "  adding: CAMs/self_sup_regr/pour_chocolate,bread/1_rgb0021.jpg (deflated 1%)\n",
            "  adding: CAMs/self_sup_regr/pour_chocolate,bread/1_rgb0043.jpg (deflated 1%)\n",
            "  adding: CAMs/self_sup_regr/pour_chocolate,bread/1_rgb0006.jpg (deflated 1%)\n",
            "  adding: CAMs/self_sup_regr/pour_chocolate,bread/1_rgb0016.jpg (deflated 1%)\n",
            "  adding: CAMs/self_sup_regr/pour_chocolate,bread/1_rgb0044.jpg (deflated 1%)\n",
            "  adding: CAMs/self_sup_regr/pour_chocolate,bread/1_rgb0033.jpg (deflated 1%)\n",
            "  adding: CAMs/self_sup_regr/pour_chocolate,bread/1_rgb0008.jpg (deflated 1%)\n",
            "  adding: CAMs/self_sup_regr/pour_chocolate,bread/1_rgb0047.jpg (deflated 1%)\n",
            "  adding: CAMs/self_sup_regr/pour_chocolate,bread/1_rgb0004.jpg (deflated 1%)\n",
            "  adding: CAMs/self_sup_regr/pour_chocolate,bread/1_rgb0002.jpg (deflated 1%)\n",
            "  adding: CAMs/self_sup_regr/pour_chocolate,bread/1_rgb0031.jpg (deflated 1%)\n",
            "  adding: CAMs/self_sup_regr/pour_chocolate,bread/1_rgb0025.jpg (deflated 1%)\n",
            "  adding: CAMs/self_sup_regr/pour_chocolate,bread/1_rgb0045.jpg (deflated 1%)\n",
            "  adding: CAMs/self_sup_regr/pour_chocolate,bread/1_rgb0014.jpg (deflated 1%)\n",
            "  adding: CAMs/self_sup_regr/pour_chocolate,bread/1_rgb0020.jpg (deflated 1%)\n",
            "  adding: CAMs/self_sup_regr/pour_chocolate,bread/1_rgb0027.jpg (deflated 1%)\n",
            "  adding: CAMs/self_sup_regr/pour_chocolate,bread/1_rgb0017.jpg (deflated 1%)\n",
            "  adding: CAMs/self_sup_regr/pour_chocolate,bread/1_rgb0035.jpg (deflated 1%)\n",
            "  adding: CAMs/self_sup_regr/pour_chocolate,bread/1_rgb0026.jpg (deflated 1%)\n",
            "  adding: CAMs/self_sup_regr/pour_chocolate,bread/1_rgb0034.jpg (deflated 1%)\n",
            "  adding: CAMs/self_sup_regr/pour_chocolate,bread/1_rgb0010.jpg (deflated 1%)\n",
            "  adding: CAMs/self_sup_regr/pour_chocolate,bread/1_rgb0039.jpg (deflated 1%)\n",
            "  adding: CAMs/self_sup_regr/pour_chocolate,bread/1_rgb0018.jpg (deflated 1%)\n",
            "  adding: CAMs/self_sup_regr/pour_chocolate,bread/1_rgb0015.jpg (deflated 1%)\n",
            "  adding: CAMs/self_sup_regr/pour_chocolate,bread/1_rgb0029.jpg (deflated 1%)\n",
            "  adding: CAMs/self_sup_regr/pour_chocolate,bread/1_rgb0036.jpg (deflated 1%)\n",
            "  adding: CAMs/self_sup_regr/pour_chocolate,bread/1_rgb0019.jpg (deflated 1%)\n",
            "  adding: CAMs/self_sup_regr/pour_chocolate,bread/1_rgb0048.jpg (deflated 1%)\n",
            "  adding: CAMs/self_sup_regr/pour_chocolate,bread/1_rgb0041.jpg (deflated 1%)\n",
            "  adding: CAMs/self_sup_regr/pour_chocolate,bread/1_rgb0007.jpg (deflated 1%)\n",
            "  adding: CAMs/self_sup_regr/pour_chocolate,bread/1_rgb0038.jpg (deflated 1%)\n",
            "  adding: CAMs/self_sup_regr/pour_chocolate,bread/1_rgb0030.jpg (deflated 1%)\n",
            "  adding: CAMs/self_sup_regr/pour_chocolate,bread/1_rgb0037.jpg (deflated 1%)\n",
            "  adding: CAMs/self_sup_regr/pour_chocolate,bread/1_rgb0003.jpg (deflated 1%)\n",
            "  adding: CAMs/self_sup_regr/pour_chocolate,bread/1_rgb0005.jpg (deflated 1%)\n",
            "  adding: CAMs/self_sup_regr/pour_chocolate,bread/1_rgb0001.jpg (deflated 1%)\n",
            "  adding: CAMs/self_sup_regr/pour_chocolate,bread/1_rgb0032.jpg (deflated 1%)\n",
            "  adding: CAMs/self_sup_regr/pour_chocolate,bread/1_rgb0040.jpg (deflated 1%)\n",
            "  adding: CAMs/self_sup_regr/pour_chocolate,bread/1_rgb0009.jpg (deflated 1%)\n",
            "  adding: CAMs/RGB_LSTA_7/ (stored 0%)\n",
            "  adding: CAMs/RGB_LSTA_7/open_chocolate/ (stored 0%)\n",
            "  adding: CAMs/RGB_LSTA_7/open_chocolate/1_rgb0023.jpg (deflated 1%)\n",
            "  adding: CAMs/RGB_LSTA_7/open_chocolate/1_rgb0024.jpg (deflated 1%)\n",
            "  adding: CAMs/RGB_LSTA_7/open_chocolate/1_rgb0013.jpg (deflated 1%)\n",
            "  adding: CAMs/RGB_LSTA_7/open_chocolate/1_rgb0022.jpg (deflated 1%)\n",
            "  adding: CAMs/RGB_LSTA_7/open_chocolate/1_rgb0012.jpg (deflated 1%)\n",
            "  adding: CAMs/RGB_LSTA_7/open_chocolate/1_rgb0011.jpg (deflated 1%)\n",
            "  adding: CAMs/RGB_LSTA_7/open_chocolate/1_rgb0021.jpg (deflated 1%)\n",
            "  adding: CAMs/RGB_LSTA_7/open_chocolate/1_rgb0006.jpg (deflated 1%)\n",
            "  adding: CAMs/RGB_LSTA_7/open_chocolate/1_rgb0016.jpg (deflated 1%)\n",
            "  adding: CAMs/RGB_LSTA_7/open_chocolate/1_rgb0008.jpg (deflated 1%)\n",
            "  adding: CAMs/RGB_LSTA_7/open_chocolate/1_rgb0004.jpg (deflated 1%)\n",
            "  adding: CAMs/RGB_LSTA_7/open_chocolate/1_rgb0002.jpg (deflated 1%)\n",
            "  adding: CAMs/RGB_LSTA_7/open_chocolate/1_rgb0025.jpg (deflated 1%)\n",
            "  adding: CAMs/RGB_LSTA_7/open_chocolate/1_rgb0014.jpg (deflated 1%)\n",
            "  adding: CAMs/RGB_LSTA_7/open_chocolate/1_rgb0020.jpg (deflated 1%)\n",
            "  adding: CAMs/RGB_LSTA_7/open_chocolate/1_rgb0017.jpg (deflated 1%)\n",
            "  adding: CAMs/RGB_LSTA_7/open_chocolate/1_rgb0010.jpg (deflated 1%)\n",
            "  adding: CAMs/RGB_LSTA_7/open_chocolate/1_rgb0018.jpg (deflated 1%)\n",
            "  adding: CAMs/RGB_LSTA_7/open_chocolate/1_rgb0015.jpg (deflated 1%)\n",
            "  adding: CAMs/RGB_LSTA_7/open_chocolate/1_rgb0019.jpg (deflated 1%)\n",
            "  adding: CAMs/RGB_LSTA_7/open_chocolate/1_rgb0007.jpg (deflated 1%)\n",
            "  adding: CAMs/RGB_LSTA_7/open_chocolate/1_rgb0003.jpg (deflated 1%)\n",
            "  adding: CAMs/RGB_LSTA_7/open_chocolate/1_rgb0005.jpg (deflated 1%)\n",
            "  adding: CAMs/RGB_LSTA_7/open_chocolate/1_rgb0001.jpg (deflated 1%)\n",
            "  adding: CAMs/RGB_LSTA_7/open_chocolate/1_rgb0009.jpg (deflated 1%)\n",
            "  adding: CAMs/RGB_LSTA_7/pour_chocolate,bread/ (stored 0%)\n",
            "  adding: CAMs/RGB_LSTA_7/pour_chocolate,bread/1_rgb0042.jpg (deflated 1%)\n",
            "  adding: CAMs/RGB_LSTA_7/pour_chocolate,bread/1_rgb0028.jpg (deflated 1%)\n",
            "  adding: CAMs/RGB_LSTA_7/pour_chocolate,bread/1_rgb0046.jpg (deflated 1%)\n",
            "  adding: CAMs/RGB_LSTA_7/pour_chocolate,bread/1_rgb0023.jpg (deflated 1%)\n",
            "  adding: CAMs/RGB_LSTA_7/pour_chocolate,bread/1_rgb0024.jpg (deflated 1%)\n",
            "  adding: CAMs/RGB_LSTA_7/pour_chocolate,bread/1_rgb0013.jpg (deflated 1%)\n",
            "  adding: CAMs/RGB_LSTA_7/pour_chocolate,bread/1_rgb0022.jpg (deflated 1%)\n",
            "  adding: CAMs/RGB_LSTA_7/pour_chocolate,bread/1_rgb0012.jpg (deflated 1%)\n",
            "  adding: CAMs/RGB_LSTA_7/pour_chocolate,bread/1_rgb0011.jpg (deflated 1%)\n",
            "  adding: CAMs/RGB_LSTA_7/pour_chocolate,bread/1_rgb0021.jpg (deflated 1%)\n",
            "  adding: CAMs/RGB_LSTA_7/pour_chocolate,bread/1_rgb0043.jpg (deflated 1%)\n",
            "  adding: CAMs/RGB_LSTA_7/pour_chocolate,bread/1_rgb0006.jpg (deflated 1%)\n",
            "  adding: CAMs/RGB_LSTA_7/pour_chocolate,bread/1_rgb0016.jpg (deflated 1%)\n",
            "  adding: CAMs/RGB_LSTA_7/pour_chocolate,bread/1_rgb0044.jpg (deflated 1%)\n",
            "  adding: CAMs/RGB_LSTA_7/pour_chocolate,bread/1_rgb0033.jpg (deflated 1%)\n",
            "  adding: CAMs/RGB_LSTA_7/pour_chocolate,bread/1_rgb0008.jpg (deflated 1%)\n",
            "  adding: CAMs/RGB_LSTA_7/pour_chocolate,bread/1_rgb0047.jpg (deflated 1%)\n",
            "  adding: CAMs/RGB_LSTA_7/pour_chocolate,bread/1_rgb0004.jpg (deflated 1%)\n",
            "  adding: CAMs/RGB_LSTA_7/pour_chocolate,bread/1_rgb0002.jpg (deflated 1%)\n",
            "  adding: CAMs/RGB_LSTA_7/pour_chocolate,bread/1_rgb0031.jpg (deflated 1%)\n",
            "  adding: CAMs/RGB_LSTA_7/pour_chocolate,bread/1_rgb0025.jpg (deflated 1%)\n",
            "  adding: CAMs/RGB_LSTA_7/pour_chocolate,bread/1_rgb0045.jpg (deflated 1%)\n",
            "  adding: CAMs/RGB_LSTA_7/pour_chocolate,bread/1_rgb0014.jpg (deflated 1%)\n",
            "  adding: CAMs/RGB_LSTA_7/pour_chocolate,bread/1_rgb0020.jpg (deflated 1%)\n",
            "  adding: CAMs/RGB_LSTA_7/pour_chocolate,bread/1_rgb0027.jpg (deflated 1%)\n",
            "  adding: CAMs/RGB_LSTA_7/pour_chocolate,bread/1_rgb0017.jpg (deflated 1%)\n",
            "  adding: CAMs/RGB_LSTA_7/pour_chocolate,bread/1_rgb0035.jpg (deflated 1%)\n",
            "  adding: CAMs/RGB_LSTA_7/pour_chocolate,bread/1_rgb0026.jpg (deflated 1%)\n",
            "  adding: CAMs/RGB_LSTA_7/pour_chocolate,bread/1_rgb0034.jpg (deflated 1%)\n",
            "  adding: CAMs/RGB_LSTA_7/pour_chocolate,bread/1_rgb0010.jpg (deflated 1%)\n",
            "  adding: CAMs/RGB_LSTA_7/pour_chocolate,bread/1_rgb0039.jpg (deflated 1%)\n",
            "  adding: CAMs/RGB_LSTA_7/pour_chocolate,bread/1_rgb0018.jpg (deflated 1%)\n",
            "  adding: CAMs/RGB_LSTA_7/pour_chocolate,bread/1_rgb0015.jpg (deflated 1%)\n",
            "  adding: CAMs/RGB_LSTA_7/pour_chocolate,bread/1_rgb0029.jpg (deflated 1%)\n",
            "  adding: CAMs/RGB_LSTA_7/pour_chocolate,bread/1_rgb0036.jpg (deflated 1%)\n",
            "  adding: CAMs/RGB_LSTA_7/pour_chocolate,bread/1_rgb0019.jpg (deflated 1%)\n",
            "  adding: CAMs/RGB_LSTA_7/pour_chocolate,bread/1_rgb0048.jpg (deflated 1%)\n",
            "  adding: CAMs/RGB_LSTA_7/pour_chocolate,bread/1_rgb0041.jpg (deflated 1%)\n",
            "  adding: CAMs/RGB_LSTA_7/pour_chocolate,bread/1_rgb0007.jpg (deflated 1%)\n",
            "  adding: CAMs/RGB_LSTA_7/pour_chocolate,bread/1_rgb0038.jpg (deflated 1%)\n",
            "  adding: CAMs/RGB_LSTA_7/pour_chocolate,bread/1_rgb0030.jpg (deflated 1%)\n",
            "  adding: CAMs/RGB_LSTA_7/pour_chocolate,bread/1_rgb0037.jpg (deflated 1%)\n",
            "  adding: CAMs/RGB_LSTA_7/pour_chocolate,bread/1_rgb0003.jpg (deflated 1%)\n",
            "  adding: CAMs/RGB_LSTA_7/pour_chocolate,bread/1_rgb0005.jpg (deflated 1%)\n",
            "  adding: CAMs/RGB_LSTA_7/pour_chocolate,bread/1_rgb0001.jpg (deflated 1%)\n",
            "  adding: CAMs/RGB_LSTA_7/pour_chocolate,bread/1_rgb0032.jpg (deflated 1%)\n",
            "  adding: CAMs/RGB_LSTA_7/pour_chocolate,bread/1_rgb0040.jpg (deflated 1%)\n",
            "  adding: CAMs/RGB_LSTA_7/pour_chocolate,bread/1_rgb0009.jpg (deflated 1%)\n",
            "  adding: CAMs/RGB_LSTA_16/ (stored 0%)\n",
            "  adding: CAMs/RGB_LSTA_16/open_chocolate/ (stored 0%)\n",
            "  adding: CAMs/RGB_LSTA_16/open_chocolate/1_rgb0023.jpg (deflated 1%)\n",
            "  adding: CAMs/RGB_LSTA_16/open_chocolate/1_rgb0024.jpg (deflated 1%)\n",
            "  adding: CAMs/RGB_LSTA_16/open_chocolate/1_rgb0013.jpg (deflated 1%)\n",
            "  adding: CAMs/RGB_LSTA_16/open_chocolate/1_rgb0022.jpg (deflated 1%)\n",
            "  adding: CAMs/RGB_LSTA_16/open_chocolate/1_rgb0012.jpg (deflated 1%)\n",
            "  adding: CAMs/RGB_LSTA_16/open_chocolate/1_rgb0011.jpg (deflated 1%)\n",
            "  adding: CAMs/RGB_LSTA_16/open_chocolate/1_rgb0021.jpg (deflated 1%)\n",
            "  adding: CAMs/RGB_LSTA_16/open_chocolate/1_rgb0006.jpg (deflated 1%)\n",
            "  adding: CAMs/RGB_LSTA_16/open_chocolate/1_rgb0016.jpg (deflated 1%)\n",
            "  adding: CAMs/RGB_LSTA_16/open_chocolate/1_rgb0008.jpg (deflated 1%)\n",
            "  adding: CAMs/RGB_LSTA_16/open_chocolate/1_rgb0004.jpg (deflated 1%)\n",
            "  adding: CAMs/RGB_LSTA_16/open_chocolate/1_rgb0002.jpg (deflated 1%)\n",
            "  adding: CAMs/RGB_LSTA_16/open_chocolate/1_rgb0025.jpg (deflated 1%)\n",
            "  adding: CAMs/RGB_LSTA_16/open_chocolate/1_rgb0014.jpg (deflated 1%)\n",
            "  adding: CAMs/RGB_LSTA_16/open_chocolate/1_rgb0020.jpg (deflated 1%)\n",
            "  adding: CAMs/RGB_LSTA_16/open_chocolate/1_rgb0017.jpg (deflated 1%)\n",
            "  adding: CAMs/RGB_LSTA_16/open_chocolate/1_rgb0010.jpg (deflated 1%)\n",
            "  adding: CAMs/RGB_LSTA_16/open_chocolate/1_rgb0018.jpg (deflated 1%)\n",
            "  adding: CAMs/RGB_LSTA_16/open_chocolate/1_rgb0015.jpg (deflated 1%)\n",
            "  adding: CAMs/RGB_LSTA_16/open_chocolate/1_rgb0019.jpg (deflated 1%)\n",
            "  adding: CAMs/RGB_LSTA_16/open_chocolate/1_rgb0007.jpg (deflated 1%)\n",
            "  adding: CAMs/RGB_LSTA_16/open_chocolate/1_rgb0003.jpg (deflated 1%)\n",
            "  adding: CAMs/RGB_LSTA_16/open_chocolate/1_rgb0005.jpg (deflated 1%)\n",
            "  adding: CAMs/RGB_LSTA_16/open_chocolate/1_rgb0001.jpg (deflated 1%)\n",
            "  adding: CAMs/RGB_LSTA_16/open_chocolate/1_rgb0009.jpg (deflated 1%)\n",
            "  adding: CAMs/RGB_LSTA_16/pour_chocolate,bread/ (stored 0%)\n",
            "  adding: CAMs/RGB_LSTA_16/pour_chocolate,bread/1_rgb0042.jpg (deflated 1%)\n",
            "  adding: CAMs/RGB_LSTA_16/pour_chocolate,bread/1_rgb0028.jpg (deflated 1%)\n",
            "  adding: CAMs/RGB_LSTA_16/pour_chocolate,bread/1_rgb0046.jpg (deflated 1%)\n",
            "  adding: CAMs/RGB_LSTA_16/pour_chocolate,bread/1_rgb0023.jpg (deflated 1%)\n",
            "  adding: CAMs/RGB_LSTA_16/pour_chocolate,bread/1_rgb0024.jpg (deflated 1%)\n",
            "  adding: CAMs/RGB_LSTA_16/pour_chocolate,bread/1_rgb0013.jpg (deflated 1%)\n",
            "  adding: CAMs/RGB_LSTA_16/pour_chocolate,bread/1_rgb0022.jpg (deflated 1%)\n",
            "  adding: CAMs/RGB_LSTA_16/pour_chocolate,bread/1_rgb0012.jpg (deflated 1%)\n",
            "  adding: CAMs/RGB_LSTA_16/pour_chocolate,bread/1_rgb0011.jpg (deflated 1%)\n",
            "  adding: CAMs/RGB_LSTA_16/pour_chocolate,bread/1_rgb0021.jpg (deflated 1%)\n",
            "  adding: CAMs/RGB_LSTA_16/pour_chocolate,bread/1_rgb0043.jpg (deflated 1%)\n",
            "  adding: CAMs/RGB_LSTA_16/pour_chocolate,bread/1_rgb0006.jpg (deflated 1%)\n",
            "  adding: CAMs/RGB_LSTA_16/pour_chocolate,bread/1_rgb0016.jpg (deflated 1%)\n",
            "  adding: CAMs/RGB_LSTA_16/pour_chocolate,bread/1_rgb0044.jpg (deflated 1%)\n",
            "  adding: CAMs/RGB_LSTA_16/pour_chocolate,bread/1_rgb0033.jpg (deflated 1%)\n",
            "  adding: CAMs/RGB_LSTA_16/pour_chocolate,bread/1_rgb0008.jpg (deflated 1%)\n",
            "  adding: CAMs/RGB_LSTA_16/pour_chocolate,bread/1_rgb0047.jpg (deflated 1%)\n",
            "  adding: CAMs/RGB_LSTA_16/pour_chocolate,bread/1_rgb0004.jpg (deflated 1%)\n",
            "  adding: CAMs/RGB_LSTA_16/pour_chocolate,bread/1_rgb0002.jpg (deflated 1%)\n",
            "  adding: CAMs/RGB_LSTA_16/pour_chocolate,bread/1_rgb0031.jpg (deflated 1%)\n",
            "  adding: CAMs/RGB_LSTA_16/pour_chocolate,bread/1_rgb0025.jpg (deflated 1%)\n",
            "  adding: CAMs/RGB_LSTA_16/pour_chocolate,bread/1_rgb0045.jpg (deflated 1%)\n",
            "  adding: CAMs/RGB_LSTA_16/pour_chocolate,bread/1_rgb0014.jpg (deflated 1%)\n",
            "  adding: CAMs/RGB_LSTA_16/pour_chocolate,bread/1_rgb0020.jpg (deflated 1%)\n",
            "  adding: CAMs/RGB_LSTA_16/pour_chocolate,bread/1_rgb0027.jpg (deflated 1%)\n",
            "  adding: CAMs/RGB_LSTA_16/pour_chocolate,bread/1_rgb0017.jpg (deflated 1%)\n",
            "  adding: CAMs/RGB_LSTA_16/pour_chocolate,bread/1_rgb0035.jpg (deflated 1%)\n",
            "  adding: CAMs/RGB_LSTA_16/pour_chocolate,bread/1_rgb0026.jpg (deflated 1%)\n",
            "  adding: CAMs/RGB_LSTA_16/pour_chocolate,bread/1_rgb0034.jpg (deflated 1%)\n",
            "  adding: CAMs/RGB_LSTA_16/pour_chocolate,bread/1_rgb0010.jpg (deflated 1%)\n",
            "  adding: CAMs/RGB_LSTA_16/pour_chocolate,bread/1_rgb0039.jpg (deflated 1%)\n",
            "  adding: CAMs/RGB_LSTA_16/pour_chocolate,bread/1_rgb0018.jpg (deflated 1%)\n",
            "  adding: CAMs/RGB_LSTA_16/pour_chocolate,bread/1_rgb0015.jpg (deflated 1%)\n",
            "  adding: CAMs/RGB_LSTA_16/pour_chocolate,bread/1_rgb0029.jpg (deflated 1%)\n",
            "  adding: CAMs/RGB_LSTA_16/pour_chocolate,bread/1_rgb0036.jpg (deflated 1%)\n",
            "  adding: CAMs/RGB_LSTA_16/pour_chocolate,bread/1_rgb0019.jpg (deflated 1%)\n",
            "  adding: CAMs/RGB_LSTA_16/pour_chocolate,bread/1_rgb0048.jpg (deflated 1%)\n",
            "  adding: CAMs/RGB_LSTA_16/pour_chocolate,bread/1_rgb0041.jpg (deflated 1%)\n",
            "  adding: CAMs/RGB_LSTA_16/pour_chocolate,bread/1_rgb0007.jpg (deflated 1%)\n",
            "  adding: CAMs/RGB_LSTA_16/pour_chocolate,bread/1_rgb0038.jpg (deflated 1%)\n",
            "  adding: CAMs/RGB_LSTA_16/pour_chocolate,bread/1_rgb0030.jpg (deflated 1%)\n",
            "  adding: CAMs/RGB_LSTA_16/pour_chocolate,bread/1_rgb0037.jpg (deflated 1%)\n",
            "  adding: CAMs/RGB_LSTA_16/pour_chocolate,bread/1_rgb0003.jpg (deflated 1%)\n",
            "  adding: CAMs/RGB_LSTA_16/pour_chocolate,bread/1_rgb0005.jpg (deflated 1%)\n",
            "  adding: CAMs/RGB_LSTA_16/pour_chocolate,bread/1_rgb0001.jpg (deflated 1%)\n",
            "  adding: CAMs/RGB_LSTA_16/pour_chocolate,bread/1_rgb0032.jpg (deflated 1%)\n",
            "  adding: CAMs/RGB_LSTA_16/pour_chocolate,bread/1_rgb0040.jpg (deflated 1%)\n",
            "  adding: CAMs/RGB_LSTA_16/pour_chocolate,bread/1_rgb0009.jpg (deflated 1%)\n",
            "  adding: CAMs/TwoStreamLSTA_16/ (stored 0%)\n",
            "  adding: CAMs/TwoStreamLSTA_16/open_chocolate/ (stored 0%)\n",
            "  adding: CAMs/TwoStreamLSTA_16/open_chocolate/1_rgb0023.jpg (deflated 1%)\n",
            "  adding: CAMs/TwoStreamLSTA_16/open_chocolate/1_rgb0024.jpg (deflated 1%)\n",
            "  adding: CAMs/TwoStreamLSTA_16/open_chocolate/1_rgb0013.jpg (deflated 1%)\n",
            "  adding: CAMs/TwoStreamLSTA_16/open_chocolate/1_rgb0022.jpg (deflated 1%)\n",
            "  adding: CAMs/TwoStreamLSTA_16/open_chocolate/1_rgb0012.jpg (deflated 1%)\n",
            "  adding: CAMs/TwoStreamLSTA_16/open_chocolate/1_rgb0011.jpg (deflated 1%)\n",
            "  adding: CAMs/TwoStreamLSTA_16/open_chocolate/1_rgb0021.jpg (deflated 1%)\n",
            "  adding: CAMs/TwoStreamLSTA_16/open_chocolate/1_rgb0006.jpg (deflated 1%)\n",
            "  adding: CAMs/TwoStreamLSTA_16/open_chocolate/1_rgb0016.jpg (deflated 1%)\n",
            "  adding: CAMs/TwoStreamLSTA_16/open_chocolate/1_rgb0008.jpg (deflated 1%)\n",
            "  adding: CAMs/TwoStreamLSTA_16/open_chocolate/1_rgb0004.jpg (deflated 1%)\n",
            "  adding: CAMs/TwoStreamLSTA_16/open_chocolate/1_rgb0002.jpg (deflated 1%)\n",
            "  adding: CAMs/TwoStreamLSTA_16/open_chocolate/1_rgb0025.jpg (deflated 1%)\n",
            "  adding: CAMs/TwoStreamLSTA_16/open_chocolate/1_rgb0014.jpg (deflated 1%)\n",
            "  adding: CAMs/TwoStreamLSTA_16/open_chocolate/1_rgb0020.jpg (deflated 1%)\n",
            "  adding: CAMs/TwoStreamLSTA_16/open_chocolate/1_rgb0017.jpg (deflated 1%)\n",
            "  adding: CAMs/TwoStreamLSTA_16/open_chocolate/1_rgb0010.jpg (deflated 1%)\n",
            "  adding: CAMs/TwoStreamLSTA_16/open_chocolate/1_rgb0018.jpg (deflated 1%)\n",
            "  adding: CAMs/TwoStreamLSTA_16/open_chocolate/1_rgb0015.jpg (deflated 1%)\n",
            "  adding: CAMs/TwoStreamLSTA_16/open_chocolate/1_rgb0019.jpg (deflated 1%)\n",
            "  adding: CAMs/TwoStreamLSTA_16/open_chocolate/1_rgb0007.jpg (deflated 1%)\n",
            "  adding: CAMs/TwoStreamLSTA_16/open_chocolate/1_rgb0003.jpg (deflated 1%)\n",
            "  adding: CAMs/TwoStreamLSTA_16/open_chocolate/1_rgb0005.jpg (deflated 1%)\n",
            "  adding: CAMs/TwoStreamLSTA_16/open_chocolate/1_rgb0001.jpg (deflated 1%)\n",
            "  adding: CAMs/TwoStreamLSTA_16/open_chocolate/1_rgb0009.jpg (deflated 1%)\n",
            "  adding: CAMs/TwoStreamLSTA_16/pour_chocolate,bread/ (stored 0%)\n",
            "  adding: CAMs/TwoStreamLSTA_16/pour_chocolate,bread/1_rgb0042.jpg (deflated 1%)\n",
            "  adding: CAMs/TwoStreamLSTA_16/pour_chocolate,bread/1_rgb0028.jpg (deflated 1%)\n",
            "  adding: CAMs/TwoStreamLSTA_16/pour_chocolate,bread/1_rgb0046.jpg (deflated 1%)\n",
            "  adding: CAMs/TwoStreamLSTA_16/pour_chocolate,bread/1_rgb0023.jpg (deflated 1%)\n",
            "  adding: CAMs/TwoStreamLSTA_16/pour_chocolate,bread/1_rgb0024.jpg (deflated 1%)\n",
            "  adding: CAMs/TwoStreamLSTA_16/pour_chocolate,bread/1_rgb0013.jpg (deflated 1%)\n",
            "  adding: CAMs/TwoStreamLSTA_16/pour_chocolate,bread/1_rgb0022.jpg (deflated 1%)\n",
            "  adding: CAMs/TwoStreamLSTA_16/pour_chocolate,bread/1_rgb0012.jpg (deflated 1%)\n",
            "  adding: CAMs/TwoStreamLSTA_16/pour_chocolate,bread/1_rgb0011.jpg (deflated 1%)\n",
            "  adding: CAMs/TwoStreamLSTA_16/pour_chocolate,bread/1_rgb0021.jpg (deflated 1%)\n",
            "  adding: CAMs/TwoStreamLSTA_16/pour_chocolate,bread/1_rgb0043.jpg (deflated 1%)\n",
            "  adding: CAMs/TwoStreamLSTA_16/pour_chocolate,bread/1_rgb0006.jpg (deflated 1%)\n",
            "  adding: CAMs/TwoStreamLSTA_16/pour_chocolate,bread/1_rgb0016.jpg (deflated 1%)\n",
            "  adding: CAMs/TwoStreamLSTA_16/pour_chocolate,bread/1_rgb0044.jpg (deflated 1%)\n",
            "  adding: CAMs/TwoStreamLSTA_16/pour_chocolate,bread/1_rgb0033.jpg (deflated 1%)\n",
            "  adding: CAMs/TwoStreamLSTA_16/pour_chocolate,bread/1_rgb0008.jpg (deflated 1%)\n",
            "  adding: CAMs/TwoStreamLSTA_16/pour_chocolate,bread/1_rgb0047.jpg (deflated 1%)\n",
            "  adding: CAMs/TwoStreamLSTA_16/pour_chocolate,bread/1_rgb0004.jpg (deflated 1%)\n",
            "  adding: CAMs/TwoStreamLSTA_16/pour_chocolate,bread/1_rgb0002.jpg (deflated 1%)\n",
            "  adding: CAMs/TwoStreamLSTA_16/pour_chocolate,bread/1_rgb0031.jpg (deflated 1%)\n",
            "  adding: CAMs/TwoStreamLSTA_16/pour_chocolate,bread/1_rgb0025.jpg (deflated 1%)\n",
            "  adding: CAMs/TwoStreamLSTA_16/pour_chocolate,bread/1_rgb0045.jpg (deflated 1%)\n",
            "  adding: CAMs/TwoStreamLSTA_16/pour_chocolate,bread/1_rgb0014.jpg (deflated 1%)\n",
            "  adding: CAMs/TwoStreamLSTA_16/pour_chocolate,bread/1_rgb0020.jpg (deflated 1%)\n",
            "  adding: CAMs/TwoStreamLSTA_16/pour_chocolate,bread/1_rgb0027.jpg (deflated 1%)\n",
            "  adding: CAMs/TwoStreamLSTA_16/pour_chocolate,bread/1_rgb0017.jpg (deflated 1%)\n",
            "  adding: CAMs/TwoStreamLSTA_16/pour_chocolate,bread/1_rgb0035.jpg (deflated 1%)\n",
            "  adding: CAMs/TwoStreamLSTA_16/pour_chocolate,bread/1_rgb0026.jpg (deflated 1%)\n",
            "  adding: CAMs/TwoStreamLSTA_16/pour_chocolate,bread/1_rgb0034.jpg (deflated 1%)\n",
            "  adding: CAMs/TwoStreamLSTA_16/pour_chocolate,bread/1_rgb0010.jpg (deflated 1%)\n",
            "  adding: CAMs/TwoStreamLSTA_16/pour_chocolate,bread/1_rgb0039.jpg (deflated 1%)\n",
            "  adding: CAMs/TwoStreamLSTA_16/pour_chocolate,bread/1_rgb0018.jpg (deflated 1%)\n",
            "  adding: CAMs/TwoStreamLSTA_16/pour_chocolate,bread/1_rgb0015.jpg (deflated 1%)\n",
            "  adding: CAMs/TwoStreamLSTA_16/pour_chocolate,bread/1_rgb0029.jpg (deflated 1%)\n",
            "  adding: CAMs/TwoStreamLSTA_16/pour_chocolate,bread/1_rgb0036.jpg (deflated 1%)\n",
            "  adding: CAMs/TwoStreamLSTA_16/pour_chocolate,bread/1_rgb0019.jpg (deflated 1%)\n",
            "  adding: CAMs/TwoStreamLSTA_16/pour_chocolate,bread/1_rgb0048.jpg (deflated 1%)\n",
            "  adding: CAMs/TwoStreamLSTA_16/pour_chocolate,bread/1_rgb0041.jpg (deflated 1%)\n",
            "  adding: CAMs/TwoStreamLSTA_16/pour_chocolate,bread/1_rgb0007.jpg (deflated 1%)\n",
            "  adding: CAMs/TwoStreamLSTA_16/pour_chocolate,bread/1_rgb0038.jpg (deflated 1%)\n",
            "  adding: CAMs/TwoStreamLSTA_16/pour_chocolate,bread/1_rgb0030.jpg (deflated 1%)\n",
            "  adding: CAMs/TwoStreamLSTA_16/pour_chocolate,bread/1_rgb0037.jpg (deflated 1%)\n",
            "  adding: CAMs/TwoStreamLSTA_16/pour_chocolate,bread/1_rgb0003.jpg (deflated 1%)\n",
            "  adding: CAMs/TwoStreamLSTA_16/pour_chocolate,bread/1_rgb0005.jpg (deflated 1%)\n",
            "  adding: CAMs/TwoStreamLSTA_16/pour_chocolate,bread/1_rgb0001.jpg (deflated 1%)\n",
            "  adding: CAMs/TwoStreamLSTA_16/pour_chocolate,bread/1_rgb0032.jpg (deflated 1%)\n",
            "  adding: CAMs/TwoStreamLSTA_16/pour_chocolate,bread/1_rgb0040.jpg (deflated 1%)\n",
            "  adding: CAMs/TwoStreamLSTA_16/pour_chocolate,bread/1_rgb0009.jpg (deflated 1%)\n",
            "  adding: CAMs/self_sup/ (stored 0%)\n",
            "  adding: CAMs/self_sup/open_chocolate/ (stored 0%)\n",
            "  adding: CAMs/self_sup/open_chocolate/1_rgb0023.jpg (deflated 1%)\n",
            "  adding: CAMs/self_sup/open_chocolate/1_rgb0024.jpg (deflated 1%)\n",
            "  adding: CAMs/self_sup/open_chocolate/1_rgb0013.jpg (deflated 1%)\n",
            "  adding: CAMs/self_sup/open_chocolate/1_rgb0022.jpg (deflated 1%)\n",
            "  adding: CAMs/self_sup/open_chocolate/1_rgb0012.jpg (deflated 1%)\n",
            "  adding: CAMs/self_sup/open_chocolate/1_rgb0011.jpg (deflated 1%)\n",
            "  adding: CAMs/self_sup/open_chocolate/1_rgb0021.jpg (deflated 1%)\n",
            "  adding: CAMs/self_sup/open_chocolate/1_rgb0006.jpg (deflated 1%)\n",
            "  adding: CAMs/self_sup/open_chocolate/1_rgb0016.jpg (deflated 1%)\n",
            "  adding: CAMs/self_sup/open_chocolate/1_rgb0008.jpg (deflated 1%)\n",
            "  adding: CAMs/self_sup/open_chocolate/1_rgb0004.jpg (deflated 1%)\n",
            "  adding: CAMs/self_sup/open_chocolate/1_rgb0002.jpg (deflated 1%)\n",
            "  adding: CAMs/self_sup/open_chocolate/1_rgb0025.jpg (deflated 1%)\n",
            "  adding: CAMs/self_sup/open_chocolate/1_rgb0014.jpg (deflated 1%)\n",
            "  adding: CAMs/self_sup/open_chocolate/1_rgb0020.jpg (deflated 1%)\n",
            "  adding: CAMs/self_sup/open_chocolate/1_rgb0017.jpg (deflated 1%)\n",
            "  adding: CAMs/self_sup/open_chocolate/1_rgb0010.jpg (deflated 1%)\n",
            "  adding: CAMs/self_sup/open_chocolate/1_rgb0018.jpg (deflated 1%)\n",
            "  adding: CAMs/self_sup/open_chocolate/1_rgb0015.jpg (deflated 1%)\n",
            "  adding: CAMs/self_sup/open_chocolate/1_rgb0019.jpg (deflated 1%)\n",
            "  adding: CAMs/self_sup/open_chocolate/1_rgb0007.jpg (deflated 1%)\n",
            "  adding: CAMs/self_sup/open_chocolate/1_rgb0003.jpg (deflated 1%)\n",
            "  adding: CAMs/self_sup/open_chocolate/1_rgb0005.jpg (deflated 1%)\n",
            "  adding: CAMs/self_sup/open_chocolate/1_rgb0001.jpg (deflated 1%)\n",
            "  adding: CAMs/self_sup/open_chocolate/1_rgb0009.jpg (deflated 1%)\n",
            "  adding: CAMs/self_sup/pour_chocolate,bread/ (stored 0%)\n",
            "  adding: CAMs/self_sup/pour_chocolate,bread/1_rgb0042.jpg (deflated 1%)\n",
            "  adding: CAMs/self_sup/pour_chocolate,bread/1_rgb0028.jpg (deflated 1%)\n",
            "  adding: CAMs/self_sup/pour_chocolate,bread/1_rgb0046.jpg (deflated 1%)\n",
            "  adding: CAMs/self_sup/pour_chocolate,bread/1_rgb0023.jpg (deflated 1%)\n",
            "  adding: CAMs/self_sup/pour_chocolate,bread/1_rgb0024.jpg (deflated 1%)\n",
            "  adding: CAMs/self_sup/pour_chocolate,bread/1_rgb0013.jpg (deflated 1%)\n",
            "  adding: CAMs/self_sup/pour_chocolate,bread/1_rgb0022.jpg (deflated 1%)\n",
            "  adding: CAMs/self_sup/pour_chocolate,bread/1_rgb0012.jpg (deflated 1%)\n",
            "  adding: CAMs/self_sup/pour_chocolate,bread/1_rgb0011.jpg (deflated 1%)\n",
            "  adding: CAMs/self_sup/pour_chocolate,bread/1_rgb0021.jpg (deflated 1%)\n",
            "  adding: CAMs/self_sup/pour_chocolate,bread/1_rgb0043.jpg (deflated 1%)\n",
            "  adding: CAMs/self_sup/pour_chocolate,bread/1_rgb0006.jpg (deflated 1%)\n",
            "  adding: CAMs/self_sup/pour_chocolate,bread/1_rgb0016.jpg (deflated 1%)\n",
            "  adding: CAMs/self_sup/pour_chocolate,bread/1_rgb0044.jpg (deflated 1%)\n",
            "  adding: CAMs/self_sup/pour_chocolate,bread/1_rgb0033.jpg (deflated 1%)\n",
            "  adding: CAMs/self_sup/pour_chocolate,bread/1_rgb0008.jpg (deflated 1%)\n",
            "  adding: CAMs/self_sup/pour_chocolate,bread/1_rgb0047.jpg (deflated 1%)\n",
            "  adding: CAMs/self_sup/pour_chocolate,bread/1_rgb0004.jpg (deflated 1%)\n",
            "  adding: CAMs/self_sup/pour_chocolate,bread/1_rgb0002.jpg (deflated 1%)\n",
            "  adding: CAMs/self_sup/pour_chocolate,bread/1_rgb0031.jpg (deflated 1%)\n",
            "  adding: CAMs/self_sup/pour_chocolate,bread/1_rgb0025.jpg (deflated 1%)\n",
            "  adding: CAMs/self_sup/pour_chocolate,bread/1_rgb0045.jpg (deflated 1%)\n",
            "  adding: CAMs/self_sup/pour_chocolate,bread/1_rgb0014.jpg (deflated 1%)\n",
            "  adding: CAMs/self_sup/pour_chocolate,bread/1_rgb0020.jpg (deflated 1%)\n",
            "  adding: CAMs/self_sup/pour_chocolate,bread/1_rgb0027.jpg (deflated 1%)\n",
            "  adding: CAMs/self_sup/pour_chocolate,bread/1_rgb0017.jpg (deflated 1%)\n",
            "  adding: CAMs/self_sup/pour_chocolate,bread/1_rgb0035.jpg (deflated 1%)\n",
            "  adding: CAMs/self_sup/pour_chocolate,bread/1_rgb0026.jpg (deflated 1%)\n",
            "  adding: CAMs/self_sup/pour_chocolate,bread/1_rgb0034.jpg (deflated 1%)\n",
            "  adding: CAMs/self_sup/pour_chocolate,bread/1_rgb0010.jpg (deflated 1%)\n",
            "  adding: CAMs/self_sup/pour_chocolate,bread/1_rgb0039.jpg (deflated 1%)\n",
            "  adding: CAMs/self_sup/pour_chocolate,bread/1_rgb0018.jpg (deflated 1%)\n",
            "  adding: CAMs/self_sup/pour_chocolate,bread/1_rgb0015.jpg (deflated 1%)\n",
            "  adding: CAMs/self_sup/pour_chocolate,bread/1_rgb0029.jpg (deflated 1%)\n",
            "  adding: CAMs/self_sup/pour_chocolate,bread/1_rgb0036.jpg (deflated 1%)\n",
            "  adding: CAMs/self_sup/pour_chocolate,bread/1_rgb0019.jpg (deflated 1%)\n",
            "  adding: CAMs/self_sup/pour_chocolate,bread/1_rgb0048.jpg (deflated 1%)\n",
            "  adding: CAMs/self_sup/pour_chocolate,bread/1_rgb0041.jpg (deflated 1%)\n",
            "  adding: CAMs/self_sup/pour_chocolate,bread/1_rgb0007.jpg (deflated 1%)\n",
            "  adding: CAMs/self_sup/pour_chocolate,bread/1_rgb0038.jpg (deflated 1%)\n",
            "  adding: CAMs/self_sup/pour_chocolate,bread/1_rgb0030.jpg (deflated 1%)\n",
            "  adding: CAMs/self_sup/pour_chocolate,bread/1_rgb0037.jpg (deflated 1%)\n",
            "  adding: CAMs/self_sup/pour_chocolate,bread/1_rgb0003.jpg (deflated 1%)\n",
            "  adding: CAMs/self_sup/pour_chocolate,bread/1_rgb0005.jpg (deflated 1%)\n",
            "  adding: CAMs/self_sup/pour_chocolate,bread/1_rgb0001.jpg (deflated 1%)\n",
            "  adding: CAMs/self_sup/pour_chocolate,bread/1_rgb0032.jpg (deflated 1%)\n",
            "  adding: CAMs/self_sup/pour_chocolate,bread/1_rgb0040.jpg (deflated 1%)\n",
            "  adding: CAMs/self_sup/pour_chocolate,bread/1_rgb0009.jpg (deflated 1%)\n",
            "  adding: CAMs/TwoStream_16/ (stored 0%)\n",
            "  adding: CAMs/TwoStream_16/open_chocolate/ (stored 0%)\n",
            "  adding: CAMs/TwoStream_16/open_chocolate/1_rgb0023.jpg (deflated 1%)\n",
            "  adding: CAMs/TwoStream_16/open_chocolate/1_rgb0024.jpg (deflated 1%)\n",
            "  adding: CAMs/TwoStream_16/open_chocolate/1_rgb0013.jpg (deflated 1%)\n",
            "  adding: CAMs/TwoStream_16/open_chocolate/1_rgb0022.jpg (deflated 1%)\n",
            "  adding: CAMs/TwoStream_16/open_chocolate/1_rgb0012.jpg (deflated 1%)\n",
            "  adding: CAMs/TwoStream_16/open_chocolate/1_rgb0011.jpg (deflated 1%)\n",
            "  adding: CAMs/TwoStream_16/open_chocolate/1_rgb0021.jpg (deflated 1%)\n",
            "  adding: CAMs/TwoStream_16/open_chocolate/1_rgb0006.jpg (deflated 1%)\n",
            "  adding: CAMs/TwoStream_16/open_chocolate/1_rgb0016.jpg (deflated 1%)\n",
            "  adding: CAMs/TwoStream_16/open_chocolate/1_rgb0008.jpg (deflated 1%)\n",
            "  adding: CAMs/TwoStream_16/open_chocolate/1_rgb0004.jpg (deflated 1%)\n",
            "  adding: CAMs/TwoStream_16/open_chocolate/1_rgb0002.jpg (deflated 1%)\n",
            "  adding: CAMs/TwoStream_16/open_chocolate/1_rgb0025.jpg (deflated 1%)\n",
            "  adding: CAMs/TwoStream_16/open_chocolate/1_rgb0014.jpg (deflated 1%)\n",
            "  adding: CAMs/TwoStream_16/open_chocolate/1_rgb0020.jpg (deflated 1%)\n",
            "  adding: CAMs/TwoStream_16/open_chocolate/1_rgb0017.jpg (deflated 1%)\n",
            "  adding: CAMs/TwoStream_16/open_chocolate/1_rgb0010.jpg (deflated 1%)\n",
            "  adding: CAMs/TwoStream_16/open_chocolate/1_rgb0018.jpg (deflated 1%)\n",
            "  adding: CAMs/TwoStream_16/open_chocolate/1_rgb0015.jpg (deflated 1%)\n",
            "  adding: CAMs/TwoStream_16/open_chocolate/1_rgb0019.jpg (deflated 1%)\n",
            "  adding: CAMs/TwoStream_16/open_chocolate/1_rgb0007.jpg (deflated 1%)\n",
            "  adding: CAMs/TwoStream_16/open_chocolate/1_rgb0003.jpg (deflated 1%)\n",
            "  adding: CAMs/TwoStream_16/open_chocolate/1_rgb0005.jpg (deflated 1%)\n",
            "  adding: CAMs/TwoStream_16/open_chocolate/1_rgb0001.jpg (deflated 1%)\n",
            "  adding: CAMs/TwoStream_16/open_chocolate/1_rgb0009.jpg (deflated 1%)\n",
            "  adding: CAMs/TwoStream_16/pour_chocolate,bread/ (stored 0%)\n",
            "  adding: CAMs/TwoStream_16/pour_chocolate,bread/1_rgb0042.jpg (deflated 1%)\n",
            "  adding: CAMs/TwoStream_16/pour_chocolate,bread/1_rgb0028.jpg (deflated 1%)\n",
            "  adding: CAMs/TwoStream_16/pour_chocolate,bread/1_rgb0046.jpg (deflated 1%)\n",
            "  adding: CAMs/TwoStream_16/pour_chocolate,bread/1_rgb0023.jpg (deflated 1%)\n",
            "  adding: CAMs/TwoStream_16/pour_chocolate,bread/1_rgb0024.jpg (deflated 1%)\n",
            "  adding: CAMs/TwoStream_16/pour_chocolate,bread/1_rgb0013.jpg (deflated 1%)\n",
            "  adding: CAMs/TwoStream_16/pour_chocolate,bread/1_rgb0022.jpg (deflated 1%)\n",
            "  adding: CAMs/TwoStream_16/pour_chocolate,bread/1_rgb0012.jpg (deflated 1%)\n",
            "  adding: CAMs/TwoStream_16/pour_chocolate,bread/1_rgb0011.jpg (deflated 1%)\n",
            "  adding: CAMs/TwoStream_16/pour_chocolate,bread/1_rgb0021.jpg (deflated 1%)\n",
            "  adding: CAMs/TwoStream_16/pour_chocolate,bread/1_rgb0043.jpg (deflated 1%)\n",
            "  adding: CAMs/TwoStream_16/pour_chocolate,bread/1_rgb0006.jpg (deflated 1%)\n",
            "  adding: CAMs/TwoStream_16/pour_chocolate,bread/1_rgb0016.jpg (deflated 1%)\n",
            "  adding: CAMs/TwoStream_16/pour_chocolate,bread/1_rgb0044.jpg (deflated 1%)\n",
            "  adding: CAMs/TwoStream_16/pour_chocolate,bread/1_rgb0033.jpg (deflated 1%)\n",
            "  adding: CAMs/TwoStream_16/pour_chocolate,bread/1_rgb0008.jpg (deflated 1%)\n",
            "  adding: CAMs/TwoStream_16/pour_chocolate,bread/1_rgb0047.jpg (deflated 1%)\n",
            "  adding: CAMs/TwoStream_16/pour_chocolate,bread/1_rgb0004.jpg (deflated 1%)\n",
            "  adding: CAMs/TwoStream_16/pour_chocolate,bread/1_rgb0002.jpg (deflated 1%)\n",
            "  adding: CAMs/TwoStream_16/pour_chocolate,bread/1_rgb0031.jpg (deflated 1%)\n",
            "  adding: CAMs/TwoStream_16/pour_chocolate,bread/1_rgb0025.jpg (deflated 1%)\n",
            "  adding: CAMs/TwoStream_16/pour_chocolate,bread/1_rgb0045.jpg (deflated 1%)\n",
            "  adding: CAMs/TwoStream_16/pour_chocolate,bread/1_rgb0014.jpg (deflated 1%)\n",
            "  adding: CAMs/TwoStream_16/pour_chocolate,bread/1_rgb0020.jpg (deflated 1%)\n",
            "  adding: CAMs/TwoStream_16/pour_chocolate,bread/1_rgb0027.jpg (deflated 1%)\n",
            "  adding: CAMs/TwoStream_16/pour_chocolate,bread/1_rgb0017.jpg (deflated 1%)\n",
            "  adding: CAMs/TwoStream_16/pour_chocolate,bread/1_rgb0035.jpg (deflated 1%)\n",
            "  adding: CAMs/TwoStream_16/pour_chocolate,bread/1_rgb0026.jpg (deflated 1%)\n",
            "  adding: CAMs/TwoStream_16/pour_chocolate,bread/1_rgb0034.jpg (deflated 1%)\n",
            "  adding: CAMs/TwoStream_16/pour_chocolate,bread/1_rgb0010.jpg (deflated 1%)\n",
            "  adding: CAMs/TwoStream_16/pour_chocolate,bread/1_rgb0039.jpg (deflated 1%)\n",
            "  adding: CAMs/TwoStream_16/pour_chocolate,bread/1_rgb0018.jpg (deflated 1%)\n",
            "  adding: CAMs/TwoStream_16/pour_chocolate,bread/1_rgb0015.jpg (deflated 1%)\n",
            "  adding: CAMs/TwoStream_16/pour_chocolate,bread/1_rgb0029.jpg (deflated 1%)\n",
            "  adding: CAMs/TwoStream_16/pour_chocolate,bread/1_rgb0036.jpg (deflated 1%)\n",
            "  adding: CAMs/TwoStream_16/pour_chocolate,bread/1_rgb0019.jpg (deflated 1%)\n",
            "  adding: CAMs/TwoStream_16/pour_chocolate,bread/1_rgb0048.jpg (deflated 1%)\n",
            "  adding: CAMs/TwoStream_16/pour_chocolate,bread/1_rgb0041.jpg (deflated 1%)\n",
            "  adding: CAMs/TwoStream_16/pour_chocolate,bread/1_rgb0007.jpg (deflated 1%)\n",
            "  adding: CAMs/TwoStream_16/pour_chocolate,bread/1_rgb0038.jpg (deflated 1%)\n",
            "  adding: CAMs/TwoStream_16/pour_chocolate,bread/1_rgb0030.jpg (deflated 1%)\n",
            "  adding: CAMs/TwoStream_16/pour_chocolate,bread/1_rgb0037.jpg (deflated 1%)\n",
            "  adding: CAMs/TwoStream_16/pour_chocolate,bread/1_rgb0003.jpg (deflated 1%)\n",
            "  adding: CAMs/TwoStream_16/pour_chocolate,bread/1_rgb0005.jpg (deflated 1%)\n",
            "  adding: CAMs/TwoStream_16/pour_chocolate,bread/1_rgb0001.jpg (deflated 1%)\n",
            "  adding: CAMs/TwoStream_16/pour_chocolate,bread/1_rgb0032.jpg (deflated 1%)\n",
            "  adding: CAMs/TwoStream_16/pour_chocolate,bread/1_rgb0040.jpg (deflated 1%)\n",
            "  adding: CAMs/TwoStream_16/pour_chocolate,bread/1_rgb0009.jpg (deflated 1%)\n",
            "  adding: CAMs/TwoStreamLSTA_7/ (stored 0%)\n",
            "  adding: CAMs/TwoStreamLSTA_7/open_chocolate/ (stored 0%)\n",
            "  adding: CAMs/TwoStreamLSTA_7/open_chocolate/1_rgb0023.jpg (deflated 1%)\n",
            "  adding: CAMs/TwoStreamLSTA_7/open_chocolate/1_rgb0024.jpg (deflated 1%)\n",
            "  adding: CAMs/TwoStreamLSTA_7/open_chocolate/1_rgb0013.jpg (deflated 1%)\n",
            "  adding: CAMs/TwoStreamLSTA_7/open_chocolate/1_rgb0022.jpg (deflated 1%)\n",
            "  adding: CAMs/TwoStreamLSTA_7/open_chocolate/1_rgb0012.jpg (deflated 1%)\n",
            "  adding: CAMs/TwoStreamLSTA_7/open_chocolate/1_rgb0011.jpg (deflated 1%)\n",
            "  adding: CAMs/TwoStreamLSTA_7/open_chocolate/1_rgb0021.jpg (deflated 1%)\n",
            "  adding: CAMs/TwoStreamLSTA_7/open_chocolate/1_rgb0006.jpg (deflated 1%)\n",
            "  adding: CAMs/TwoStreamLSTA_7/open_chocolate/1_rgb0016.jpg (deflated 1%)\n",
            "  adding: CAMs/TwoStreamLSTA_7/open_chocolate/1_rgb0008.jpg (deflated 1%)\n",
            "  adding: CAMs/TwoStreamLSTA_7/open_chocolate/1_rgb0004.jpg (deflated 1%)\n",
            "  adding: CAMs/TwoStreamLSTA_7/open_chocolate/1_rgb0002.jpg (deflated 1%)\n",
            "  adding: CAMs/TwoStreamLSTA_7/open_chocolate/1_rgb0025.jpg (deflated 1%)\n",
            "  adding: CAMs/TwoStreamLSTA_7/open_chocolate/1_rgb0014.jpg (deflated 1%)\n",
            "  adding: CAMs/TwoStreamLSTA_7/open_chocolate/1_rgb0020.jpg (deflated 1%)\n",
            "  adding: CAMs/TwoStreamLSTA_7/open_chocolate/1_rgb0017.jpg (deflated 1%)\n",
            "  adding: CAMs/TwoStreamLSTA_7/open_chocolate/1_rgb0010.jpg (deflated 1%)\n",
            "  adding: CAMs/TwoStreamLSTA_7/open_chocolate/1_rgb0018.jpg (deflated 1%)\n",
            "  adding: CAMs/TwoStreamLSTA_7/open_chocolate/1_rgb0015.jpg (deflated 1%)\n",
            "  adding: CAMs/TwoStreamLSTA_7/open_chocolate/1_rgb0019.jpg (deflated 1%)\n",
            "  adding: CAMs/TwoStreamLSTA_7/open_chocolate/1_rgb0007.jpg (deflated 1%)\n",
            "  adding: CAMs/TwoStreamLSTA_7/open_chocolate/1_rgb0003.jpg (deflated 1%)\n",
            "  adding: CAMs/TwoStreamLSTA_7/open_chocolate/1_rgb0005.jpg (deflated 1%)\n",
            "  adding: CAMs/TwoStreamLSTA_7/open_chocolate/1_rgb0001.jpg (deflated 1%)\n",
            "  adding: CAMs/TwoStreamLSTA_7/open_chocolate/1_rgb0009.jpg (deflated 1%)\n",
            "  adding: CAMs/TwoStreamLSTA_7/pour_chocolate,bread/ (stored 0%)\n",
            "  adding: CAMs/TwoStreamLSTA_7/pour_chocolate,bread/1_rgb0042.jpg (deflated 1%)\n",
            "  adding: CAMs/TwoStreamLSTA_7/pour_chocolate,bread/1_rgb0028.jpg (deflated 1%)\n",
            "  adding: CAMs/TwoStreamLSTA_7/pour_chocolate,bread/1_rgb0046.jpg (deflated 1%)\n",
            "  adding: CAMs/TwoStreamLSTA_7/pour_chocolate,bread/1_rgb0023.jpg (deflated 1%)\n",
            "  adding: CAMs/TwoStreamLSTA_7/pour_chocolate,bread/1_rgb0024.jpg (deflated 1%)\n",
            "  adding: CAMs/TwoStreamLSTA_7/pour_chocolate,bread/1_rgb0013.jpg (deflated 1%)\n",
            "  adding: CAMs/TwoStreamLSTA_7/pour_chocolate,bread/1_rgb0022.jpg (deflated 1%)\n",
            "  adding: CAMs/TwoStreamLSTA_7/pour_chocolate,bread/1_rgb0012.jpg (deflated 1%)\n",
            "  adding: CAMs/TwoStreamLSTA_7/pour_chocolate,bread/1_rgb0011.jpg (deflated 1%)\n",
            "  adding: CAMs/TwoStreamLSTA_7/pour_chocolate,bread/1_rgb0021.jpg (deflated 1%)\n",
            "  adding: CAMs/TwoStreamLSTA_7/pour_chocolate,bread/1_rgb0043.jpg (deflated 1%)\n",
            "  adding: CAMs/TwoStreamLSTA_7/pour_chocolate,bread/1_rgb0006.jpg (deflated 1%)\n",
            "  adding: CAMs/TwoStreamLSTA_7/pour_chocolate,bread/1_rgb0016.jpg (deflated 1%)\n",
            "  adding: CAMs/TwoStreamLSTA_7/pour_chocolate,bread/1_rgb0044.jpg (deflated 1%)\n",
            "  adding: CAMs/TwoStreamLSTA_7/pour_chocolate,bread/1_rgb0033.jpg (deflated 1%)\n",
            "  adding: CAMs/TwoStreamLSTA_7/pour_chocolate,bread/1_rgb0008.jpg (deflated 1%)\n",
            "  adding: CAMs/TwoStreamLSTA_7/pour_chocolate,bread/1_rgb0047.jpg (deflated 1%)\n",
            "  adding: CAMs/TwoStreamLSTA_7/pour_chocolate,bread/1_rgb0004.jpg (deflated 1%)\n",
            "  adding: CAMs/TwoStreamLSTA_7/pour_chocolate,bread/1_rgb0002.jpg (deflated 1%)\n",
            "  adding: CAMs/TwoStreamLSTA_7/pour_chocolate,bread/1_rgb0031.jpg (deflated 1%)\n",
            "  adding: CAMs/TwoStreamLSTA_7/pour_chocolate,bread/1_rgb0025.jpg (deflated 1%)\n",
            "  adding: CAMs/TwoStreamLSTA_7/pour_chocolate,bread/1_rgb0045.jpg (deflated 1%)\n",
            "  adding: CAMs/TwoStreamLSTA_7/pour_chocolate,bread/1_rgb0014.jpg (deflated 1%)\n",
            "  adding: CAMs/TwoStreamLSTA_7/pour_chocolate,bread/1_rgb0020.jpg (deflated 1%)\n",
            "  adding: CAMs/TwoStreamLSTA_7/pour_chocolate,bread/1_rgb0027.jpg (deflated 1%)\n",
            "  adding: CAMs/TwoStreamLSTA_7/pour_chocolate,bread/1_rgb0017.jpg (deflated 1%)\n",
            "  adding: CAMs/TwoStreamLSTA_7/pour_chocolate,bread/1_rgb0035.jpg (deflated 1%)\n",
            "  adding: CAMs/TwoStreamLSTA_7/pour_chocolate,bread/1_rgb0026.jpg (deflated 1%)\n",
            "  adding: CAMs/TwoStreamLSTA_7/pour_chocolate,bread/1_rgb0034.jpg (deflated 1%)\n",
            "  adding: CAMs/TwoStreamLSTA_7/pour_chocolate,bread/1_rgb0010.jpg (deflated 1%)\n",
            "  adding: CAMs/TwoStreamLSTA_7/pour_chocolate,bread/1_rgb0039.jpg (deflated 1%)\n",
            "  adding: CAMs/TwoStreamLSTA_7/pour_chocolate,bread/1_rgb0018.jpg (deflated 1%)\n",
            "  adding: CAMs/TwoStreamLSTA_7/pour_chocolate,bread/1_rgb0015.jpg (deflated 1%)\n",
            "  adding: CAMs/TwoStreamLSTA_7/pour_chocolate,bread/1_rgb0029.jpg (deflated 1%)\n",
            "  adding: CAMs/TwoStreamLSTA_7/pour_chocolate,bread/1_rgb0036.jpg (deflated 1%)\n",
            "  adding: CAMs/TwoStreamLSTA_7/pour_chocolate,bread/1_rgb0019.jpg (deflated 1%)\n",
            "  adding: CAMs/TwoStreamLSTA_7/pour_chocolate,bread/1_rgb0048.jpg (deflated 1%)\n",
            "  adding: CAMs/TwoStreamLSTA_7/pour_chocolate,bread/1_rgb0041.jpg (deflated 1%)\n",
            "  adding: CAMs/TwoStreamLSTA_7/pour_chocolate,bread/1_rgb0007.jpg (deflated 1%)\n",
            "  adding: CAMs/TwoStreamLSTA_7/pour_chocolate,bread/1_rgb0038.jpg (deflated 1%)\n",
            "  adding: CAMs/TwoStreamLSTA_7/pour_chocolate,bread/1_rgb0030.jpg (deflated 1%)\n",
            "  adding: CAMs/TwoStreamLSTA_7/pour_chocolate,bread/1_rgb0037.jpg (deflated 1%)\n",
            "  adding: CAMs/TwoStreamLSTA_7/pour_chocolate,bread/1_rgb0003.jpg (deflated 1%)\n",
            "  adding: CAMs/TwoStreamLSTA_7/pour_chocolate,bread/1_rgb0005.jpg (deflated 1%)\n",
            "  adding: CAMs/TwoStreamLSTA_7/pour_chocolate,bread/1_rgb0001.jpg (deflated 1%)\n",
            "  adding: CAMs/TwoStreamLSTA_7/pour_chocolate,bread/1_rgb0032.jpg (deflated 1%)\n",
            "  adding: CAMs/TwoStreamLSTA_7/pour_chocolate,bread/1_rgb0040.jpg (deflated 1%)\n",
            "  adding: CAMs/TwoStreamLSTA_7/pour_chocolate,bread/1_rgb0009.jpg (deflated 1%)\n",
            "  adding: CAMs/self_sup_flow/ (stored 0%)\n",
            "  adding: CAMs/self_sup_flow/open_chocolate/ (stored 0%)\n",
            "  adding: CAMs/self_sup_flow/open_chocolate/1_rgb0023.jpg (deflated 1%)\n",
            "  adding: CAMs/self_sup_flow/open_chocolate/1_rgb0024.jpg (deflated 1%)\n",
            "  adding: CAMs/self_sup_flow/open_chocolate/1_rgb0013.jpg (deflated 1%)\n",
            "  adding: CAMs/self_sup_flow/open_chocolate/1_rgb0022.jpg (deflated 1%)\n",
            "  adding: CAMs/self_sup_flow/open_chocolate/1_rgb0012.jpg (deflated 1%)\n",
            "  adding: CAMs/self_sup_flow/open_chocolate/1_rgb0011.jpg (deflated 1%)\n",
            "  adding: CAMs/self_sup_flow/open_chocolate/1_rgb0021.jpg (deflated 1%)\n",
            "  adding: CAMs/self_sup_flow/open_chocolate/1_rgb0006.jpg (deflated 1%)\n",
            "  adding: CAMs/self_sup_flow/open_chocolate/1_rgb0016.jpg (deflated 1%)\n",
            "  adding: CAMs/self_sup_flow/open_chocolate/1_rgb0008.jpg (deflated 1%)\n",
            "  adding: CAMs/self_sup_flow/open_chocolate/1_rgb0004.jpg (deflated 1%)\n",
            "  adding: CAMs/self_sup_flow/open_chocolate/1_rgb0002.jpg (deflated 1%)\n",
            "  adding: CAMs/self_sup_flow/open_chocolate/1_rgb0025.jpg (deflated 1%)\n",
            "  adding: CAMs/self_sup_flow/open_chocolate/1_rgb0014.jpg (deflated 1%)\n",
            "  adding: CAMs/self_sup_flow/open_chocolate/1_rgb0020.jpg (deflated 1%)\n",
            "  adding: CAMs/self_sup_flow/open_chocolate/1_rgb0017.jpg (deflated 1%)\n",
            "  adding: CAMs/self_sup_flow/open_chocolate/1_rgb0010.jpg (deflated 1%)\n",
            "  adding: CAMs/self_sup_flow/open_chocolate/1_rgb0018.jpg (deflated 1%)\n",
            "  adding: CAMs/self_sup_flow/open_chocolate/1_rgb0015.jpg (deflated 1%)\n",
            "  adding: CAMs/self_sup_flow/open_chocolate/1_rgb0019.jpg (deflated 1%)\n",
            "  adding: CAMs/self_sup_flow/open_chocolate/1_rgb0007.jpg (deflated 1%)\n",
            "  adding: CAMs/self_sup_flow/open_chocolate/1_rgb0003.jpg (deflated 1%)\n",
            "  adding: CAMs/self_sup_flow/open_chocolate/1_rgb0005.jpg (deflated 1%)\n",
            "  adding: CAMs/self_sup_flow/open_chocolate/1_rgb0001.jpg (deflated 1%)\n",
            "  adding: CAMs/self_sup_flow/open_chocolate/1_rgb0009.jpg (deflated 1%)\n",
            "  adding: CAMs/self_sup_flow/pour_chocolate,bread/ (stored 0%)\n",
            "  adding: CAMs/self_sup_flow/pour_chocolate,bread/1_rgb0042.jpg (deflated 1%)\n",
            "  adding: CAMs/self_sup_flow/pour_chocolate,bread/1_rgb0028.jpg (deflated 1%)\n",
            "  adding: CAMs/self_sup_flow/pour_chocolate,bread/1_rgb0046.jpg (deflated 1%)\n",
            "  adding: CAMs/self_sup_flow/pour_chocolate,bread/1_rgb0023.jpg (deflated 1%)\n",
            "  adding: CAMs/self_sup_flow/pour_chocolate,bread/1_rgb0024.jpg (deflated 1%)\n",
            "  adding: CAMs/self_sup_flow/pour_chocolate,bread/1_rgb0013.jpg (deflated 1%)\n",
            "  adding: CAMs/self_sup_flow/pour_chocolate,bread/1_rgb0022.jpg (deflated 1%)\n",
            "  adding: CAMs/self_sup_flow/pour_chocolate,bread/1_rgb0012.jpg (deflated 1%)\n",
            "  adding: CAMs/self_sup_flow/pour_chocolate,bread/1_rgb0011.jpg (deflated 1%)\n",
            "  adding: CAMs/self_sup_flow/pour_chocolate,bread/1_rgb0021.jpg (deflated 1%)\n",
            "  adding: CAMs/self_sup_flow/pour_chocolate,bread/1_rgb0043.jpg (deflated 1%)\n",
            "  adding: CAMs/self_sup_flow/pour_chocolate,bread/1_rgb0006.jpg (deflated 1%)\n",
            "  adding: CAMs/self_sup_flow/pour_chocolate,bread/1_rgb0016.jpg (deflated 1%)\n",
            "  adding: CAMs/self_sup_flow/pour_chocolate,bread/1_rgb0044.jpg (deflated 1%)\n",
            "  adding: CAMs/self_sup_flow/pour_chocolate,bread/1_rgb0033.jpg (deflated 1%)\n",
            "  adding: CAMs/self_sup_flow/pour_chocolate,bread/1_rgb0008.jpg (deflated 1%)\n",
            "  adding: CAMs/self_sup_flow/pour_chocolate,bread/1_rgb0047.jpg (deflated 1%)\n",
            "  adding: CAMs/self_sup_flow/pour_chocolate,bread/1_rgb0004.jpg (deflated 1%)\n",
            "  adding: CAMs/self_sup_flow/pour_chocolate,bread/1_rgb0002.jpg (deflated 1%)\n",
            "  adding: CAMs/self_sup_flow/pour_chocolate,bread/1_rgb0031.jpg (deflated 1%)\n",
            "  adding: CAMs/self_sup_flow/pour_chocolate,bread/1_rgb0025.jpg (deflated 1%)\n",
            "  adding: CAMs/self_sup_flow/pour_chocolate,bread/1_rgb0045.jpg (deflated 1%)\n",
            "  adding: CAMs/self_sup_flow/pour_chocolate,bread/1_rgb0014.jpg (deflated 1%)\n",
            "  adding: CAMs/self_sup_flow/pour_chocolate,bread/1_rgb0020.jpg (deflated 1%)\n",
            "  adding: CAMs/self_sup_flow/pour_chocolate,bread/1_rgb0027.jpg (deflated 1%)\n",
            "  adding: CAMs/self_sup_flow/pour_chocolate,bread/1_rgb0017.jpg (deflated 1%)\n",
            "  adding: CAMs/self_sup_flow/pour_chocolate,bread/1_rgb0035.jpg (deflated 1%)\n",
            "  adding: CAMs/self_sup_flow/pour_chocolate,bread/1_rgb0026.jpg (deflated 1%)\n",
            "  adding: CAMs/self_sup_flow/pour_chocolate,bread/1_rgb0034.jpg (deflated 1%)\n",
            "  adding: CAMs/self_sup_flow/pour_chocolate,bread/1_rgb0010.jpg (deflated 1%)\n",
            "  adding: CAMs/self_sup_flow/pour_chocolate,bread/1_rgb0039.jpg (deflated 1%)\n",
            "  adding: CAMs/self_sup_flow/pour_chocolate,bread/1_rgb0018.jpg (deflated 1%)\n",
            "  adding: CAMs/self_sup_flow/pour_chocolate,bread/1_rgb0015.jpg (deflated 1%)\n",
            "  adding: CAMs/self_sup_flow/pour_chocolate,bread/1_rgb0029.jpg (deflated 1%)\n",
            "  adding: CAMs/self_sup_flow/pour_chocolate,bread/1_rgb0036.jpg (deflated 1%)\n",
            "  adding: CAMs/self_sup_flow/pour_chocolate,bread/1_rgb0019.jpg (deflated 1%)\n",
            "  adding: CAMs/self_sup_flow/pour_chocolate,bread/1_rgb0048.jpg (deflated 1%)\n",
            "  adding: CAMs/self_sup_flow/pour_chocolate,bread/1_rgb0041.jpg (deflated 1%)\n",
            "  adding: CAMs/self_sup_flow/pour_chocolate,bread/1_rgb0007.jpg (deflated 1%)\n",
            "  adding: CAMs/self_sup_flow/pour_chocolate,bread/1_rgb0038.jpg (deflated 1%)\n",
            "  adding: CAMs/self_sup_flow/pour_chocolate,bread/1_rgb0030.jpg (deflated 1%)\n",
            "  adding: CAMs/self_sup_flow/pour_chocolate,bread/1_rgb0037.jpg (deflated 1%)\n",
            "  adding: CAMs/self_sup_flow/pour_chocolate,bread/1_rgb0003.jpg (deflated 1%)\n",
            "  adding: CAMs/self_sup_flow/pour_chocolate,bread/1_rgb0005.jpg (deflated 1%)\n",
            "  adding: CAMs/self_sup_flow/pour_chocolate,bread/1_rgb0001.jpg (deflated 1%)\n",
            "  adding: CAMs/self_sup_flow/pour_chocolate,bread/1_rgb0032.jpg (deflated 1%)\n",
            "  adding: CAMs/self_sup_flow/pour_chocolate,bread/1_rgb0040.jpg (deflated 1%)\n",
            "  adding: CAMs/self_sup_flow/pour_chocolate,bread/1_rgb0009.jpg (deflated 1%)\n"
          ],
          "name": "stdout"
        }
      ]
    }
  ]
}