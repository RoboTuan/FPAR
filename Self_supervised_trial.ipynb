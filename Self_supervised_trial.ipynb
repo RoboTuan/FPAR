{
  "nbformat": 4,
  "nbformat_minor": 0,
  "metadata": {
    "colab": {
      "name": "Self-supervised-trial.ipynb",
      "provenance": [],
      "collapsed_sections": [],
      "authorship_tag": "ABX9TyN5nPRAPQd99ywOC5cl574k",
      "include_colab_link": true
    },
    "kernelspec": {
      "name": "python3",
      "display_name": "Python 3"
    },
    "accelerator": "GPU"
  },
  "cells": [
    {
      "cell_type": "markdown",
      "metadata": {
        "id": "view-in-github",
        "colab_type": "text"
      },
      "source": [
        "<a href=\"https://colab.research.google.com/github/RoboTuan/ML_DL_Project/blob/master/Self_supervised_trial.ipynb\" target=\"_parent\"><img src=\"https://colab.research.google.com/assets/colab-badge.svg\" alt=\"Open In Colab\"/></a>"
      ]
    },
    {
      "cell_type": "code",
      "metadata": {
        "id": "rLYoVb2SQnG0",
        "cellView": "both",
        "outputId": "7f53d3dc-0520-4331-829c-18d116108f79",
        "colab": {
          "base_uri": "https://localhost:8080/",
          "height": 54
        }
      },
      "source": [
        "#@title\n",
        "import torch\n",
        "import torchvision\n",
        "import torchvision.transforms as transforms\n",
        "import torch\n",
        "import torch.nn as nn\n",
        "import torch.optim as optim\n",
        "from torch.utils.data import Subset, DataLoader\n",
        "from torch.backends import cudnn\n",
        "import tensorflow as tf\n",
        "import datetime\n",
        "import numpy as np\n",
        "import time\n",
        "import matplotlib.pyplot as plt\n",
        "import seaborn as sns\n",
        "from torch.autograd import Function\n",
        "import torchvision\n",
        "from torchvision.models import alexnet\n",
        "from torchvision.utils import make_grid\n",
        "from sklearn.model_selection import RandomizedSearchCV\n",
        "import pandas.util.testing as tm\n",
        "from PIL import Image\n",
        "from tqdm.notebook import tqdm"
      ],
      "execution_count": 1,
      "outputs": [
        {
          "output_type": "stream",
          "text": [
            "/usr/local/lib/python3.6/dist-packages/ipykernel_launcher.py:21: FutureWarning: pandas.util.testing is deprecated. Use the functions in the public API at pandas.testing instead.\n"
          ],
          "name": "stderr"
        }
      ]
    },
    {
      "cell_type": "code",
      "metadata": {
        "id": "JZVmFAwkQ0AS",
        "outputId": "d2b1c4bf-95b6-4973-e609-331fe1923ee4",
        "colab": {
          "base_uri": "https://localhost:8080/",
          "height": 34
        }
      },
      "source": [
        "from google.colab import drive\n",
        "drive.mount('/content/drive')"
      ],
      "execution_count": 2,
      "outputs": [
        {
          "output_type": "stream",
          "text": [
            "Mounted at /content/drive\n"
          ],
          "name": "stdout"
        }
      ]
    },
    {
      "cell_type": "code",
      "metadata": {
        "id": "rzqpeOqKQ0Vt"
      },
      "source": [
        "!unzip -q \"./drive/My Drive/Copia di GTEA61.zip\"\n",
        "!rm -rf \"./__MACOSX\""
      ],
      "execution_count": 3,
      "outputs": []
    },
    {
      "cell_type": "code",
      "metadata": {
        "id": "Ihz9gTQEQ0Z3"
      },
      "source": [
        "#!rm -rf \"./ML_DL_Project/\"\n",
        "#!rm -rf \"./out_dir/\""
      ],
      "execution_count": null,
      "outputs": []
    },
    {
      "cell_type": "code",
      "metadata": {
        "id": "GKvNku7pQ0cp",
        "outputId": "96507c91-04ca-439f-c4de-ca5fc673513b",
        "colab": {
          "base_uri": "https://localhost:8080/",
          "height": 136
        }
      },
      "source": [
        "import os \n",
        "if not os.path.isdir('./ML_DL_Project'):\n",
        "  !git clone https://github.com/RoboTuan/ML_DL_Project.git"
      ],
      "execution_count": 4,
      "outputs": [
        {
          "output_type": "stream",
          "text": [
            "Cloning into 'ML_DL_Project'...\n",
            "remote: Enumerating objects: 89, done.\u001b[K\n",
            "remote: Counting objects: 100% (89/89), done.\u001b[K\n",
            "remote: Compressing objects: 100% (61/61), done.\u001b[K\n",
            "remote: Total 319 (delta 61), reused 51 (delta 28), pack-reused 230\u001b[K\n",
            "Receiving objects: 100% (319/319), 86.33 MiB | 17.00 MiB/s, done.\n",
            "Resolving deltas: 100% (195/195), done.\n"
          ],
          "name": "stdout"
        }
      ]
    },
    {
      "cell_type": "code",
      "metadata": {
        "id": "a-6YG3acQ0g3",
        "outputId": "bc928d5c-ce9c-43c4-db41-eb2146603b38",
        "colab": {
          "base_uri": "https://localhost:8080/",
          "height": 68
        }
      },
      "source": [
        "base_dataset = \"./GTEA61\"\n",
        "\n",
        "if not os.path.isdir('./GTEA61_val'):\n",
        "  os.makedirs(\"./GTEA61_val\")\n",
        "  os.makedirs(\"./GTEA61_val/flow_x_processed\")\n",
        "  os.makedirs(\"./GTEA61_val/flow_y_processed\")\n",
        "  os.makedirs(\"./GTEA61_val/processed_frames2\")\n",
        "  pass\n",
        "\n",
        "\n",
        "for directory in sorted(os.listdir(base_dataset)):\n",
        "  if not directory.startswith('.'):\n",
        "    directory_path = os.path.join(base_dataset, directory)\n",
        "    new_directory_path = os.path.join(\"./GTEA61_val\", directory)\n",
        "\n",
        "    for user in sorted(os.listdir(directory_path)):\n",
        "      if not user.startswith('.') and user == \"S2\":\n",
        "        current_folder = os.path.join(directory_path, user)\n",
        "        !cp -r \"{current_folder}\" \"{new_directory_path}\"\n",
        "        !rm -rf \"{current_folder}\"\n",
        "        print(current_folder)"
      ],
      "execution_count": 5,
      "outputs": [
        {
          "output_type": "stream",
          "text": [
            "./GTEA61/flow_x_processed/S2\n",
            "./GTEA61/flow_y_processed/S2\n",
            "./GTEA61/processed_frames2/S2\n"
          ],
          "name": "stdout"
        }
      ]
    },
    {
      "cell_type": "code",
      "metadata": {
        "id": "nepLRofOQ0ji"
      },
      "source": [
        "# Se scritti uguali ai parametri della funzione può venire None come risultato\n",
        "# per questo SEQLEN è maiuscolo \n",
        "SEQLEN = 7\n",
        "DEVICE = 'cuda' # 'cuda' or 'cpu'\n",
        "num_classes = 61\n",
        "#STAGE = None\n",
        "train_data_dir = \"./GTEA61\"\n",
        "val_data_dir = \"./GTEA61_val\"\n",
        "#stage1_dict = None\n",
        "out_dir = \".out_dir\"\n",
        "trainBatchSize = 32\n",
        "valBatchSize = 64\n",
        "numEpochs1 = 3\n",
        "numEpochs2 = 3\n",
        "lr1 = 1e-3\n",
        "lr2 = 1e-4\n",
        "decay_factor = 0.1\n",
        "decay_step1 = [25, 75, 150]\n",
        "decay_step2 = [25, 75]\n",
        "#Boh?!\n",
        "memSize = 512\n",
        "alpha=1"
      ],
      "execution_count": 7,
      "outputs": []
    },
    {
      "cell_type": "code",
      "metadata": {
        "id": "cZoYPO1hQ0o5"
      },
      "source": [
        "#!rm -rf \"ML_DL_Project\"\n",
        "#!rm -rf \"./GTEA61\"\n",
        "#!rm -rf \"./GTEA61_val\""
      ],
      "execution_count": null,
      "outputs": []
    },
    {
      "cell_type": "code",
      "metadata": {
        "id": "HrGDU3ojQ0uu"
      },
      "source": [
        "from __future__ import print_function, division\n",
        "# This is without attention, we must address this better\n",
        "#from ML_DL_Project.Scripts.convLSTMmodel import *\n",
        "from ML_DL_Project.Scripts.SelfSupObjectAttentionModelConvLSTM import *\n",
        "from ML_DL_Project.Scripts.RegObjectAttentionModelConvLSTM import *\n",
        "from ML_DL_Project.Scripts.spatial_transforms import (Compose, ToTensor, CenterCrop, Scale, Normalize, MultiScaleCornerCrop,\n",
        "                                RandomHorizontalFlip)\n",
        "from torch.utils.tensorboard import SummaryWriter\n",
        "from ML_DL_Project.Scripts.resnetMod import *\n",
        "#from ML_DL_Project.Scripts.makeDatasetRGB import *\n",
        "from ML_DL_Project.Scripts.makeMmaps import *\n",
        "#Prende il makeDataset dell'ultimo script importato\n",
        "import argparse\n",
        "import sys"
      ],
      "execution_count": 8,
      "outputs": []
    },
    {
      "cell_type": "code",
      "metadata": {
        "id": "Ec7hvOY2UjYG"
      },
      "source": [
        "!rm -rf \"./out_dir\""
      ],
      "execution_count": null,
      "outputs": []
    },
    {
      "cell_type": "code",
      "metadata": {
        "id": "51H5bheaAx2I"
      },
      "source": [
        "# Data loader\n",
        "normalize = Normalize(mean=[0.485, 0.456, 0.406], std=[0.229, 0.224, 0.225])\n",
        "spatial_transform = Compose([Scale(256),\n",
        "                             RandomHorizontalFlip(), \n",
        "                             MultiScaleCornerCrop([1, 0.875, 0.75, 0.65625], 224),\n",
        "                             ToTensor(), \n",
        "                             normalize])\n",
        "\n",
        "vid_seq_train = makeDataset(train_data_dir, spatial_transform=spatial_transform, seqLen=SEQLEN, fmt='.png')\n",
        "\n",
        "train_loader = torch.utils.data.DataLoader(vid_seq_train, batch_size=trainBatchSize, shuffle=True, num_workers=4, pin_memory=True)\n",
        "\n",
        "if val_data_dir is not None:\n",
        "  vid_seq_val = makeDataset(val_data_dir,spatial_transform = Compose([Scale(256),\n",
        "                                                                    CenterCrop(224),\n",
        "                                                                    ToTensor(),\n",
        "                                                                    normalize]),\n",
        "                            seqLen=SEQLEN, fmt='.png')\n",
        "\n",
        "  val_loader = torch.utils.data.DataLoader(vid_seq_val, batch_size=valBatchSize, shuffle=False, num_workers=2, pin_memory=True)\n",
        "  valInstances = vid_seq_val.__len__()\n",
        "\n",
        "\n",
        "trainInstances = vid_seq_train.__len__()"
      ],
      "execution_count": 13,
      "outputs": []
    },
    {
      "cell_type": "code",
      "metadata": {
        "id": "QFrMnCz_A8Al",
        "outputId": "7a30d437-cff8-4b85-907f-a94eaddd9f0b",
        "colab": {
          "base_uri": "https://localhost:8080/",
          "height": 85
        }
      },
      "source": [
        "for seqImages, seqMaps, labels in train_loader:\n",
        "  print(f\"Batch size: {len(seqImages)}\")\n",
        "  #Make dataset restituisce una sequenza di immagini e di mappe\n",
        "  print(f\"Batch size: {len(maps)}\")\n",
        "  print(f\"Number of frames selected: {len(seqImages[0])}\")\n",
        "  print(f\"Number of frames selected maps: {len(seqMaps[0])}\")\n",
        "\n",
        "  break"
      ],
      "execution_count": 21,
      "outputs": [
        {
          "output_type": "stream",
          "text": [
            "Batch size: 32\n",
            "Batch size: 32\n",
            "Number of frames selected: 7\n",
            "Number of frames selected maps: 7\n"
          ],
          "name": "stdout"
        }
      ]
    },
    {
      "cell_type": "code",
      "metadata": {
        "id": "dnsYtNDOC4Mi"
      },
      "source": [
        "  "
      ],
      "execution_count": null,
      "outputs": []
    }
  ]
}