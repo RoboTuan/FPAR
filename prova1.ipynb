{
  "nbformat": 4,
  "nbformat_minor": 0,
  "metadata": {
    "colab": {
      "name": "prova1.ipynb",
      "provenance": [],
      "collapsed_sections": [],
      "authorship_tag": "ABX9TyPrLAzhvf+JEVj1nYDTUTWq",
      "include_colab_link": true
    },
    "kernelspec": {
      "name": "python3",
      "display_name": "Python 3"
    },
    "accelerator": "GPU"
  },
  "cells": [
    {
      "cell_type": "markdown",
      "metadata": {
        "id": "view-in-github",
        "colab_type": "text"
      },
      "source": [
        "<a href=\"https://colab.research.google.com/github/RoboTuan/ML_DL_Project/blob/master/prova1.ipynb\" target=\"_parent\"><img src=\"https://colab.research.google.com/assets/colab-badge.svg\" alt=\"Open In Colab\"/></a>"
      ]
    },
    {
      "cell_type": "code",
      "metadata": {
        "id": "_yTB2OrLZRO6",
        "colab_type": "code",
        "outputId": "6268c8bf-206f-4937-8270-f50ec944e02f",
        "colab": {
          "base_uri": "https://localhost:8080/",
          "height": 107
        }
      },
      "source": [
        "from google.colab import drive\n",
        "drive.mount('/content/drive')"
      ],
      "execution_count": 1,
      "outputs": [
        {
          "output_type": "stream",
          "text": [
            "Go to this URL in a browser: https://accounts.google.com/o/oauth2/auth?client_id=947318989803-6bn6qk8qdgf4n4g3pfee6491hc0brc4i.apps.googleusercontent.com&redirect_uri=urn%3aietf%3awg%3aoauth%3a2.0%3aoob&response_type=code&scope=email%20https%3a%2f%2fwww.googleapis.com%2fauth%2fdocs.test%20https%3a%2f%2fwww.googleapis.com%2fauth%2fdrive%20https%3a%2f%2fwww.googleapis.com%2fauth%2fdrive.photos.readonly%20https%3a%2f%2fwww.googleapis.com%2fauth%2fpeopleapi.readonly\n",
            "\n",
            "Enter your authorization code:\n",
            "··········\n",
            "Mounted at /content/drive\n"
          ],
          "name": "stdout"
        }
      ]
    },
    {
      "cell_type": "code",
      "metadata": {
        "id": "JWzgYU9J3Oz7",
        "colab_type": "code",
        "outputId": "d2a8b346-a869-407e-de15-23cfaa0e0b84",
        "colab": {
          "base_uri": "https://localhost:8080/",
          "height": 163
        }
      },
      "source": [
        "!pip install tensorboardX"
      ],
      "execution_count": 2,
      "outputs": [
        {
          "output_type": "stream",
          "text": [
            "Collecting tensorboardX\n",
            "\u001b[?25l  Downloading https://files.pythonhosted.org/packages/35/f1/5843425495765c8c2dd0784a851a93ef204d314fc87bcc2bbb9f662a3ad1/tensorboardX-2.0-py2.py3-none-any.whl (195kB)\n",
            "\r\u001b[K     |█▊                              | 10kB 20.7MB/s eta 0:00:01\r\u001b[K     |███▍                            | 20kB 26.3MB/s eta 0:00:01\r\u001b[K     |█████                           | 30kB 30.1MB/s eta 0:00:01\r\u001b[K     |██████▊                         | 40kB 28.4MB/s eta 0:00:01\r\u001b[K     |████████▍                       | 51kB 14.1MB/s eta 0:00:01\r\u001b[K     |██████████                      | 61kB 12.7MB/s eta 0:00:01\r\u001b[K     |███████████▊                    | 71kB 12.4MB/s eta 0:00:01\r\u001b[K     |█████████████▍                  | 81kB 13.1MB/s eta 0:00:01\r\u001b[K     |███████████████                 | 92kB 13.0MB/s eta 0:00:01\r\u001b[K     |████████████████▊               | 102kB 12.0MB/s eta 0:00:01\r\u001b[K     |██████████████████▍             | 112kB 12.0MB/s eta 0:00:01\r\u001b[K     |████████████████████            | 122kB 12.0MB/s eta 0:00:01\r\u001b[K     |█████████████████████▊          | 133kB 12.0MB/s eta 0:00:01\r\u001b[K     |███████████████████████▌        | 143kB 12.0MB/s eta 0:00:01\r\u001b[K     |█████████████████████████▏      | 153kB 12.0MB/s eta 0:00:01\r\u001b[K     |██████████████████████████▉     | 163kB 12.0MB/s eta 0:00:01\r\u001b[K     |████████████████████████████▌   | 174kB 12.0MB/s eta 0:00:01\r\u001b[K     |██████████████████████████████▏ | 184kB 12.0MB/s eta 0:00:01\r\u001b[K     |███████████████████████████████▉| 194kB 12.0MB/s eta 0:00:01\r\u001b[K     |████████████████████████████████| 204kB 12.0MB/s \n",
            "\u001b[?25hRequirement already satisfied: numpy in /usr/local/lib/python3.6/dist-packages (from tensorboardX) (1.18.5)\n",
            "Requirement already satisfied: six in /usr/local/lib/python3.6/dist-packages (from tensorboardX) (1.12.0)\n",
            "Requirement already satisfied: protobuf>=3.8.0 in /usr/local/lib/python3.6/dist-packages (from tensorboardX) (3.10.0)\n",
            "Requirement already satisfied: setuptools in /usr/local/lib/python3.6/dist-packages (from protobuf>=3.8.0->tensorboardX) (47.1.1)\n",
            "Installing collected packages: tensorboardX\n",
            "Successfully installed tensorboardX-2.0\n"
          ],
          "name": "stdout"
        }
      ]
    },
    {
      "cell_type": "code",
      "metadata": {
        "id": "FjAqLB_krXHb",
        "colab_type": "code",
        "colab": {}
      },
      "source": [
        "!unzip -q \"./drive/My Drive/Copia di GTEA61.zip\"\n",
        "!rm -rf \"./__MACOSX\""
      ],
      "execution_count": 0,
      "outputs": []
    },
    {
      "cell_type": "markdown",
      "metadata": {
        "id": "0vOtW_9zOniQ",
        "colab_type": "text"
      },
      "source": [
        "**Make Train and Validation datasets**"
      ]
    },
    {
      "cell_type": "code",
      "metadata": {
        "id": "X63WTCEnd2EZ",
        "colab_type": "code",
        "colab": {
          "base_uri": "https://localhost:8080/",
          "height": 135
        },
        "outputId": "e4864bdf-5b59-4a29-da55-227c5a490803"
      },
      "source": [
        "import os \n",
        "if not os.path.isdir('./ML_DL_Project'):\n",
        "  !git clone https://github.com/RoboTuan/ML_DL_Project.git"
      ],
      "execution_count": 32,
      "outputs": [
        {
          "output_type": "stream",
          "text": [
            "Cloning into 'ML_DL_Project'...\n",
            "remote: Enumerating objects: 114, done.\u001b[K\n",
            "remote: Counting objects: 100% (114/114), done.\u001b[K\n",
            "remote: Compressing objects: 100% (87/87), done.\u001b[K\n",
            "remote: Total 114 (delta 69), reused 55 (delta 27), pack-reused 0\u001b[K\n",
            "Receiving objects: 100% (114/114), 48.62 KiB | 232.00 KiB/s, done.\n",
            "Resolving deltas: 100% (69/69), done.\n"
          ],
          "name": "stdout"
        }
      ]
    },
    {
      "cell_type": "code",
      "metadata": {
        "id": "sXmhPpWMIW0v",
        "colab_type": "code",
        "colab": {
          "base_uri": "https://localhost:8080/",
          "height": 80
        },
        "outputId": "5d2e7128-7cb7-4154-cab2-f66c8c21969b"
      },
      "source": [
        "base_dataset = \"./GTEA61\"\n",
        "\n",
        "if not os.path.isdir('./GTEA61_val'):\n",
        "  os.makedirs(\"./GTEA61_val\")\n",
        "  os.makedirs(\"./GTEA61_val/flow_x_processed\")\n",
        "  os.makedirs(\"./GTEA61_val/flow_y_processed\")\n",
        "  os.makedirs(\"./GTEA61_val/processed_frames2\")\n",
        "  pass\n",
        "\n",
        "\n",
        "for directory in sorted(os.listdir(base_dataset)):\n",
        "  if not directory.startswith('.'):\n",
        "    directory_path = os.path.join(base_dataset, directory)\n",
        "    new_directory_path = os.path.join(\"./GTEA61_val\", directory)\n",
        "\n",
        "    for user in sorted(os.listdir(directory_path)):\n",
        "      if not user.startswith('.') and user == \"S2\":\n",
        "        current_folder = os.path.join(directory_path, user)\n",
        "        !cp -r \"{current_folder}\" \"{new_directory_path}\"\n",
        "        !rm -rf \"{current_folder}\"\n",
        "        print(current_folder)\n"
      ],
      "execution_count": 10,
      "outputs": [
        {
          "output_type": "stream",
          "text": [
            "./GTEA61/flow_x_processed/S2\n",
            "./GTEA61/flow_y_processed/S2\n",
            "./GTEA61/processed_frames2/S2\n"
          ],
          "name": "stdout"
        }
      ]
    },
    {
      "cell_type": "code",
      "metadata": {
        "id": "9MFvh9AgaoV3",
        "colab_type": "code",
        "colab": {}
      },
      "source": [
        "# Se scritti uguali ai parametri della funzione può venire None come risultato\n",
        "# per questo SEQLEN è maiuscolo \n",
        "SEQLEN = 7\n",
        "DEVICE = 'cuda' # 'cuda' or 'cpu'\n",
        "NUM_CLASSES = 61\n",
        "STAGE = None\n",
        "train_data_dir = \"./GTEA61\"\n",
        "val_data_dir = \"./GTEA61_val\"\n",
        "stage1_dict = None\n",
        "out_dir = None\n",
        "trainBatchSize = 32\n",
        "valBatchSize = None\n",
        "numEpochs = 3\n",
        "lr1 = 1e-3\n",
        "decay_factor = 0.1\n",
        "decay_step = [25, 75, 150]\n",
        "#Boh?!\n",
        "MEMSIZE = 512"
      ],
      "execution_count": 0,
      "outputs": []
    },
    {
      "cell_type": "code",
      "metadata": {
        "id": "I_7vigFWapHx",
        "colab_type": "code",
        "colab": {
          "base_uri": "https://localhost:8080/",
          "height": 66
        },
        "outputId": "e77ec981-9c6b-4bfb-9f57-c7e73888d4e6"
      },
      "source": [
        "import torch\n",
        "import torchvision\n",
        "import torchvision.transforms as transforms\n",
        "import torch\n",
        "import torch.nn as nn\n",
        "import torch.optim as optim\n",
        "from torch.utils.data import Subset, DataLoader\n",
        "from torch.backends import cudnn\n",
        "import tensorflow as tf\n",
        "import datetime\n",
        "import numpy as np\n",
        "import time\n",
        "import matplotlib.pyplot as plt\n",
        "import seaborn as sns\n",
        "from torch.autograd import Function\n",
        "import torchvision\n",
        "from torchvision.models import alexnet\n",
        "from torchvision.utils import make_grid\n",
        "from sklearn.model_selection import RandomizedSearchCV\n",
        "import pandas.util.testing as tm\n",
        "from PIL import Image\n",
        "from tqdm.notebook import tqdm"
      ],
      "execution_count": 12,
      "outputs": [
        {
          "output_type": "stream",
          "text": [
            "/usr/local/lib/python3.6/dist-packages/statsmodels/tools/_testing.py:19: FutureWarning: pandas.util.testing is deprecated. Use the functions in the public API at pandas.testing instead.\n",
            "  import pandas.util.testing as tm\n"
          ],
          "name": "stderr"
        }
      ]
    },
    {
      "cell_type": "code",
      "metadata": {
        "id": "WfbDEYGKW8As",
        "colab_type": "code",
        "colab": {}
      },
      "source": [
        "#!rm -rf \"ML_DL_Project\"\n",
        "#!rm -rf \"./GTEA61\"\n",
        "#!rm -rf \"./GTEA61_val\""
      ],
      "execution_count": 0,
      "outputs": []
    },
    {
      "cell_type": "code",
      "metadata": {
        "id": "HObThRuIfHaM",
        "colab_type": "code",
        "colab": {}
      },
      "source": [
        "from __future__ import print_function, division\n",
        "from ML_DL_Project.Scripts.objectAttentionModelConvLSTM import *\n",
        "from ML_DL_Project.Scripts.spatial_transforms import (Compose, ToTensor, CenterCrop, Scale, Normalize, MultiScaleCornerCrop,\n",
        "                                RandomHorizontalFlip)\n",
        "from tensorboardX import SummaryWriter\n",
        "from ML_DL_Project.Scripts.makeDatasetRGB import *\n",
        "import argparse\n",
        "import sys"
      ],
      "execution_count": 0,
      "outputs": []
    },
    {
      "cell_type": "code",
      "metadata": {
        "id": "t5AHTPevarFM",
        "colab_type": "code",
        "colab": {}
      },
      "source": [
        "# Dir for saving models and log files\n",
        "model_folder = os.path.join('./', \"out_dir\", \"./GTEA61\", 'rgb')\n",
        "\n",
        "if not os.path.isdir('./out_dir'):\n",
        "  if os.path.exists(model_folder):\n",
        "    print('Directory {} exists!'.format(model_folder))\n",
        "    sys.exit()\n",
        "    \n",
        "  os.makedirs(model_folder)\n",
        "\n",
        "writer = SummaryWriter(model_folder)\n",
        "train_log_loss = open((model_folder + '/train_log_loss.txt'), 'w')\n",
        "train_log_acc = open((model_folder + '/train_log_acc.txt'), 'w')\n",
        "val_log_loss = open((model_folder + '/val_log_loss.txt'), 'w')\n",
        "val_log_acc = open((model_folder + '/val_log_acc.txt'), 'w')\n"
      ],
      "execution_count": 0,
      "outputs": []
    },
    {
      "cell_type": "code",
      "metadata": {
        "id": "1I7ggwuIa2WL",
        "colab_type": "code",
        "colab": {}
      },
      "source": [
        "# Data loader\n",
        "normalize = Normalize(mean=[0.485, 0.456, 0.406], std=[0.229, 0.224, 0.225])\n",
        "spatial_transform = Compose([Scale(256),\n",
        "                             RandomHorizontalFlip(), \n",
        "                             MultiScaleCornerCrop([1, 0.875, 0.75, 0.65625], 224),\n",
        "                             ToTensor(), \n",
        "                             normalize])\n",
        "\n",
        "vid_seq_train = makeDataset(train_data_dir, spatial_transform=spatial_transform, seqLen=SEQLEN, fmt='.png')\n",
        "\n",
        "train_loader = torch.utils.data.DataLoader(vid_seq_train, batch_size=trainBatchSize, shuffle=True, num_workers=4, pin_memory=True)\n",
        "\n",
        "if val_data_dir is not None:\n",
        "  vid_seq_val = makeDataset(val_data_dir,spatial_transform = Compose([Scale(256),\n",
        "                                                                    CenterCrop(224),\n",
        "                                                                    ToTensor(),\n",
        "                                                                    normalize]),\n",
        "                            seqLen=seqLen, fmt='.png')\n",
        "\n",
        "  val_loader = torch.utils.data.DataLoader(vid_seq_val, batch_size=valBatchSize, shuffle=False, num_workers=2, pin_memory=True)\n",
        "  valInstances = vid_seq_val.__len__()\n",
        "\n",
        "\n",
        "trainInstances = vid_seq_train.__len__()"
      ],
      "execution_count": 0,
      "outputs": []
    },
    {
      "cell_type": "code",
      "metadata": {
        "id": "2EC61c2ROzgU",
        "colab_type": "code",
        "colab": {}
      },
      "source": [
        "normalize = Normalize(mean=[0.485, 0.456, 0.406], std=[0.229, 0.224, 0.225])\n",
        "spatial_transform = Compose([Scale(256),\n",
        "                             RandomHorizontalFlip(), \n",
        "                             MultiScaleCornerCrop([1, 0.875, 0.75, 0.65625], 224),\n",
        "                             ToTensor(), \n",
        "                             normalize])\n",
        "\n",
        "vid_seq_train = makeDataset(train_data_dir, spatial_transform=spatial_transform, seqLen=SEQLEN, fmt='.png')\n",
        "vid_seq_val = makeDataset(val_data_dir,spatial_transform = Compose([Scale(256),\n",
        "                                                                    CenterCrop(224),\n",
        "                                                                    ToTensor(),\n",
        "                                                                    normalize]),\n",
        "                          seqLen=SEQLEN, fmt='.png')"
      ],
      "execution_count": 0,
      "outputs": []
    },
    {
      "cell_type": "code",
      "metadata": {
        "id": "rUtV8TAnjjZp",
        "colab_type": "code",
        "colab": {
          "base_uri": "https://localhost:8080/",
          "height": 52
        },
        "outputId": "d0e25a2e-ceeb-43c5-d20a-39d342277cb9"
      },
      "source": [
        "len(vid_seq_train)"
      ],
      "execution_count": 30,
      "outputs": [
        {
          "output_type": "execute_result",
          "data": {
            "text/plain": [
              "341"
            ]
          },
          "metadata": {
            "tags": []
          },
          "execution_count": 30
        }
      ]
    },
    {
      "cell_type": "code",
      "metadata": {
        "id": "F0ufExDdTu-8",
        "colab_type": "code",
        "colab": {}
      },
      "source": [
        "for images, labels in train_loader:\n",
        "  print(f\"Batch size: {len(images)}\")\n",
        "  print(f\"Number of frames selected: {len(images[0])}\")\n",
        "  break"
      ],
      "execution_count": 0,
      "outputs": []
    },
    {
      "cell_type": "code",
      "metadata": {
        "id": "ffrv_iq2U6Kd",
        "colab_type": "code",
        "colab": {}
      },
      "source": [
        "STAGE = 1"
      ],
      "execution_count": 0,
      "outputs": []
    },
    {
      "cell_type": "code",
      "metadata": {
        "id": "NZ8JCAg5TYxH",
        "colab_type": "code",
        "colab": {}
      },
      "source": [
        "train_params = []\n",
        "if STAGE == 1:\n",
        "\n",
        "    model = attentionModel(num_classes=NUM_CLASSES, mem_size=MEMSIZE)\n",
        "    model.train(False)\n",
        "    for params in model.parameters():\n",
        "        params.requires_grad = False\n",
        "else:\n",
        "\n",
        "    model = attentionModel(num_classes=NUM_CLASSES, mem_size=MEMSIZE)\n",
        "    model.load_state_dict(torch.load(stage1_dict))\n",
        "    model.train(False)\n",
        "    for params in model.parameters():\n",
        "        params.requires_grad = False\n",
        "    #\n",
        "    for params in model.resNet.layer4[0].conv1.parameters():\n",
        "        params.requires_grad = True\n",
        "        train_params += [params]\n",
        "\n",
        "    for params in model.resNet.layer4[0].conv2.parameters():\n",
        "        params.requires_grad = True\n",
        "        train_params += [params]\n",
        "\n",
        "    for params in model.resNet.layer4[1].conv1.parameters():\n",
        "        params.requires_grad = True\n",
        "        train_params += [params]\n",
        "\n",
        "    for params in model.resNet.layer4[1].conv2.parameters():\n",
        "        params.requires_grad = True\n",
        "        train_params += [params]\n",
        "\n",
        "    for params in model.resNet.layer4[2].conv1.parameters():\n",
        "        params.requires_grad = True\n",
        "        train_params += [params]\n",
        "    #\n",
        "    for params in model.resNet.layer4[2].conv2.parameters():\n",
        "        params.requires_grad = True\n",
        "        train_params += [params]\n",
        "    #\n",
        "    for params in model.resNet.fc.parameters():\n",
        "        params.requires_grad = True\n",
        "        train_params += [params]\n",
        "\n",
        "    model.resNet.layer4[0].conv1.train(True)\n",
        "    model.resNet.layer4[0].conv2.train(True)\n",
        "    model.resNet.layer4[1].conv1.train(True)\n",
        "    model.resNet.layer4[1].conv2.train(True)\n",
        "    model.resNet.layer4[2].conv1.train(True)\n",
        "    model.resNet.layer4[2].conv2.train(True)\n",
        "    model.resNet.fc.train(True)\n",
        "\n",
        "for params in model.lstm_cell.parameters():\n",
        "    params.requires_grad = True\n",
        "    train_params += [params]\n",
        "\n",
        "for params in model.classifier.parameters():\n",
        "    params.requires_grad = True\n",
        "    train_params += [params]\n"
      ],
      "execution_count": 0,
      "outputs": []
    },
    {
      "cell_type": "code",
      "metadata": {
        "id": "-Y7F_OiSU7a4",
        "colab_type": "code",
        "colab": {}
      },
      "source": [
        "model.lstm_cell.train(True)\n",
        "\n",
        "model.classifier.train(True)\n",
        "\n",
        "model = model.to(DEVICE)\n",
        "\n",
        "loss_fn = nn.CrossEntropyLoss()\n",
        "\n",
        "optimizer_fn = torch.optim.Adam(train_params, lr=lr1, weight_decay=4e-5, eps=1e-4)\n",
        "\n",
        "optim_scheduler = torch.optim.lr_scheduler.MultiStepLR(optimizer_fn, milestones=decay_step, gamma=decay_factor)\n",
        "\n",
        "\n",
        "train_iter = 0\n",
        "min_accuracy = 0\n",
        "\n",
        "\n",
        "for epoch in range(numEpochs):\n",
        "  epoch_loss = 0\n",
        "  numCorrTrain = 0\n",
        "  trainSamples = 0\n",
        "  iterPerEpoch = 0\n",
        "  model.lstm_cell.train(True)\n",
        "  model.classifier.train(True)\n",
        "  writer.add_scalar('lr', optimizer_fn.param_groups[0]['lr'], epoch+1)\n",
        "  if STAGE == 2:\n",
        "      model.resNet.layer4[0].conv1.train(True)\n",
        "      model.resNet.layer4[0].conv2.train(True)\n",
        "      model.resNet.layer4[1].conv1.train(True)\n",
        "      model.resNet.layer4[1].conv2.train(True)\n",
        "      model.resNet.layer4[2].conv1.train(True)\n",
        "      model.resNet.layer4[2].conv2.train(True)\n",
        "      model.resNet.fc.train(True)\n",
        "  for i, (inputs, targets) in enumerate(train_loader):\n",
        "      train_iter += 1\n",
        "      iterPerEpoch += 1\n",
        "      optimizer_fn.zero_grad()\n",
        "      inputVariable = Variable(inputs.permute(1, 0, 2, 3, 4).to(DEVICE))\n",
        "      labelVariable = Variable(targets.to(DEVICE))\n",
        "      trainSamples += inputs.size(0)\n",
        "      output_label, _ = model(inputVariable)\n",
        "      loss = loss_fn(output_label, labelVariable)\n",
        "      loss.backward()\n",
        "      optimizer_fn.step()\n",
        "      _, predicted = torch.max(output_label.data, 1)\n",
        "      numCorrTrain += (predicted == targets.to(DEVICE)).sum()\n",
        "      # see if loss.item() has to be multiplied by inputs.size(0)\n",
        "      epoch_loss += loss.item()\n",
        "  avg_loss = epoch_loss/iterPerEpoch\n",
        "  # This is deprecated, see if the below \"torch.true_divide\" is correct\n",
        "  #trainAccuracy =  (numCorrTrain / trainSamples) * 100\n",
        "  trainAccuracy =  torch.true_divide(numCorrTrain, trainSamples) * 100\n",
        "  optim_scheduler.step()\n",
        "\n",
        "  print('Train: Epoch = {} | Loss = {} | Accuracy = {}'.format(epoch+1, avg_loss, trainAccuracy))\n",
        "  writer.add_scalar('train/epoch_loss', avg_loss, epoch+1)\n",
        "  writer.add_scalar('train/accuracy', trainAccuracy, epoch+1)\n",
        "  if val_data_dir is not None:\n",
        "      if (epoch+1) % 1 == 0:\n",
        "          model.train(False)\n",
        "          val_loss_epoch = 0\n",
        "          val_iter = 0\n",
        "          val_samples = 0\n",
        "          numCorr = 0\n",
        "          for j, (inputs, targets) in enumerate(val_loader):\n",
        "              val_iter += 1\n",
        "              val_samples += inputs.size(0)\n",
        "              inputVariable = Variable(inputs.permute(1, 0, 2, 3, 4).cuda(), volatile=True)\n",
        "              labelVariable = Variable(targets.cuda(async=True), volatile=True)\n",
        "              output_label, _ = model(inputVariable)\n",
        "              val_loss = loss_fn(output_label, labelVariable)\n",
        "              val_loss_epoch += val_loss.data[0]\n",
        "              _, predicted = torch.max(output_label.data, 1)\n",
        "              numCorr += (predicted == targets.cuda()).sum()\n",
        "          val_accuracy = (numCorr / val_samples) * 100\n",
        "          avg_val_loss = val_loss_epoch / val_iter\n",
        "          print('Val: Epoch = {} | Loss {} | Accuracy = {}'.format(epoch + 1, avg_val_loss, val_accuracy))\n",
        "          writer.add_scalar('val/epoch_loss', avg_val_loss, epoch + 1)\n",
        "          writer.add_scalar('val/accuracy', val_accuracy, epoch + 1)\n",
        "          val_log_loss.write('Val Loss after {} epochs = {}\\n'.format(epoch + 1, avg_val_loss))\n",
        "          val_log_acc.write('Val Accuracy after {} epochs = {}%\\n'.format(epoch + 1, val_accuracy))\n",
        "          if val_accuracy > min_accuracy:\n",
        "              save_path_model = (model_folder + '/model_rgb_state_dict.pth')\n",
        "              torch.save(model.state_dict(), save_path_model)\n",
        "              min_accuracy = val_accuracy\n",
        "      else:\n",
        "          if (epoch+1) % 10 == 0:\n",
        "              save_path_model = (model_folder + '/model_rgb_state_dict_epoch' + str(epoch+1) + '.pth')\n",
        "              torch.save(model.state_dict(), save_path_model)\n",
        "  \n",
        "\n",
        "\n"
      ],
      "execution_count": 0,
      "outputs": []
    },
    {
      "cell_type": "code",
      "metadata": {
        "id": "aO1OJCvR9-gH",
        "colab_type": "code",
        "colab": {}
      },
      "source": [
        "train_log_loss.close()\n",
        "train_log_acc.close()\n",
        "val_log_acc.close()\n",
        "val_log_loss.close()\n",
        "writer.export_scalars_to_json(model_folder + \"/all_scalars.json\")\n",
        "writer.close()"
      ],
      "execution_count": 0,
      "outputs": []
    },
    {
      "cell_type": "code",
      "metadata": {
        "id": "STKQP9mEG0x4",
        "colab_type": "code",
        "colab": {}
      },
      "source": [
        "drive.flush_and_unmount()"
      ],
      "execution_count": 0,
      "outputs": []
    }
  ]
}