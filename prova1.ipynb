{
  "nbformat": 4,
  "nbformat_minor": 0,
  "metadata": {
    "colab": {
      "name": "prova1.ipynb",
      "provenance": [],
      "collapsed_sections": [],
      "authorship_tag": "ABX9TyOhZzM05Za75JlD3CTNyU4J",
      "include_colab_link": true
    },
    "kernelspec": {
      "name": "python3",
      "display_name": "Python 3"
    },
    "accelerator": "GPU",
    "widgets": {
      "application/vnd.jupyter.widget-state+json": {
        "d4a43f2cd3904acc97761b0527a70bdd": {
          "model_module": "@jupyter-widgets/controls",
          "model_name": "HBoxModel",
          "state": {
            "_view_name": "HBoxView",
            "_dom_classes": [],
            "_model_name": "HBoxModel",
            "_view_module": "@jupyter-widgets/controls",
            "_model_module_version": "1.5.0",
            "_view_count": null,
            "_view_module_version": "1.5.0",
            "box_style": "",
            "layout": "IPY_MODEL_b1d0ba3193464e75b04047e3a6118e48",
            "_model_module": "@jupyter-widgets/controls",
            "children": [
              "IPY_MODEL_5d90d46b419b4e17acbc4aa4cb352f66",
              "IPY_MODEL_4dc4f5799705432089932c6d1841afa4"
            ]
          }
        },
        "b1d0ba3193464e75b04047e3a6118e48": {
          "model_module": "@jupyter-widgets/base",
          "model_name": "LayoutModel",
          "state": {
            "_view_name": "LayoutView",
            "grid_template_rows": null,
            "right": null,
            "justify_content": null,
            "_view_module": "@jupyter-widgets/base",
            "overflow": null,
            "_model_module_version": "1.2.0",
            "_view_count": null,
            "flex_flow": null,
            "width": null,
            "min_width": null,
            "border": null,
            "align_items": null,
            "bottom": null,
            "_model_module": "@jupyter-widgets/base",
            "top": null,
            "grid_column": null,
            "overflow_y": null,
            "overflow_x": null,
            "grid_auto_flow": null,
            "grid_area": null,
            "grid_template_columns": null,
            "flex": null,
            "_model_name": "LayoutModel",
            "justify_items": null,
            "grid_row": null,
            "max_height": null,
            "align_content": null,
            "visibility": null,
            "align_self": null,
            "height": null,
            "min_height": null,
            "padding": null,
            "grid_auto_rows": null,
            "grid_gap": null,
            "max_width": null,
            "order": null,
            "_view_module_version": "1.2.0",
            "grid_template_areas": null,
            "object_position": null,
            "object_fit": null,
            "grid_auto_columns": null,
            "margin": null,
            "display": null,
            "left": null
          }
        },
        "5d90d46b419b4e17acbc4aa4cb352f66": {
          "model_module": "@jupyter-widgets/controls",
          "model_name": "FloatProgressModel",
          "state": {
            "_view_name": "ProgressView",
            "style": "IPY_MODEL_56fa004d19124ef78f26b2468e46994f",
            "_dom_classes": [],
            "description": "100%",
            "_model_name": "FloatProgressModel",
            "bar_style": "success",
            "max": 87306240,
            "_view_module": "@jupyter-widgets/controls",
            "_model_module_version": "1.5.0",
            "value": 87306240,
            "_view_count": null,
            "_view_module_version": "1.5.0",
            "orientation": "horizontal",
            "min": 0,
            "description_tooltip": null,
            "_model_module": "@jupyter-widgets/controls",
            "layout": "IPY_MODEL_525caf9f42af4a0bbc5ad3af0174defb"
          }
        },
        "4dc4f5799705432089932c6d1841afa4": {
          "model_module": "@jupyter-widgets/controls",
          "model_name": "HTMLModel",
          "state": {
            "_view_name": "HTMLView",
            "style": "IPY_MODEL_7813d33529ee42e09bf8c28edd21e2f3",
            "_dom_classes": [],
            "description": "",
            "_model_name": "HTMLModel",
            "placeholder": "​",
            "_view_module": "@jupyter-widgets/controls",
            "_model_module_version": "1.5.0",
            "value": " 83.3M/83.3M [00:00&lt;00:00, 143MB/s]",
            "_view_count": null,
            "_view_module_version": "1.5.0",
            "description_tooltip": null,
            "_model_module": "@jupyter-widgets/controls",
            "layout": "IPY_MODEL_c0ac7292a3ad4fbf87deba4a69cbb71f"
          }
        },
        "56fa004d19124ef78f26b2468e46994f": {
          "model_module": "@jupyter-widgets/controls",
          "model_name": "ProgressStyleModel",
          "state": {
            "_view_name": "StyleView",
            "_model_name": "ProgressStyleModel",
            "description_width": "initial",
            "_view_module": "@jupyter-widgets/base",
            "_model_module_version": "1.5.0",
            "_view_count": null,
            "_view_module_version": "1.2.0",
            "bar_color": null,
            "_model_module": "@jupyter-widgets/controls"
          }
        },
        "525caf9f42af4a0bbc5ad3af0174defb": {
          "model_module": "@jupyter-widgets/base",
          "model_name": "LayoutModel",
          "state": {
            "_view_name": "LayoutView",
            "grid_template_rows": null,
            "right": null,
            "justify_content": null,
            "_view_module": "@jupyter-widgets/base",
            "overflow": null,
            "_model_module_version": "1.2.0",
            "_view_count": null,
            "flex_flow": null,
            "width": null,
            "min_width": null,
            "border": null,
            "align_items": null,
            "bottom": null,
            "_model_module": "@jupyter-widgets/base",
            "top": null,
            "grid_column": null,
            "overflow_y": null,
            "overflow_x": null,
            "grid_auto_flow": null,
            "grid_area": null,
            "grid_template_columns": null,
            "flex": null,
            "_model_name": "LayoutModel",
            "justify_items": null,
            "grid_row": null,
            "max_height": null,
            "align_content": null,
            "visibility": null,
            "align_self": null,
            "height": null,
            "min_height": null,
            "padding": null,
            "grid_auto_rows": null,
            "grid_gap": null,
            "max_width": null,
            "order": null,
            "_view_module_version": "1.2.0",
            "grid_template_areas": null,
            "object_position": null,
            "object_fit": null,
            "grid_auto_columns": null,
            "margin": null,
            "display": null,
            "left": null
          }
        },
        "7813d33529ee42e09bf8c28edd21e2f3": {
          "model_module": "@jupyter-widgets/controls",
          "model_name": "DescriptionStyleModel",
          "state": {
            "_view_name": "StyleView",
            "_model_name": "DescriptionStyleModel",
            "description_width": "",
            "_view_module": "@jupyter-widgets/base",
            "_model_module_version": "1.5.0",
            "_view_count": null,
            "_view_module_version": "1.2.0",
            "_model_module": "@jupyter-widgets/controls"
          }
        },
        "c0ac7292a3ad4fbf87deba4a69cbb71f": {
          "model_module": "@jupyter-widgets/base",
          "model_name": "LayoutModel",
          "state": {
            "_view_name": "LayoutView",
            "grid_template_rows": null,
            "right": null,
            "justify_content": null,
            "_view_module": "@jupyter-widgets/base",
            "overflow": null,
            "_model_module_version": "1.2.0",
            "_view_count": null,
            "flex_flow": null,
            "width": null,
            "min_width": null,
            "border": null,
            "align_items": null,
            "bottom": null,
            "_model_module": "@jupyter-widgets/base",
            "top": null,
            "grid_column": null,
            "overflow_y": null,
            "overflow_x": null,
            "grid_auto_flow": null,
            "grid_area": null,
            "grid_template_columns": null,
            "flex": null,
            "_model_name": "LayoutModel",
            "justify_items": null,
            "grid_row": null,
            "max_height": null,
            "align_content": null,
            "visibility": null,
            "align_self": null,
            "height": null,
            "min_height": null,
            "padding": null,
            "grid_auto_rows": null,
            "grid_gap": null,
            "max_width": null,
            "order": null,
            "_view_module_version": "1.2.0",
            "grid_template_areas": null,
            "object_position": null,
            "object_fit": null,
            "grid_auto_columns": null,
            "margin": null,
            "display": null,
            "left": null
          }
        }
      }
    }
  },
  "cells": [
    {
      "cell_type": "markdown",
      "metadata": {
        "id": "view-in-github",
        "colab_type": "text"
      },
      "source": [
        "<a href=\"https://colab.research.google.com/github/RoboTuan/ML_DL_Project/blob/master/prova1.ipynb\" target=\"_parent\"><img src=\"https://colab.research.google.com/assets/colab-badge.svg\" alt=\"Open In Colab\"/></a>"
      ]
    },
    {
      "cell_type": "code",
      "metadata": {
        "id": "_yTB2OrLZRO6",
        "colab_type": "code",
        "outputId": "a129a44d-7ebb-4487-d06c-5e83af85201a",
        "colab": {
          "base_uri": "https://localhost:8080/",
          "height": 107
        }
      },
      "source": [
        "from google.colab import drive\n",
        "drive.mount('/content/drive')"
      ],
      "execution_count": 1,
      "outputs": [
        {
          "output_type": "stream",
          "text": [
            "Go to this URL in a browser: https://accounts.google.com/o/oauth2/auth?client_id=947318989803-6bn6qk8qdgf4n4g3pfee6491hc0brc4i.apps.googleusercontent.com&redirect_uri=urn%3aietf%3awg%3aoauth%3a2.0%3aoob&response_type=code&scope=email%20https%3a%2f%2fwww.googleapis.com%2fauth%2fdocs.test%20https%3a%2f%2fwww.googleapis.com%2fauth%2fdrive%20https%3a%2f%2fwww.googleapis.com%2fauth%2fdrive.photos.readonly%20https%3a%2f%2fwww.googleapis.com%2fauth%2fpeopleapi.readonly\n",
            "\n",
            "Enter your authorization code:\n",
            "··········\n",
            "Mounted at /content/drive\n"
          ],
          "name": "stdout"
        }
      ]
    },
    {
      "cell_type": "code",
      "metadata": {
        "id": "FjAqLB_krXHb",
        "colab_type": "code",
        "colab": {}
      },
      "source": [
        "!unzip -q \"./drive/My Drive/GTEA61.zip\""
      ],
      "execution_count": 0,
      "outputs": []
    },
    {
      "cell_type": "code",
      "metadata": {
        "id": "X63WTCEnd2EZ",
        "colab_type": "code",
        "outputId": "b82ba37b-e3dc-4781-9d30-bc240f386f03",
        "colab": {
          "base_uri": "https://localhost:8080/",
          "height": 135
        }
      },
      "source": [
        "import os \n",
        "if not os.path.isdir('./ML_DL_Project'):\n",
        "  !git clone https://github.com/RoboTuan/ML_DL_Project.git"
      ],
      "execution_count": 4,
      "outputs": [
        {
          "output_type": "stream",
          "text": [
            "Cloning into 'ML_DL_Project'...\n",
            "remote: Enumerating objects: 101, done.\u001b[K\n",
            "remote: Counting objects: 100% (101/101), done.\u001b[K\n",
            "remote: Compressing objects: 100% (75/75), done.\u001b[K\n",
            "remote: Total 101 (delta 60), reused 53 (delta 26), pack-reused 0\u001b[K\n",
            "Receiving objects: 100% (101/101), 43.56 KiB | 275.00 KiB/s, done.\n",
            "Resolving deltas: 100% (60/60), done.\n"
          ],
          "name": "stdout"
        }
      ]
    },
    {
      "cell_type": "code",
      "metadata": {
        "id": "9MFvh9AgaoV3",
        "colab_type": "code",
        "colab": {}
      },
      "source": [
        "# Se scritti uguali ai parametri della funzione può venire None come risultato\n",
        "# per questo SEQLEN è maiuscolo \n",
        "SEQLEN = 7\n",
        "DEVICE = 'cuda' # 'cuda' or 'cpu'\n",
        "NUM_CLASSES = 61\n",
        "STAGE = None\n",
        "train_data_dir = \"./GTEA61\"\n",
        "val_data_dir = None\n",
        "stage1_dict = None\n",
        "out_dir = None\n",
        "trainBatchSize = 32\n",
        "valBatchSize = None\n",
        "numEpochs = 3\n",
        "lr1 = 1e-3\n",
        "decay_factor = 0.1\n",
        "decay_step = [25, 75, 150]\n",
        "#Boh?!\n",
        "MEMSIZE = 512"
      ],
      "execution_count": 0,
      "outputs": []
    },
    {
      "cell_type": "code",
      "metadata": {
        "id": "I_7vigFWapHx",
        "colab_type": "code",
        "colab": {}
      },
      "source": [
        "import torch\n",
        "import torchvision\n",
        "import torchvision.transforms as transforms\n",
        "import torch\n",
        "import torch.nn as nn\n",
        "import torch.optim as optim\n",
        "from torch.utils.data import Subset, DataLoader\n",
        "from torch.backends import cudnn\n",
        "import tensorflow as tf\n",
        "import datetime\n",
        "import numpy as np\n",
        "import time\n",
        "import matplotlib.pyplot as plt\n",
        "import seaborn as sns\n",
        "from torch.autograd import Function\n",
        "import torchvision\n",
        "from torchvision.models import alexnet\n",
        "from torchvision.utils import make_grid\n",
        "from sklearn.model_selection import RandomizedSearchCV\n",
        "import pandas.util.testing as tm\n",
        "from PIL import Image\n",
        "from tqdm.notebook import tqdm"
      ],
      "execution_count": 0,
      "outputs": []
    },
    {
      "cell_type": "code",
      "metadata": {
        "id": "WfbDEYGKW8As",
        "colab_type": "code",
        "colab": {}
      },
      "source": [
        "#!rm -rf \"ML_DL_Project\""
      ],
      "execution_count": 0,
      "outputs": []
    },
    {
      "cell_type": "code",
      "metadata": {
        "id": "HObThRuIfHaM",
        "colab_type": "code",
        "colab": {}
      },
      "source": [
        "from __future__ import print_function, division\n",
        "from ML_DL_Project.Scripts.objectAttentionModelConvLSTM import *\n",
        "from ML_DL_Project.Scripts.spatial_transforms import (Compose, ToTensor, CenterCrop, Scale, Normalize, MultiScaleCornerCrop,\n",
        "                                RandomHorizontalFlip)\n",
        "from torch.utils.tensorboard import SummaryWriter\n",
        "from ML_DL_Project.Scripts.makeDatasetRGB import *\n",
        "import argparse\n",
        "import sys"
      ],
      "execution_count": 0,
      "outputs": []
    },
    {
      "cell_type": "code",
      "metadata": {
        "id": "t5AHTPevarFM",
        "colab_type": "code",
        "colab": {}
      },
      "source": [
        "# Dir for saving models and log files\n",
        "model_folder = os.path.join('./', \"out_dir\", \"./GTEA61\", 'rgb')\n",
        "\n",
        "if not os.path.isdir('./out_dir'):\n",
        "  if os.path.exists(model_folder):\n",
        "    print('Directory {} exists!'.format(model_folder))\n",
        "    sys.exit()\n",
        "    \n",
        "  os.makedirs(model_folder)\n",
        "\n",
        "writer = SummaryWriter(model_folder)\n",
        "train_log_loss = open((model_folder + '/train_log_loss.txt'), 'w')\n",
        "train_log_acc = open((model_folder + '/train_log_acc.txt'), 'w')\n",
        "val_log_loss = open((model_folder + '/val_log_loss.txt'), 'w')\n",
        "val_log_acc = open((model_folder + '/val_log_acc.txt'), 'w')\n"
      ],
      "execution_count": 0,
      "outputs": []
    },
    {
      "cell_type": "code",
      "metadata": {
        "id": "1I7ggwuIa2WL",
        "colab_type": "code",
        "colab": {}
      },
      "source": [
        "# Data loader\n",
        "normalize = Normalize(mean=[0.485, 0.456, 0.406], std=[0.229, 0.224, 0.225])\n",
        "spatial_transform = Compose([Scale(256),\n",
        "                             RandomHorizontalFlip(), \n",
        "                             MultiScaleCornerCrop([1, 0.875, 0.75, 0.65625], 224),\n",
        "                             ToTensor(), \n",
        "                             normalize])\n",
        "\n",
        "vid_seq_train = makeDataset(train_data_dir, spatial_transform=spatial_transform, seqLen=SEQLEN, fmt='.png')\n",
        "\n",
        "train_loader = torch.utils.data.DataLoader(vid_seq_train, batch_size=trainBatchSize, shuffle=True, num_workers=4, pin_memory=True)\n",
        "\n",
        "if val_data_dir is not None:\n",
        "  vid_seq_val = makeDataset(val_data_dir,spatial_transform = Compose([Scale(256),\n",
        "                                                                    CenterCrop(224),\n",
        "                                                                    ToTensor(),\n",
        "                                                                    normalize]),\n",
        "                            seqLen=seqLen, fmt='.png')\n",
        "\n",
        "  val_loader = torch.utils.data.DataLoader(vid_seq_val, batch_size=valBatchSize, shuffle=False, num_workers=2, pin_memory=True)\n",
        "  valInstances = vid_seq_val.__len__()\n",
        "\n",
        "\n",
        "trainInstances = vid_seq_train.__len__()"
      ],
      "execution_count": 0,
      "outputs": []
    },
    {
      "cell_type": "code",
      "metadata": {
        "id": "53kj2b9Pbe2B",
        "colab_type": "code",
        "colab": {}
      },
      "source": [
        "import os\n",
        "import torch\n",
        "from torch.utils.data import Dataset\n",
        "from PIL import Image\n",
        "import numpy as np\n",
        "import glob\n",
        "import random\n",
        "\n",
        "\n",
        "def gen_split(root_dir, stackSize):\n",
        "    Dataset = []\n",
        "    Labels = []\n",
        "    NumFrames = []\n",
        "    root_dir = os.path.join(root_dir, 'processed_frames2')\n",
        "    # print for debugging\n",
        "    #print(f\"root_dir: {root_dir}\")\n",
        "    for dir_user in sorted(os.listdir(root_dir)):\n",
        "      if not dir_user.startswith('.') and dir_user != \"S2\" :\n",
        "        class_id = 0\n",
        "        directory = os.path.join(root_dir, dir_user)\n",
        "        # print for debugging\n",
        "        #print(f\"directory: {directory}\")\n",
        "        for target in sorted(os.listdir(directory)):\n",
        "          if not target.startswith('.'):\n",
        "            directory1 = os.path.join(directory, target)\n",
        "            # print for debugging\n",
        "            #print(f\"directory1: {directory1}\")\n",
        "            insts = sorted(os.listdir(directory1))\n",
        "            # print for debugging\n",
        "            #print(f\"insts: {insts}\")\n",
        "            if insts != []:\n",
        "               for inst in insts:\n",
        "                 if not inst.startswith('.'):\n",
        "                   # adding \"rgb\" to path becasue after the number there are\n",
        "                   # both \"rgb\" and \"mmap\" directories\n",
        "                   inst = inst + \"/rgb\"\n",
        "                   inst_dir = os.path.join(directory1, inst)\n",
        "                   # print for debugging\n",
        "                   #print(f\"inst_dir: {inst_dir}\")\n",
        "                   numFrames = len(glob.glob1(inst_dir, '*.png'))\n",
        "                   # print for debugging\n",
        "                   #print(f\"numFrames: {numFrames}\")\n",
        "                   if numFrames >= stackSize:\n",
        "                     Dataset.append(inst_dir)\n",
        "                     Labels.append(class_id)\n",
        "                     NumFrames.append(numFrames)\n",
        "            class_id += 1\n",
        "    return Dataset, Labels, NumFrames\n",
        "\n",
        "class makeDataset(Dataset):\n",
        "    def __init__(self, root_dir, spatial_transform=None, seqLen=20,\n",
        "                 train=True, mulSeg=False, numSeg=1, fmt='.png'):\n",
        "\n",
        "        self.images, self.labels, self.numFrames = gen_split(root_dir, 5)\n",
        "        self.spatial_transform = spatial_transform\n",
        "        self.train = train\n",
        "        self.mulSeg = mulSeg\n",
        "        self.numSeg = numSeg\n",
        "        self.seqLen = seqLen\n",
        "        # print for debugging\n",
        "        #print(self.seqLen)\n",
        "        self.fmt = fmt\n",
        "\n",
        "    def __len__(self):\n",
        "        return len(self.images)\n",
        "\n",
        "    def __getitem__(self, idx):\n",
        "        vid_name = self.images[idx]\n",
        "        label = self.labels[idx]\n",
        "        numFrame = self.numFrames[idx]\n",
        "        inpSeq = []\n",
        "         # For debugging\n",
        "        #print(numFrame, self.seqLen)\n",
        "        self.spatial_transform.randomize_parameters()\n",
        "        for i in np.linspace(1, numFrame, self.seqLen, endpoint=False):\n",
        "          # Corrected with \"rgb\" instead of \"image_\" and zfill(4) instead of zfill(5)\n",
        "          fl_name = vid_name + '/' + 'rgb' + str(int(np.floor(i))).zfill(4) + self.fmt\n",
        "          img = Image.open(fl_name)\n",
        "          # For debugging\n",
        "          #print(img)\n",
        "          inpSeq.append(self.spatial_transform(img.convert('RGB')))\n",
        "        inpSeq = torch.stack(inpSeq, 0)\n",
        "        return inpSeq, label\n"
      ],
      "execution_count": 0,
      "outputs": []
    },
    {
      "cell_type": "code",
      "metadata": {
        "id": "03_sxGUYbqAF",
        "colab_type": "code",
        "colab": {}
      },
      "source": [
        "vid_seq_train = makeDataset(train_data_dir, spatial_transform=spatial_transform, seqLen=SEQLEN, fmt='.png')"
      ],
      "execution_count": 0,
      "outputs": []
    },
    {
      "cell_type": "code",
      "metadata": {
        "id": "F0ufExDdTu-8",
        "colab_type": "code",
        "colab": {
          "base_uri": "https://localhost:8080/",
          "height": 66
        },
        "outputId": "8ea82239-7a53-4d11-ab5a-d48ef4397213"
      },
      "source": [
        "for images, labels in train_loader:\n",
        "  print(f\"Batch size: {len(images)}\")\n",
        "  print(f\"Number of frames selected: {len(images[0])}\")\n",
        "  break"
      ],
      "execution_count": 16,
      "outputs": [
        {
          "output_type": "stream",
          "text": [
            "Batch size: 32\n",
            "Number of frames selected: 7\n"
          ],
          "name": "stdout"
        }
      ]
    },
    {
      "cell_type": "code",
      "metadata": {
        "id": "ffrv_iq2U6Kd",
        "colab_type": "code",
        "colab": {}
      },
      "source": [
        "STAGE = 1"
      ],
      "execution_count": 0,
      "outputs": []
    },
    {
      "cell_type": "code",
      "metadata": {
        "id": "NZ8JCAg5TYxH",
        "colab_type": "code",
        "colab": {
          "base_uri": "https://localhost:8080/",
          "height": 97,
          "referenced_widgets": [
            "d4a43f2cd3904acc97761b0527a70bdd",
            "b1d0ba3193464e75b04047e3a6118e48",
            "5d90d46b419b4e17acbc4aa4cb352f66",
            "4dc4f5799705432089932c6d1841afa4",
            "56fa004d19124ef78f26b2468e46994f",
            "525caf9f42af4a0bbc5ad3af0174defb",
            "7813d33529ee42e09bf8c28edd21e2f3",
            "c0ac7292a3ad4fbf87deba4a69cbb71f"
          ]
        },
        "outputId": "b2773f50-1689-466f-d9b1-3335d0d74230"
      },
      "source": [
        "train_params = []\n",
        "if STAGE == 1:\n",
        "\n",
        "    model = attentionModel(num_classes=NUM_CLASSES, mem_size=MEMSIZE)\n",
        "    model.train(False)\n",
        "    for params in model.parameters():\n",
        "        params.requires_grad = False\n",
        "else:\n",
        "\n",
        "    model = attentionModel(num_classes=NUM_CLASSES, mem_size=MEMSIZE)\n",
        "    model.load_state_dict(torch.load(stage1_dict))\n",
        "    model.train(False)\n",
        "    for params in model.parameters():\n",
        "        params.requires_grad = False\n",
        "    #\n",
        "    for params in model.resNet.layer4[0].conv1.parameters():\n",
        "        params.requires_grad = True\n",
        "        train_params += [params]\n",
        "\n",
        "    for params in model.resNet.layer4[0].conv2.parameters():\n",
        "        params.requires_grad = True\n",
        "        train_params += [params]\n",
        "\n",
        "    for params in model.resNet.layer4[1].conv1.parameters():\n",
        "        params.requires_grad = True\n",
        "        train_params += [params]\n",
        "\n",
        "    for params in model.resNet.layer4[1].conv2.parameters():\n",
        "        params.requires_grad = True\n",
        "        train_params += [params]\n",
        "\n",
        "    for params in model.resNet.layer4[2].conv1.parameters():\n",
        "        params.requires_grad = True\n",
        "        train_params += [params]\n",
        "    #\n",
        "    for params in model.resNet.layer4[2].conv2.parameters():\n",
        "        params.requires_grad = True\n",
        "        train_params += [params]\n",
        "    #\n",
        "    for params in model.resNet.fc.parameters():\n",
        "        params.requires_grad = True\n",
        "        train_params += [params]\n",
        "\n",
        "    model.resNet.layer4[0].conv1.train(True)\n",
        "    model.resNet.layer4[0].conv2.train(True)\n",
        "    model.resNet.layer4[1].conv1.train(True)\n",
        "    model.resNet.layer4[1].conv2.train(True)\n",
        "    model.resNet.layer4[2].conv1.train(True)\n",
        "    model.resNet.layer4[2].conv2.train(True)\n",
        "    model.resNet.fc.train(True)\n",
        "\n",
        "for params in model.lstm_cell.parameters():\n",
        "    params.requires_grad = True\n",
        "    train_params += [params]\n",
        "\n",
        "for params in model.classifier.parameters():\n",
        "    params.requires_grad = True\n",
        "    train_params += [params]\n"
      ],
      "execution_count": 18,
      "outputs": [
        {
          "output_type": "stream",
          "text": [
            "Downloading: \"https://download.pytorch.org/models/resnet34-333f7ec4.pth\" to /root/.cache/torch/checkpoints/resnet34-333f7ec4.pth\n"
          ],
          "name": "stderr"
        },
        {
          "output_type": "display_data",
          "data": {
            "application/vnd.jupyter.widget-view+json": {
              "model_id": "d4a43f2cd3904acc97761b0527a70bdd",
              "version_minor": 0,
              "version_major": 2
            },
            "text/plain": [
              "HBox(children=(FloatProgress(value=0.0, max=87306240.0), HTML(value='')))"
            ]
          },
          "metadata": {
            "tags": []
          }
        },
        {
          "output_type": "stream",
          "text": [
            "\n"
          ],
          "name": "stdout"
        }
      ]
    },
    {
      "cell_type": "code",
      "metadata": {
        "id": "-Y7F_OiSU7a4",
        "colab_type": "code",
        "outputId": "c7c626d5-7f91-46d5-f260-46417a6fed84",
        "colab": {
          "base_uri": "https://localhost:8080/",
          "height": 93
        }
      },
      "source": [
        "model.lstm_cell.train(True)\n",
        "\n",
        "model.classifier.train(True)\n",
        "\n",
        "model = model.to(DEVICE)\n",
        "\n",
        "loss_fn = nn.CrossEntropyLoss()\n",
        "\n",
        "optimizer_fn = torch.optim.Adam(train_params, lr=lr1, weight_decay=4e-5, eps=1e-4)\n",
        "\n",
        "optim_scheduler = torch.optim.lr_scheduler.MultiStepLR(optimizer_fn, milestones=decay_step, gamma=decay_factor)\n",
        "\n",
        "\n",
        "train_iter = 0\n",
        "min_accuracy = 0\n",
        "\n",
        "\n",
        "for epoch in range(numEpochs):\n",
        "  epoch_loss = 0\n",
        "  numCorrTrain = 0\n",
        "  trainSamples = 0\n",
        "  iterPerEpoch = 0\n",
        "  model.lstm_cell.train(True)\n",
        "  model.classifier.train(True)\n",
        "  writer.add_scalar('lr', optimizer_fn.param_groups[0]['lr'], epoch+1)\n",
        "  if STAGE == 2:\n",
        "      model.resNet.layer4[0].conv1.train(True)\n",
        "      model.resNet.layer4[0].conv2.train(True)\n",
        "      model.resNet.layer4[1].conv1.train(True)\n",
        "      model.resNet.layer4[1].conv2.train(True)\n",
        "      model.resNet.layer4[2].conv1.train(True)\n",
        "      model.resNet.layer4[2].conv2.train(True)\n",
        "      model.resNet.fc.train(True)\n",
        "  for i, (inputs, targets) in enumerate(train_loader):\n",
        "      train_iter += 1\n",
        "      iterPerEpoch += 1\n",
        "      optimizer_fn.zero_grad()\n",
        "      inputVariable = Variable(inputs.permute(1, 0, 2, 3, 4).to(DEVICE))\n",
        "      labelVariable = Variable(targets.to(DEVICE))\n",
        "      trainSamples += inputs.size(0)\n",
        "      output_label, _ = model(inputVariable)\n",
        "      loss = loss_fn(output_label, labelVariable)\n",
        "      loss.backward()\n",
        "      optimizer_fn.step()\n",
        "      _, predicted = torch.max(output_label.data, 1)\n",
        "      numCorrTrain += (predicted == targets.to(DEVICE)).sum()\n",
        "      # see if loss.item() has to be multiplied by inputs.size(0)\n",
        "      epoch_loss += loss.item()\n",
        "  avg_loss = epoch_loss/iterPerEpoch\n",
        "  trainAccuracy = (numCorrTrain / trainSamples) * 100\n",
        "  optim_scheduler.step()\n",
        "\n",
        "  print('Train: Epoch = {} | Loss = {} | Accuracy = {}'.format(epoch+1, avg_loss, trainAccuracy))\n",
        "  writer.add_scalar('train/epoch_loss', avg_loss, epoch+1)\n",
        "  writer.add_scalar('train/accuracy', trainAccuracy, epoch+1)\n",
        "  if val_data_dir is not None:\n",
        "      if (epoch+1) % 1 == 0:\n",
        "          model.train(False)\n",
        "          val_loss_epoch = 0\n",
        "          val_iter = 0\n",
        "          val_samples = 0\n",
        "          numCorr = 0\n",
        "          for j, (inputs, targets) in enumerate(val_loader):\n",
        "              val_iter += 1\n",
        "              val_samples += inputs.size(0)\n",
        "              inputVariable = Variable(inputs.permute(1, 0, 2, 3, 4).cuda(), volatile=True)\n",
        "              labelVariable = Variable(targets.cuda(async=True), volatile=True)\n",
        "              output_label, _ = model(inputVariable)\n",
        "              val_loss = loss_fn(output_label, labelVariable)\n",
        "              val_loss_epoch += val_loss.data[0]\n",
        "              _, predicted = torch.max(output_label.data, 1)\n",
        "              numCorr += (predicted == targets.cuda()).sum()\n",
        "          val_accuracy = (numCorr / val_samples) * 100\n",
        "          avg_val_loss = val_loss_epoch / val_iter\n",
        "          print('Val: Epoch = {} | Loss {} | Accuracy = {}'.format(epoch + 1, avg_val_loss, val_accuracy))\n",
        "          writer.add_scalar('val/epoch_loss', avg_val_loss, epoch + 1)\n",
        "          writer.add_scalar('val/accuracy', val_accuracy, epoch + 1)\n",
        "          val_log_loss.write('Val Loss after {} epochs = {}\\n'.format(epoch + 1, avg_val_loss))\n",
        "          val_log_acc.write('Val Accuracy after {} epochs = {}%\\n'.format(epoch + 1, val_accuracy))\n",
        "          if val_accuracy > min_accuracy:\n",
        "              save_path_model = (model_folder + '/model_rgb_state_dict.pth')\n",
        "              torch.save(model.state_dict(), save_path_model)\n",
        "              min_accuracy = val_accuracy\n",
        "      else:\n",
        "          if (epoch+1) % 10 == 0:\n",
        "              save_path_model = (model_folder + '/model_rgb_state_dict_epoch' + str(epoch+1) + '.pth')\n",
        "              torch.save(model.state_dict(), save_path_model)\n",
        "  \n",
        "\n",
        "\n"
      ],
      "execution_count": 19,
      "outputs": [
        {
          "output_type": "stream",
          "text": [
            "Train: Epoch = 1 | Loss = 4.0974789966236465 | Accuracy = 0\n"
          ],
          "name": "stdout"
        },
        {
          "output_type": "stream",
          "text": [
            "/pytorch/aten/src/ATen/native/BinaryOps.cpp:81: UserWarning: Integer division of tensors using div or / is deprecated, and in a future release div will perform true division as in Python 3. Use true_divide or floor_divide (// in Python) instead.\n"
          ],
          "name": "stderr"
        },
        {
          "output_type": "stream",
          "text": [
            "Train: Epoch = 2 | Loss = 4.053090312264183 | Accuracy = 0\n",
            "Train: Epoch = 3 | Loss = 3.989518469030207 | Accuracy = 0\n"
          ],
          "name": "stdout"
        }
      ]
    },
    {
      "cell_type": "code",
      "metadata": {
        "id": "aO1OJCvR9-gH",
        "colab_type": "code",
        "colab": {}
      },
      "source": [
        "train_log_loss.close()\n",
        "train_log_acc.close()\n",
        "val_log_acc.close()\n",
        "val_log_loss.close()\n",
        "writer.export_scalars_to_json(model_folder + \"/all_scalars.json\")\n",
        "writer.close()"
      ],
      "execution_count": 0,
      "outputs": []
    }
  ]
}